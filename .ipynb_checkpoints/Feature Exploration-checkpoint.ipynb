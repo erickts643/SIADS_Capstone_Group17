{
 "cells": [
  {
   "cell_type": "code",
   "execution_count": 1,
   "id": "9325ba5d-ea25-4790-8cc9-b44d56a3d113",
   "metadata": {},
   "outputs": [],
   "source": [
    "# !pip install yahoo_fin"
   ]
  },
  {
   "cell_type": "code",
   "execution_count": 2,
   "id": "0978283c-30b4-48d5-8082-548f9a5d7dec",
   "metadata": {},
   "outputs": [],
   "source": [
    "from yahoo_fin import stock_info as finance\n",
    "from bs4 import BeautifulSoup\n",
    "import requests\n",
    "import pandas as pd\n",
    "import numpy as np"
   ]
  },
  {
   "cell_type": "code",
   "execution_count": 3,
   "id": "0ee5970d-7223-4116-a0d3-173c2cb4006d",
   "metadata": {},
   "outputs": [
    {
     "data": {
      "text/html": [
       "<div>\n",
       "<style scoped>\n",
       "    .dataframe tbody tr th:only-of-type {\n",
       "        vertical-align: middle;\n",
       "    }\n",
       "\n",
       "    .dataframe tbody tr th {\n",
       "        vertical-align: top;\n",
       "    }\n",
       "\n",
       "    .dataframe thead th {\n",
       "        text-align: right;\n",
       "    }\n",
       "</style>\n",
       "<table border=\"1\" class=\"dataframe\">\n",
       "  <thead>\n",
       "    <tr style=\"text-align: right;\">\n",
       "      <th></th>\n",
       "      <th>open</th>\n",
       "      <th>high</th>\n",
       "      <th>low</th>\n",
       "      <th>close</th>\n",
       "      <th>adjclose</th>\n",
       "      <th>volume</th>\n",
       "      <th>ticker</th>\n",
       "    </tr>\n",
       "  </thead>\n",
       "  <tbody>\n",
       "    <tr>\n",
       "      <th>2020-01-02</th>\n",
       "      <td>323.540009</td>\n",
       "      <td>324.890015</td>\n",
       "      <td>322.529999</td>\n",
       "      <td>324.869995</td>\n",
       "      <td>306.295258</td>\n",
       "      <td>59151200</td>\n",
       "      <td>SPY</td>\n",
       "    </tr>\n",
       "    <tr>\n",
       "      <th>2020-01-03</th>\n",
       "      <td>321.160004</td>\n",
       "      <td>323.640015</td>\n",
       "      <td>321.100006</td>\n",
       "      <td>322.410004</td>\n",
       "      <td>303.975922</td>\n",
       "      <td>77709700</td>\n",
       "      <td>SPY</td>\n",
       "    </tr>\n",
       "    <tr>\n",
       "      <th>2020-01-06</th>\n",
       "      <td>320.489990</td>\n",
       "      <td>323.730011</td>\n",
       "      <td>320.359985</td>\n",
       "      <td>323.640015</td>\n",
       "      <td>305.135559</td>\n",
       "      <td>55653900</td>\n",
       "      <td>SPY</td>\n",
       "    </tr>\n",
       "    <tr>\n",
       "      <th>2020-01-07</th>\n",
       "      <td>323.019989</td>\n",
       "      <td>323.540009</td>\n",
       "      <td>322.239990</td>\n",
       "      <td>322.730011</td>\n",
       "      <td>304.277618</td>\n",
       "      <td>40496400</td>\n",
       "      <td>SPY</td>\n",
       "    </tr>\n",
       "    <tr>\n",
       "      <th>2020-01-08</th>\n",
       "      <td>322.940002</td>\n",
       "      <td>325.779999</td>\n",
       "      <td>322.670013</td>\n",
       "      <td>324.450012</td>\n",
       "      <td>305.899292</td>\n",
       "      <td>68296000</td>\n",
       "      <td>SPY</td>\n",
       "    </tr>\n",
       "  </tbody>\n",
       "</table>\n",
       "</div>"
      ],
      "text/plain": [
       "                  open        high         low       close    adjclose  \\\n",
       "2020-01-02  323.540009  324.890015  322.529999  324.869995  306.295258   \n",
       "2020-01-03  321.160004  323.640015  321.100006  322.410004  303.975922   \n",
       "2020-01-06  320.489990  323.730011  320.359985  323.640015  305.135559   \n",
       "2020-01-07  323.019989  323.540009  322.239990  322.730011  304.277618   \n",
       "2020-01-08  322.940002  325.779999  322.670013  324.450012  305.899292   \n",
       "\n",
       "              volume ticker  \n",
       "2020-01-02  59151200    SPY  \n",
       "2020-01-03  77709700    SPY  \n",
       "2020-01-06  55653900    SPY  \n",
       "2020-01-07  40496400    SPY  \n",
       "2020-01-08  68296000    SPY  "
      ]
     },
     "execution_count": 3,
     "metadata": {},
     "output_type": "execute_result"
    }
   ],
   "source": [
    "finance.get_data('SPY', '20200101', '20230101').head()"
   ]
  },
  {
   "cell_type": "code",
   "execution_count": 4,
   "id": "050933e4-15ca-432d-a971-82ff8013b757",
   "metadata": {},
   "outputs": [],
   "source": [
    "def return_etf_holdings(ticker = 'SPY'):\n",
    "\n",
    "    headers = requests.utils.default_headers()\n",
    "    headers['User-Agent'] = 'Mozilla/5.0 (X11; Linux x86_64) AppleWebKit/537.36 (KHTML, like Gecko) Chrome/56.0.2924.87 Safari/537.36'\n",
    "    res = requests.get(\"https://www.zacks.com/funds/etf/%s/holding\"%ticker,  headers=headers)\n",
    "    soup = BeautifulSoup(res.text, 'html.parser')\n",
    "\n",
    "    js = None\n",
    "    for script in soup.find_all(\"script\"):\n",
    "        if \"etf_holdings.formatted_data = \" in str(script):\n",
    "    #    if \"etf_holdings\" in str(script):\n",
    "            js = str(script)\n",
    "    holdings = []\n",
    "    # for line in js.text.split(\"[\"):\n",
    "    for line in js.split(\"[\"):\n",
    "        if \"rel=\" in line:\n",
    "            line_soup = BeautifulSoup(line, 'html.parser')\n",
    "            #holding = line_soup.find(\"a\")[\"alt\"].strip('\\\\\"')\n",
    "            holding = line_soup.find('a')['rel'][0].strip('\\\\\"')\n",
    "            holdings.append(holding)\n",
    "\n",
    "    return holdings"
   ]
  },
  {
   "cell_type": "code",
   "execution_count": null,
   "id": "ec9f5ace-f8b7-441a-8200-fb877e1c9b1d",
   "metadata": {},
   "outputs": [],
   "source": []
  },
  {
   "cell_type": "code",
   "execution_count": null,
   "id": "865553d2-4b9f-4474-8c47-8b5070f6ad77",
   "metadata": {},
   "outputs": [],
   "source": []
  },
  {
   "cell_type": "code",
   "execution_count": 5,
   "id": "cd2dd8c4-ce3b-41bb-a96c-dd495929c607",
   "metadata": {},
   "outputs": [],
   "source": [
    "# Short sale volume\n",
    "\n",
    "class ShortSaleVolume:\n",
    "    \n",
    "    bucket = 'mads-capstone-2023' \n",
    "    data_key = 'FINRA_Short_Sale_Data.csv' \n",
    "    data_location = 's3://{}/{}'.format(bucket, data_key) \n",
    "    \n",
    "    def __init__(self):\n",
    "        self.has_downloaded = False \n",
    "    \n",
    "    # Function to download data from S3\n",
    "    def get_data(self):\n",
    "        if not self.has_downloaded:\n",
    "            self.df = pd.read_csv(self.data_location)\n",
    "            self.df.drop(['Unnamed: 0'], axis = 1, inplace = True)\n",
    "            self.df['shortvolume'] = self.df['totalvolume'] - self.df['shortvolume']\n",
    "            self.df['longvolume'] = self.df['totalvolume'] - self.df['shortvolume']\n",
    "            self.df['short_ratio'] = 1 - self.df['short_ratio']\n",
    "            self.has_downloaded = True\n",
    "        else:\n",
    "            pass\n",
    "        \n",
    "    def short_ratio(self, ticker):\n",
    "        # Check if data has been downloaded locally\n",
    "        self.get_data()\n",
    "        \n",
    "        # Return data for ticker \n",
    "        df_ = self.df[self.df['ticker'] == ticker].copy()\n",
    "        df_['date'] = pd.to_datetime(df_['date'])\n",
    "        df_.set_index('date', inplace=True)\n",
    "        return df_\n",
    "\n",
    "    \n",
    "    def calculate_short_ratio_means(self, ticker='GME', include_diff=False, include_roc=False):\n",
    "        df = self.short_ratio(ticker)\n",
    "        periods = [1, 5, 10, 21, 42]\n",
    "        for period in periods:\n",
    "            df[f'short_ratio_mean_{period}'] = df['short_ratio'].rolling(window=period).mean()\n",
    "\n",
    "        if include_diff:\n",
    "            for i in range(len(periods)):\n",
    "                for j in range(i + 1, len(periods)):\n",
    "                    df[f'short_ratio_mean_{periods[i]}_div_mean_{periods[j]}'] = df[f'short_ratio_mean_{periods[i]}'] / df[f'short_ratio_mean_{periods[j]}']\n",
    "                    df[f'short_ratio_mean_{periods[j]}_div_mean_{periods[i]}'] = df[f'short_ratio_mean_{periods[j]}'] / df[f'short_ratio_mean_{periods[i]}']\n",
    "\n",
    "        if include_roc:\n",
    "            # print('working')\n",
    "            for col in df.columns:\n",
    "                if 'short_ratio_mean_' in col:\n",
    "                    df[f'{col}_roc'] = df[col].pct_change() * 100\n",
    "\n",
    "        result_df = df[[col for col in df.columns if 'short_ratio_mean_' in col or ('roc' in col and 'short_ratio_mean_' in col)]]\n",
    "        return result_df\n",
    "\n",
    "    def calculate_short_exempt_means(self, ticker='GME', include_diff=False, include_roc=False):\n",
    "        df = self.short_ratio(ticker)\n",
    "        periods = [1, 5, 10, 21, 42]\n",
    "\n",
    "        df['short_exempt_percent'] = (df['shortexemptvolume'] / df['totalvolume'])\n",
    "\n",
    "        for period in periods:\n",
    "            df[f'short_exempt_percent_mean_{period}'] = df['short_exempt_percent'].rolling(window=period).mean()\n",
    "\n",
    "        if include_diff:\n",
    "            for i in range(len(periods)):\n",
    "                for j in range(i + 1, len(periods)):\n",
    "                    df[f'short_exempt_percent_mean_{periods[i]}_div_mean_{periods[j]}'] = df[f'short_exempt_percent_mean_{periods[i]}'] / df[f'short_exempt_percent_mean_{periods[j]}']\n",
    "                    df[f'short_exempt_percent_mean_{periods[j]}_div_mean_{periods[i]}'] = df[f'short_exempt_percent_mean_{periods[j]}'] / df[f'short_exempt_percent_mean_{periods[i]}']\n",
    "\n",
    "        if include_roc:\n",
    "            for col in df.columns:\n",
    "                if 'short_exempt_percent_mean_' in col:\n",
    "                    df[f'{col}_roc'] = df[col].pct_change() * 100\n",
    "\n",
    "        result_df = df[[col for col in df.columns if 'short_exempt_percent_mean_' in col or ('roc' in col and 'short_exempt_percent_mean_' in col)]]\n",
    "        return result_df\n",
    "    \n",
    "    def calculate_investment_values(self, ticker='GME', days=20, investment_amount=1_000_000, include_diff=False, include_roc=False):\n",
    "        df = self.short_ratio(ticker)\n",
    "\n",
    "        # Retrieve closing prices from finance API\n",
    "        closing_prices = finance.get_data(ticker, df.index.min(), df.index.max())['close']\n",
    "        \n",
    "        # Merge closing prices with short ratio data\n",
    "        df = df.merge(closing_prices, left_index=True, right_index=True, how='left')\n",
    "\n",
    "        # Ensure short_exempt_percent column is calculated before its usage\n",
    "        df['short_exempt_percent'] = df['shortexemptvolume'] / df['totalvolume']\n",
    "\n",
    "        # Calculate net short volume and net short shares\n",
    "        df['net_short_volume'] = df['shortvolume'] - df['longvolume']\n",
    "        df['net_short_shares'] = investment_amount / df['close']\n",
    "\n",
    "        # Calculate cumulative net short volume and short exempt volume\n",
    "        df['cumulative_net_short'] = (df['net_short_volume'] * df['net_short_shares']).rolling(window=days).sum()\n",
    "        df['cumulative_short_exempt'] = (df['short_exempt_percent'] * df['net_short_shares']).rolling(window=days).sum()\n",
    "\n",
    "        # Calculate the cumulative values as a percent of total volume\n",
    "        df['cumulative_net_short_percent'] = df['cumulative_net_short'] / (df['totalvolume'] * df['net_short_shares']).rolling(window=days).sum() * 100\n",
    "        df['cumulative_short_exempt_percent'] = df['cumulative_short_exempt'] / (df['totalvolume'] * df['net_short_shares']).rolling(window=days).sum() * 100\n",
    "\n",
    "        if include_diff:\n",
    "            periods = [1, 5, 10, 21, 42]\n",
    "            for i in range(len(periods)):\n",
    "                for j in range(i + 1, len(periods)):\n",
    "                    df[f'cumulative_net_short_percent_{periods[i]}_div_{periods[j]}'] = df['cumulative_net_short_percent'].rolling(window=periods[i]).mean() / df['cumulative_net_short_percent'].rolling(window=periods[j]).mean()\n",
    "                    df[f'cumulative_short_exempt_percent_{periods[i]}_div_{periods[j]}'] = df['cumulative_short_exempt_percent'].rolling(window=periods[i]).mean() / df['cumulative_short_exempt_percent'].rolling(window=periods[j]).mean()\n",
    "\n",
    "        if include_roc:\n",
    "            for col in ['cumulative_net_short_percent', 'cumulative_short_exempt_percent']:\n",
    "                df[f'{col}_roc'] = df[col].pct_change() * 100\n",
    "\n",
    "        selected_cols = ['cumulative_net_short_percent', 'cumulative_short_exempt_percent']\n",
    "        if include_diff or include_roc:\n",
    "            selected_cols += [col for col in df.columns if 'cumulative_net_short_percent' in col or 'cumulative_short_exempt_percent' in col]\n",
    "\n",
    "        return df[selected_cols]\n",
    "\n",
    "# Example usage \n",
    "analysis = ShortSaleVolume()\n",
    "df_gme_short_ratio = analysis.calculate_short_ratio_means('GME', include_roc = False)\n",
    "df_gme_short_sale_exempt = analysis.calculate_short_exempt_means('GME', include_roc = False)\n",
    "df_gme_investment_values = analysis.calculate_investment_values('GME', include_roc = False)\n"
   ]
  },
  {
   "cell_type": "code",
   "execution_count": null,
   "id": "523a7341-ebf6-404e-94db-a0dd9e09b620",
   "metadata": {},
   "outputs": [],
   "source": [
    "df_gme_short_ratio.head()"
   ]
  },
  {
   "cell_type": "code",
   "execution_count": null,
   "id": "f7a9716c-e00a-4ecb-ad9a-ee4f47e52dff",
   "metadata": {},
   "outputs": [],
   "source": [
    "df_gme_short_sale_exempt.head()"
   ]
  },
  {
   "cell_type": "code",
   "execution_count": null,
   "id": "d0e95d29-a9f7-4dba-8eba-f8d749486e78",
   "metadata": {},
   "outputs": [],
   "source": [
    "df_gme_investment_values"
   ]
  },
  {
   "cell_type": "code",
   "execution_count": 11,
   "id": "f6c91a6f-ffe0-4b48-89ff-2153de5eba41",
   "metadata": {},
   "outputs": [],
   "source": [
    "df_gme_investment_values.dropna()['cumulative_net_short_percent'].plot()"
   ]
  },
  {
   "cell_type": "code",
   "execution_count": null,
   "id": "bcbb66ba-58f5-423d-84ce-6081a6d08113",
   "metadata": {},
   "outputs": [],
   "source": []
  },
  {
   "cell_type": "code",
   "execution_count": null,
   "id": "75b05dd4-d16b-44c1-8e3e-f8ae683ffd2b",
   "metadata": {},
   "outputs": [],
   "source": []
  },
  {
   "cell_type": "code",
   "execution_count": 6,
   "id": "b1781625-c986-46de-b4e9-7b12646baeeb",
   "metadata": {},
   "outputs": [],
   "source": [
    "import psycopg2\n",
    "import pandas as pd\n",
    "\n",
    "class GreekAnalysis:\n",
    "    def __init__(self):\n",
    "        self.db_params = {\n",
    "            'user': 'postgres',\n",
    "            'password': 'Data2023',\n",
    "            'host': 'mads-capstone.cmohac77hep9.eu-north-1.rds.amazonaws.com',\n",
    "            'port': 5432,\n",
    "            'database': 'mads'\n",
    "        }\n",
    "\n",
    "    def get_greeks_data(self, ticker, greek_type):\n",
    "        with psycopg2.connect(**self.db_params) as db_connection:\n",
    "            db_connection.autocommit = True\n",
    "            with db_connection.cursor() as cursor:\n",
    "                select_query = \"SELECT * FROM greeks3 WHERE ticker=%s AND GREEK=%s\"\n",
    "                cursor.execute(select_query, (ticker, greek_type))\n",
    "                rows = cursor.fetchall()\n",
    "                df = pd.DataFrame(rows, columns=[\"ID\", \"DATE\", \"INCREMENT\", \"VALUE\", \"TICKER\", \"GREEK\", \"OPTION_TYPE\"])\n",
    "        return df\n",
    "\n",
    "    def analyze_data(self, df, greek_type):\n",
    "        merged_df = self._prepare_merged_dataframe(df, greek_type)\n",
    "        merged_df[f'{greek_type}_Skew'] = merged_df[f'{greek_type}_Call'] / merged_df[f'{greek_type}_Put']\n",
    "        merged_df[f'{greek_type}_Time_Spread'] = merged_df[f'{greek_type}_30'] / merged_df[f'{greek_type}_90']\n",
    "        return merged_df[[f'{greek_type}_30', f'{greek_type}_Skew', f'{greek_type}_Time_Spread']]\n",
    "\n",
    "    def _prepare_merged_dataframe(self, df, greek_type):\n",
    "        inc30_all = df[(df['INCREMENT'] == 30) & (df['OPTION_TYPE'] == 'all')]\n",
    "        inc30_call = df[(df['INCREMENT'] == 30) & (df['OPTION_TYPE'] == 'call')]\n",
    "        inc30_put = df[(df['INCREMENT'] == 30) & (df['OPTION_TYPE'] == 'put')]\n",
    "        inc90_all = df[(df['INCREMENT'] == 90) & (df['OPTION_TYPE'] == 'all')]\n",
    "\n",
    "        merged_df = pd.DataFrame(index=inc30_all['DATE'].unique())\n",
    "        merged_df[f'{greek_type}_30'] = inc30_all.groupby('DATE')['VALUE'].mean()\n",
    "        merged_df[f'{greek_type}_Call'] = inc30_call.groupby('DATE')['VALUE'].mean()\n",
    "        merged_df[f'{greek_type}_Put'] = inc30_put.groupby('DATE')['VALUE'].mean()\n",
    "        merged_df[f'{greek_type}_90'] = inc90_all.groupby('DATE')['VALUE'].mean()\n",
    "\n",
    "        return merged_df\n",
    "\n",
    "    def _add_rolling_features(self, df, greek_type):\n",
    "        periods = [1, 5, 10, 21, 42]\n",
    "        for col in [f'{greek_type}_30', f'{greek_type}_Skew', f'{greek_type}_Time_Spread']:\n",
    "            for period in periods:\n",
    "                df[f'{col}_rolling_{period}'] = df[col].rolling(window=period).mean()\n",
    "        return df\n",
    "\n",
    "    def _add_z_score_features(self, df, greek_type):\n",
    "        rolling_window = 90\n",
    "        for col in [f'{greek_type}_30', f'{greek_type}_Skew', f'{greek_type}_Time_Spread']:\n",
    "            df[f'{col}_z_score'] = (df[col] - df[col].rolling(window=rolling_window).mean()) / df[col].rolling(window=rolling_window).std()\n",
    "        return df\n",
    "\n",
    "    def get_analysis_for_ticker(self, ticker, greek_type='iv', include_rolling=False, include_z_score=False):\n",
    "        df = self.get_greeks_data(ticker, greek_type)\n",
    "        analysis_df = self.analyze_data(df, greek_type)\n",
    "        if include_rolling:\n",
    "            analysis_df = self._add_rolling_features(analysis_df, greek_type)\n",
    "        if include_z_score:\n",
    "            analysis_df = self._add_z_score_features(analysis_df, greek_type)\n",
    "        return analysis_df.sort_index()\n",
    "\n",
    "# Example usage:\n",
    "analysis = GreekAnalysis()\n",
    "df_gme_iv = analysis.get_analysis_for_ticker('GME', 'iv', include_rolling = False, include_z_score = True)\n",
    "df_gme_gamma = analysis.get_analysis_for_ticker('GME', 'gamma', include_rolling = False, include_z_score = True)\n"
   ]
  },
  {
   "cell_type": "code",
   "execution_count": 13,
   "id": "d8d47d09-12dc-4703-813b-081663849583",
   "metadata": {},
   "outputs": [],
   "source": [
    "df_gme_iv.tail()"
   ]
  },
  {
   "cell_type": "code",
   "execution_count": 14,
   "id": "e5854d7b-734b-4fbf-b261-98b7cc1ff957",
   "metadata": {},
   "outputs": [],
   "source": [
    "df_gme_gamma.tail()"
   ]
  },
  {
   "cell_type": "code",
   "execution_count": 8,
   "id": "9f6f10ca-fd4b-4daa-b75b-3e52b31bbef7",
   "metadata": {},
   "outputs": [],
   "source": [
    "class VolatilityAnalysis(GreekAnalysis):\n",
    "    def __init__(self):\n",
    "        super().__init__()\n",
    "        self.sdate = '20160101'\n",
    "        self.edate = '20231110'\n",
    "        \n",
    "    # Function to calculate HV for a given OHLCV DataFrame\n",
    "    def calculate_hv(self, ohlcv_df, look_forward=30):\n",
    "        # Calculate daily returns\n",
    "        daily_returns = ohlcv_df['close'].pct_change()\n",
    "\n",
    "        # Compute rolling standard deviation of daily returns\n",
    "        rolling_std = daily_returns.rolling(window = look_forward).std()\n",
    "\n",
    "        # HV is the annualized standard deviation\n",
    "        hv = rolling_std * np.sqrt(252)\n",
    "\n",
    "        return hv\n",
    "\n",
    "    def compare_iv_hv(self, ticker, shift_hv = False):\n",
    "        \n",
    "        # Get ticker data\n",
    "        ohlcv_df = finance.get_data(ticker, self.sdate, self.edate)\n",
    "        \n",
    "        # Pull IV30 data\n",
    "        iv30_df = self.get_greeks_data(ticker, 'iv')\n",
    "        iv30_df = iv30_df[(iv30_df['GREEK'] == 'iv') & (iv30_df['OPTION_TYPE'] == 'all') & (iv30_df['INCREMENT'] == 30)].copy()\n",
    "        iv30_df['date'] = pd.to_datetime(iv30_df['DATE'])\n",
    "        iv30_df.rename({'VALUE':'iv30'}, inplace = True, axis = 1)\n",
    "\n",
    "        # Calculate HV\n",
    "        hv_df = self.calculate_hv(ohlcv_df)\n",
    "\n",
    "        # Align and compare IV30 and HV\n",
    "        # Ensure iv30_df and hv_df have the same date index\n",
    "        comparison_df = pd.DataFrame()\n",
    "        comparison_df['IV30'] = iv30_df.set_index('date').sort_index()['iv30']\n",
    "        \n",
    "        # Are we shifting HV? \n",
    "        if shift_hv:\n",
    "            comparison_df['HV'] = hv_df.shift(-30)  # Adjust as necessary\n",
    "        else:\n",
    "            comparison_df['HV'] = hv_df\n",
    "        \n",
    "        # Add to dataframe and return \n",
    "        comparison_df['IV_HV_Difference'] = comparison_df['IV30'] - comparison_df['HV']\n",
    "\n",
    "        return comparison_df['IV_HV_Difference']\n",
    "    \n",
    "    def calculate_vwap(self, ohlcv_df, rolling_window = 90):  \n",
    "        ohlcv_df['Typical_Price'] = (ohlcv_df['high'] + ohlcv_df['low'] + ohlcv_df['close']) / 3\n",
    "        ohlcv_df['TP_Volume'] = ohlcv_df['Typical_Price'] * ohlcv_df['volume']\n",
    "\n",
    "        # Calculate rolling TP_Volume and rolling volume\n",
    "        ohlcv_df['Rolling_TP_Volume'] = ohlcv_df['TP_Volume'].rolling(window=rolling_window).sum()\n",
    "        ohlcv_df['Rolling_Volume'] = ohlcv_df['volume'].rolling(window=rolling_window).sum()\n",
    "\n",
    "        # Compute rolling VWAP\n",
    "        ohlcv_df['VWAP'] = ohlcv_df['Rolling_TP_Volume'] / ohlcv_df['Rolling_Volume']\n",
    "\n",
    "        # Calculate the percentage difference between close and VWAP\n",
    "        ohlcv_df['vwap_close_pct'] = ohlcv_df['close'] / ohlcv_df['VWAP']\n",
    "\n",
    "        return ohlcv_df\n",
    "\n",
    "    def compare_price_to_vwap(self, ticker = None, ohlcv_df = None):\n",
    "        \n",
    "        # Optionally, grab data\n",
    "        if not isinstance(ohlcv_df, pd.DataFrame):\n",
    "            ohlcv_df = finance.get_data(ticker, self.sdate, self.edate)\n",
    "            \n",
    "        ohlcv_df = self.calculate_vwap(ohlcv_df)\n",
    "        return ohlcv_df['vwap_close_pct']\n",
    "    \n",
    "# Example usage\n",
    "analysis = VolatilityAnalysis()\n",
    "df_iv_hv = analysis.compare_iv_hv('GME')\n",
    "df_vwap = analysis.compare_price_to_vwap('GME')"
   ]
  },
  {
   "cell_type": "code",
   "execution_count": 16,
   "id": "bae584c5-8e11-4c5a-9f6c-ef9da2725498",
   "metadata": {},
   "outputs": [],
   "source": [
    "df_iv_hv.dropna().head()"
   ]
  },
  {
   "cell_type": "code",
   "execution_count": 17,
   "id": "e39813da-a4d7-4429-9e0a-925a37eb3244",
   "metadata": {},
   "outputs": [],
   "source": [
    "df_vwap"
   ]
  },
  {
   "cell_type": "code",
   "execution_count": null,
   "id": "7ff20045-d9f6-4a3c-9926-06a537f5bd31",
   "metadata": {},
   "outputs": [],
   "source": []
  },
  {
   "cell_type": "code",
   "execution_count": 18,
   "id": "7800c60c-cd0d-486e-b71d-e331e0e86d5f",
   "metadata": {},
   "outputs": [],
   "source": [
    "## Create dataframe of training data\n",
    "\n",
    "# Short sale ratio\n",
    "# Short exempt ratio \n",
    "# IV / Gamma\n",
    "# Vol analysis "
   ]
  },
  {
   "cell_type": "code",
   "execution_count": 9,
   "id": "22fb19be-8c0c-460f-8da5-8805389927b8",
   "metadata": {},
   "outputs": [],
   "source": [
    "# Instantiate needed classes\n",
    "short_sale = ShortSaleVolume()\n",
    "greeks = GreekAnalysis()\n",
    "vol = VolatilityAnalysis()"
   ]
  },
  {
   "cell_type": "code",
   "execution_count": 10,
   "id": "01147a08-0f0b-4b5f-a579-2a0c83ff9a97",
   "metadata": {},
   "outputs": [
    {
     "data": {
      "text/plain": [
       "['EMN', 'IP', 'TWI', 'MTSI', 'LOW']"
      ]
     },
     "execution_count": 10,
     "metadata": {},
     "output_type": "execute_result"
    }
   ],
   "source": [
    "import random\n",
    "\n",
    "tickers = return_etf_holdings('SPTM')\n",
    "tickers = random.sample(tickers, k = 100)\n",
    "tickers.append('GME')\n",
    "tickers = list(set(tickers))\n",
    "tickers[:5]"
   ]
  },
  {
   "cell_type": "code",
   "execution_count": 11,
   "id": "c489cd23-852a-4d27-b101-5904d3c7bc25",
   "metadata": {},
   "outputs": [
    {
     "name": "stderr",
     "output_type": "stream",
     "text": [
      "100%|██████████| 101/101 [08:25<00:00,  5.01s/it]\n"
     ]
    }
   ],
   "source": [
    "from tqdm import tqdm\n",
    "\n",
    "# Download SPY data\n",
    "sdate = '20160101'\n",
    "edate = '20231115'\n",
    "df_spy = finance.get_data('SPY', sdate, edate)\n",
    "normalize_to_spy = False\n",
    "\n",
    "# Initialize a dictionary to hold the z-score analysis results\n",
    "df_repo = {}\n",
    "\n",
    "# Define a function to calculate normalized returns\n",
    "def calculate_normalized_returns(df_ticker, df_spy, window = 5):\n",
    "    # Calculate 1-week returns for the stock and SPY\n",
    "    df_ticker['1_week_return'] = df_ticker['close'].pct_change(window)\n",
    "    df_spy['1_week_return'] = df_spy['close'].pct_change(window)\n",
    "    \n",
    "    # Normalize the stock's 1-week returns by SPY's 1-week returns\n",
    "    df_ticker['normalized_return'] = df_ticker['1_week_return'] / df_spy['1_week_return']\n",
    "    \n",
    "    return df_ticker['normalized_return']\n",
    "\n",
    "def calculate_unnormalized_returns(df_ticker, window = 5):\n",
    "    df_ticker['1_week_return'] = df_ticker['close'].pct_change(window)\n",
    "    return df_ticker['1_week_return']\n",
    "    \n",
    "\n",
    "# Define a function to calculate z-scores\n",
    "def calculate_z_scores(data, window = 252):\n",
    "    # Calculate rolling mean and standard deviation\n",
    "    mean = data.rolling(window, min_periods = 5).mean()\n",
    "    std = data.rolling(window, min_periods = 5).std()\n",
    "    \n",
    "    # Calculate z-scores\n",
    "    z_scores = (data - mean) / std\n",
    "    \n",
    "    return z_scores\n",
    "\n",
    "# Loop through each ticker and perform calculations\n",
    "for ticker in tqdm(tickers):\n",
    "    \n",
    "    try:\n",
    "        # Download stock data\n",
    "        df_ticker = finance.get_data(ticker, sdate, edate)\n",
    "\n",
    "        # Calculate normalized returns\n",
    "        if normalize_to_spy:\n",
    "            df_ticker['returns'] = calculate_normalized_returns(df_ticker, df_spy)\n",
    "        else:\n",
    "            df_ticker['returns'] = calculate_unnormalized_returns(df_ticker)\n",
    "\n",
    "        # Calculate z-scores for the normalized returns\n",
    "        df_ticker['z_score_returns'] = calculate_z_scores(df_ticker['returns'])\n",
    "\n",
    "        # Store the dates where the z-score indicates an outsized move\n",
    "        # z_score_analysis[ticker] = stock_data.index[stock_data['z_score'].abs() > 2].tolist()\n",
    "        # df_ticker.rename({'z_score' : ticker}, inplace = True, axis = 1)\n",
    "        \n",
    "        # Get short_ratio and short_exempt data\n",
    "        df_short_ratio = short_sale.calculate_short_ratio_means(ticker, include_diff=True, include_roc=True)\n",
    "        df_short_sale_exempt = short_sale.calculate_short_exempt_means(ticker, include_diff=True, include_roc=True)\n",
    "        df_gme_investment_values = short_sale.calculate_investment_values(ticker, include_diff=True, include_roc=True)\n",
    "        \n",
    "        # IV30, IV Skew, IV Time Spread (IV30 vs IV90), \n",
    "        # Gamma30, Gamma Skew, Gamme Time Spread (30 vs 90)\n",
    "        df_iv = greeks.get_analysis_for_ticker(ticker, 'iv', include_rolling = True, include_z_score = True)\n",
    "        df_gamma = greeks.get_analysis_for_ticker(ticker, 'gamma', include_rolling = True, include_z_score = True)\n",
    "        \n",
    "        # IV vs Actual Vol, Price vs rolling VWAP\n",
    "        df_iv_hv = vol.compare_iv_hv(ticker)\n",
    "        df_vwap = vol.compare_price_to_vwap(ticker)\n",
    "        \n",
    "        ## Add to single dataframe\n",
    "        # Short ratio etc\n",
    "        df_ticker = df_ticker.join(df_short_ratio).join(df_short_sale_exempt).join(df_gme_investment_values)\n",
    "        # Greeks\n",
    "        df_ticker = df_ticker.join(df_iv).join(df_gamma).dropna()\n",
    "        # Vol analysis \n",
    "        df_ticker = df_ticker.join(df_iv_hv).join(df_vwap)\n",
    "        \n",
    "        # Drop unneeded OHLCV columns and store in repo dictionary\n",
    "        df_repo[ticker] = df_ticker.drop(df_ticker.columns[:9], axis = 1)\n",
    "        \n",
    "    except Exception as e:\n",
    "        print(ticker, type(e), e) \n",
    "    \n",
    "\n",
    "# z_score_analysis now contains the tickers and the dates with outsized moves\n"
   ]
  },
  {
   "cell_type": "code",
   "execution_count": null,
   "id": "1d60b90b-0cb2-4044-b744-743716924077",
   "metadata": {},
   "outputs": [],
   "source": []
  },
  {
   "cell_type": "code",
   "execution_count": 14,
   "id": "3c097312-d799-4073-90ea-0b20640d36f7",
   "metadata": {},
   "outputs": [
    {
     "data": {
      "text/plain": [
       "<AxesSubplot:>"
      ]
     },
     "execution_count": 14,
     "metadata": {},
     "output_type": "execute_result"
    },
    {
     "data": {
      "image/png": "[encoded data removed]",
      "text/plain": [
       "<Figure size 640x480 with 1 Axes>"
      ]
     },
     "metadata": {},
     "output_type": "display_data"
    }
   ],
   "source": [
    "df_data = pd.concat(df_repo.values()).reset_index().drop('index', axis = 1).dropna()\n",
    "\n",
    "\n",
    "## Correlation \n",
    "df_data.corr()['z_score_returns'].abs().sort_values(ascending = True).drop('z_score_returns').iloc[:15].plot.barh()"
   ]
  },
  {
   "cell_type": "code",
   "execution_count": 23,
   "id": "ad2a1914-a126-42e2-a4d1-199acf266478",
   "metadata": {},
   "outputs": [],
   "source": [
    "# Determine the lower and upper thresholds\n",
    "lower_threshold = df_data.quantile(0.02)  # 1st percentile\n",
    "upper_threshold = df_data.quantile(0.98)  # 99th percentile\n",
    "\n",
    "# Cap the values in each column\n",
    "for col in df_data.columns:\n",
    "    if df_data[col].dtype.kind in 'biufc':  # Check if the column is numeric\n",
    "        df_data[col] = df_data[col].clip(lower_threshold[col], upper_threshold[col])"
   ]
  },
  {
   "cell_type": "code",
   "execution_count": 24,
   "id": "24c7cc69-e730-4460-b471-e8097d635e89",
   "metadata": {},
   "outputs": [],
   "source": [
    "## Correlation \n",
    "df_data.corr()['z_score_returns'].abs().sort_values(ascending = True).drop('z_score_returns').plot.barh()"
   ]
  },
  {
   "cell_type": "code",
   "execution_count": 25,
   "id": "059aed78-5108-4a4c-8158-e4fa83713729",
   "metadata": {},
   "outputs": [],
   "source": [
    "# Replace inf/-inf with NaN\n",
    "df_data = df_data.replace([np.inf, -np.inf], np.nan).dropna()\n",
    "\n",
    "## Correlation \n",
    "df_data.corr()['z_score_returns'].abs().sort_values(ascending = True).drop('z_score_returns').plot.barh()"
   ]
  },
  {
   "cell_type": "code",
   "execution_count": null,
   "id": "9e9177d5-82fa-4325-9d4d-7fe429f206e1",
   "metadata": {},
   "outputs": [],
   "source": []
  },
  {
   "cell_type": "code",
   "execution_count": 21,
   "id": "1624f70d-d710-4d22-8a7f-6d0aea6c4149",
   "metadata": {},
   "outputs": [],
   "source": [
    "from sklearn.model_selection import train_test_split, cross_val_score\n",
    "from sklearn.preprocessing import StandardScaler\n",
    "from sklearn.ensemble import RandomForestRegressor\n",
    "from sklearn.metrics import mean_squared_error\n",
    "import numpy as np"
   ]
  },
  {
   "cell_type": "code",
   "execution_count": 22,
   "id": "a2d16dc5-02d7-4fff-8e7f-442cb4069f5f",
   "metadata": {},
   "outputs": [],
   "source": [
    "# Preprocessing\n",
    "X = df_data.drop('z_score_returns', axis=1)\n",
    "y = df_data['z_score_returns']\n",
    "\n",
    "X_train, X_test, y_train, y_test = train_test_split(X, y, test_size=0.2, random_state=42)\n"
   ]
  },
  {
   "cell_type": "code",
   "execution_count": 26,
   "id": "3b3be6e5-c3a8-4888-b657-0f0b0053a782",
   "metadata": {},
   "outputs": [],
   "source": [
    "\n",
    "\n",
    "# Assuming df is your DataFrame\n",
    "\n",
    "\n",
    "scaler = StandardScaler()\n",
    "X_train_scaled = scaler.fit_transform(X_train)\n",
    "X_test_scaled = scaler.transform(X_test)\n",
    "\n",
    "# Model Training\n",
    "model = RandomForestRegressor(random_state=42)\n",
    "model.fit(X_train_scaled, y_train)\n",
    "\n",
    "# Prediction and Evaluation\n",
    "predictions = model.predict(X_test_scaled)\n",
    "rmse = np.sqrt(mean_squared_error(y_test, predictions))\n",
    "print(f\"RMSE: {rmse}\")\n",
    "\n",
    "# Cross-Validation\n",
    "scores = cross_val_score(model, X_train_scaled, y_train, scoring='neg_mean_squared_error', cv=5)\n",
    "cv_rmse = np.sqrt(-scores)\n",
    "print(f\"CV RMSE: {cv_rmse.mean()}\")\n"
   ]
  },
  {
   "cell_type": "code",
   "execution_count": 28,
   "id": "0cc52246-e6bf-4f22-9fd8-a6c1e5d05345",
   "metadata": {},
   "outputs": [],
   "source": [
    "from sklearn.metrics import r2_score\n",
    "\n",
    "print('R2 score: ', r2_score(y_test, predictions))"
   ]
  },
  {
   "cell_type": "code",
   "execution_count": null,
   "id": "29439c92-c8b7-4d89-8f83-12b391642235",
   "metadata": {},
   "outputs": [],
   "source": []
  },
  {
   "cell_type": "code",
   "execution_count": 16,
   "id": "31ce720b-f455-43d6-83b8-9feb575e0ed7",
   "metadata": {},
   "outputs": [],
   "source": [
    "# !pip install lightgbm\n",
    "from lightgbm import LGBMRegressor, plot_importance\n",
    "from sklearn.feature_selection import RFE\n",
    "\n",
    "class RegressorRFE:\n",
    "\n",
    "    def __init__(self, model_type='regressor', random_state = 42, verbose = 3, lookforward_bias_window = 0):\n",
    "        # Choose between regressor or classifier\n",
    "        self.model_type = model_type\n",
    "\n",
    "        # Light GBM parameters for primary regressor\n",
    "        self.params = {\n",
    "            'n_jobs': 28,\n",
    "            'max_depth': -1,  # <0 == infinite\n",
    "            'n_estimators': 2500,\n",
    "            'early_stopping_round': 250, # Should be at 10% of n_estimators\n",
    "            'random_state': random_state,\n",
    "            'device': 'cpu',\n",
    "            'boosting' : 'dart',\n",
    "        }\n",
    "\n",
    "        # Light GBM parameter for RFE regressor\n",
    "        self.rfe_params = {\n",
    "            'n_jobs': 28,\n",
    "            'max_depth': -1,  # <0 == infinite\n",
    "            'n_estimators': 200,\n",
    "            'early_stopping_round': 20, # Should be at 10% of n_estimators\n",
    "            'boosting_type' : 'dart',\n",
    "            'max_bin': 63,\n",
    "            'random_state': random_state,\n",
    "            'device': 'cpu',\n",
    "            'num_leaves': 15,\n",
    "            'colsample_bytree': .5, # alias of feature_fraction\n",
    "            'subsample' : .5,\n",
    "            'max_depth' : 6\n",
    "        }\n",
    "\n",
    "        # Settings for RFE\n",
    "        self.n_features_to_select = 15\n",
    "        self.step = .5\n",
    "        self.verbose = verbose\n",
    "        self.X_rfe = None\n",
    "        self.ranking_ = None\n",
    "\n",
    "        # Repo for column names\n",
    "        self.columns_ = None\n",
    "        self.valid_columns_ = None\n",
    "\n",
    "        # To prevent lookahead bias\n",
    "        self.lookforward_bias_window = lookforward_bias_window\n",
    "\n",
    "    def get_model(self, model_params):\n",
    "        if self.model_type == 'regressor':\n",
    "            return LGBMRegressor(**model_params)\n",
    "        elif self.model_type == 'classifier':\n",
    "            return LGBMClassifier(**model_params)\n",
    "\n",
    "    def fit_transform_data(self, X, y):\n",
    "        # Check for any categorical features\n",
    "        # self._check_for_categorical_features(X)\n",
    "\n",
    "        # Instantiate model\n",
    "        model = self.get_model(self.rfe_params)\n",
    "\n",
    "        # Instantiate and run RFE\n",
    "        selector = RFE(model, n_features_to_select=self.n_features_to_select, step=self.step, verbose=self.verbose)\n",
    "\n",
    "        # Check if lookforward bias is being taken into account\n",
    "        X_train, y_train = self._eliminate_lookforward_bias(X, y)\n",
    "\n",
    "        if self.verbose == 3:\n",
    "            print('Final date in training: ', X_train.index[-1])\n",
    "\n",
    "        # Train RFE\n",
    "        selector.fit(X_train, y_train)\n",
    "        self.selector = selector\n",
    "        self.ranking_ = selector.ranking_\n",
    "\n",
    "        # Save column names, if necessary\n",
    "        if isinstance(X, pd.DataFrame):\n",
    "            # Save column names\n",
    "            self.all_columns_ = X.columns\n",
    "            # Isolate valid columns\n",
    "            self.valid_columns_ = [x[1][0] for x in enumerate(zip(self.all_columns_, self.ranking_==1)) if x[1][1]]\n",
    "            # Return dataframe only containing these columns\n",
    "            return X[[x for x in X.columns if x in self.valid_columns_]]\n",
    "\n",
    "        # Return transformed data\n",
    "        return X[:, self.ranking_ == 1]\n",
    "\n",
    "    def fit(self, X, y):\n",
    "        self.X_rfe = self.fit_transform_data(X, y)\n",
    "        model = self.get_model(self.params)\n",
    "        return model.fit(self.X_rfe.values, y)\n",
    "\n",
    "    def _check_for_categorical_features(self, X):\n",
    "        # Parse out any categorical features from the input data\n",
    "        # categorical_features = [x for x in (X.dtypes == object).where(lambda x: x).dropna().index.values]\n",
    "        categorical_features = [ str(i[0]) for i in enumerate ( (X.dtypes == object).values ) if i[1]]\n",
    "        # Parse together into string format per LightGBM documentation\n",
    "        # str_ = 'name:' + ','.join( categorical_features )\n",
    "        str_ = ','.join( categorical_features )\n",
    "        # Add to dictionary parameters\n",
    "        self.rfe_params['categorical_feature'] = str_\n",
    "        self.params['categorical_feature'] = str_\n",
    "\n",
    "    def _eliminate_lookforward_bias(self, X, y):\n",
    "        if self.lookforward_bias_window == 0:\n",
    "            return X, y\n",
    "        else:\n",
    "            return X.iloc[0:len(X) - self.lookforward_bias_window], y.iloc[0:len(y) - self.lookforward_bias_window]\n",
    "\n",
    "    def transform(self, X):\n",
    "        if isinstance(X, pd.DataFrame):\n",
    "            if self.valid_columns_ == None:\n",
    "                print('Instance has not been trained. Must first use fit_transform_data() method.')\n",
    "            return X[[x for x in X.columns if x in self.valid_columns_]]\n",
    "        elif isinstance(X, pd.Series):\n",
    "            return X.loc[self.valid_columns_]\n",
    "        return X[:, self.ranking_ == 1]\n",
    "\n",
    "    \n",
    "class FeatureImportances:\n",
    "\n",
    "    def __init__(self):\n",
    "        pass\n",
    "\n",
    "    ## Function to return feature importances information given an X_train and y_train variables\n",
    "    def feature_importances(X_train, y_train, column_names, return_feature_importances = False, verbose = 0):\n",
    "        \"\"\"\n",
    "        Column names list should come from Polynomial Features function.\n",
    "\n",
    "        X_train(_poly) will likely be the X_train_poly from the Polynomial Features function as opposed to\n",
    "        the regular X_train\n",
    "        \"\"\"\n",
    "\n",
    "        # Instantiate class\n",
    "        model_obj = RegressorRFE()\n",
    "        model_obj.verbose = 0\n",
    "\n",
    "        # Fit data\n",
    "        model = model_obj.fit(X_train, y_train)\n",
    "\n",
    "        # Create dataframe containing column names\n",
    "        df = pd.DataFrame(X_train)\n",
    "        df.columns = column_names\n",
    "        df = df.loc[:, (model_obj.ranking_ ==  1)]\n",
    "        columns_X_test = list(df.columns)\n",
    "\n",
    "        # Organize feature importances\n",
    "        feat_importances = pd.Series(model.feature_importances_, index=columns_X_test)\n",
    "\n",
    "        # Optionally, return them\n",
    "        if return_feature_importances:\n",
    "            return feat_importances\n",
    "\n",
    "        # Return plot (for Jupyter notebook)\n",
    "        feat_importances.sort_values(ascending = True).plot(kind='barh', figsize = (20, 10))"
   ]
  },
  {
   "cell_type": "code",
   "execution_count": null,
   "id": "7330eb18-c5e1-4717-ad9f-1c937fb8dbdb",
   "metadata": {},
   "outputs": [],
   "source": []
  },
  {
   "cell_type": "code",
   "execution_count": 23,
   "id": "0ae340c9-c4ad-4716-8a84-cfa5af8d9f26",
   "metadata": {},
   "outputs": [
    {
     "name": "stdout",
     "output_type": "stream",
     "text": [
      "Final date in training:  15795\n",
      "Fitting estimator with 170 features.\n",
      "[LightGBM] [Info] Auto-choosing col-wise multi-threading, the overhead of testing was 0.068405 seconds.\n",
      "You can set `force_col_wise=true` to remove the overhead.\n",
      "[LightGBM] [Info] Total Bins 10710\n",
      "[LightGBM] [Info] Number of data points in the train set: 37841, number of used features: 170\n",
      "[LightGBM] [Info] Start training from score -0.046640\n"
     ]
    },
    {
     "name": "stderr",
     "output_type": "stream",
     "text": [
      "/opt/conda/lib/python3.10/site-packages/lightgbm/callback.py:292: UserWarning: Early stopping is not available in dart mode\n",
      "  _log_warning('Early stopping is not available in dart mode')\n"
     ]
    },
    {
     "name": "stdout",
     "output_type": "stream",
     "text": [
      "Fitting estimator with 85 features.\n",
      "[LightGBM] [Info] Auto-choosing col-wise multi-threading, the overhead of testing was 0.033276 seconds.\n",
      "You can set `force_col_wise=true` to remove the overhead.\n",
      "[LightGBM] [Info] Total Bins 5355\n",
      "[LightGBM] [Info] Number of data points in the train set: 37841, number of used features: 85\n",
      "[LightGBM] [Info] Start training from score -0.046640\n"
     ]
    },
    {
     "name": "stderr",
     "output_type": "stream",
     "text": [
      "/opt/conda/lib/python3.10/site-packages/lightgbm/callback.py:292: UserWarning: Early stopping is not available in dart mode\n",
      "  _log_warning('Early stopping is not available in dart mode')\n"
     ]
    },
    {
     "name": "stdout",
     "output_type": "stream",
     "text": [
      "[LightGBM] [Info] Auto-choosing col-wise multi-threading, the overhead of testing was 0.005764 seconds.\n",
      "You can set `force_col_wise=true` to remove the overhead.\n",
      "[LightGBM] [Info] Total Bins 945\n",
      "[LightGBM] [Info] Number of data points in the train set: 37841, number of used features: 15\n",
      "[LightGBM] [Info] Start training from score -0.046640\n"
     ]
    },
    {
     "name": "stderr",
     "output_type": "stream",
     "text": [
      "/opt/conda/lib/python3.10/site-packages/lightgbm/callback.py:292: UserWarning: Early stopping is not available in dart mode\n",
      "  _log_warning('Early stopping is not available in dart mode')\n"
     ]
    },
    {
     "name": "stdout",
     "output_type": "stream",
     "text": [
      "[LightGBM] [Warning] boosting is set=dart, boosting_type=gbdt will be ignored. Current value: boosting=dart\n",
      "[LightGBM] [Warning] boosting is set=dart, boosting_type=gbdt will be ignored. Current value: boosting=dart\n",
      "[LightGBM] [Info] Auto-choosing col-wise multi-threading, the overhead of testing was 0.007095 seconds.\n",
      "You can set `force_col_wise=true` to remove the overhead.\n",
      "[LightGBM] [Info] Total Bins 3825\n",
      "[LightGBM] [Info] Number of data points in the train set: 37841, number of used features: 15\n",
      "[LightGBM] [Info] Start training from score -0.046640\n"
     ]
    },
    {
     "name": "stderr",
     "output_type": "stream",
     "text": [
      "/opt/conda/lib/python3.10/site-packages/lightgbm/callback.py:292: UserWarning: Early stopping is not available in dart mode\n",
      "  _log_warning('Early stopping is not available in dart mode')\n"
     ]
    }
   ],
   "source": [
    "\n",
    "# Instantiate class\n",
    "model_obj = RegressorRFE()\n",
    "model_obj.verbose = 3\n",
    "\n",
    "# Fit data\n",
    "model = model_obj.fit(X_train, y_train)\n",
    "\n",
    "\n"
   ]
  },
  {
   "cell_type": "code",
   "execution_count": 26,
   "id": "8b7a149c-34b3-4f98-b56e-aaad05f62c1b",
   "metadata": {},
   "outputs": [
    {
     "data": {
      "text/html": [
       "<div>\n",
       "<style scoped>\n",
       "    .dataframe tbody tr th:only-of-type {\n",
       "        vertical-align: middle;\n",
       "    }\n",
       "\n",
       "    .dataframe tbody tr th {\n",
       "        vertical-align: top;\n",
       "    }\n",
       "\n",
       "    .dataframe thead th {\n",
       "        text-align: right;\n",
       "    }\n",
       "</style>\n",
       "<table border=\"1\" class=\"dataframe\">\n",
       "  <thead>\n",
       "    <tr style=\"text-align: right;\">\n",
       "      <th></th>\n",
       "      <th>iv_30_rolling_21</th>\n",
       "      <th>iv_30_rolling_42</th>\n",
       "      <th>iv_30_z_score</th>\n",
       "      <th>iv_Skew_z_score</th>\n",
       "      <th>gamma_30</th>\n",
       "      <th>gamma_Skew</th>\n",
       "      <th>gamma_30_rolling_10</th>\n",
       "      <th>gamma_30_rolling_21</th>\n",
       "      <th>gamma_Skew_rolling_1</th>\n",
       "      <th>gamma_Skew_rolling_10</th>\n",
       "      <th>gamma_Skew_rolling_21</th>\n",
       "      <th>gamma_30_z_score</th>\n",
       "      <th>gamma_Skew_z_score</th>\n",
       "      <th>IV_HV_Difference</th>\n",
       "      <th>vwap_close_pct</th>\n",
       "    </tr>\n",
       "  </thead>\n",
       "  <tbody>\n",
       "    <tr>\n",
       "      <th>5345</th>\n",
       "      <td>0.543448</td>\n",
       "      <td>0.588793</td>\n",
       "      <td>-0.894235</td>\n",
       "      <td>-0.187947</td>\n",
       "      <td>18739.7050</td>\n",
       "      <td>-1.251466</td>\n",
       "      <td>13910.59466</td>\n",
       "      <td>6126.200076</td>\n",
       "      <td>-1.251466</td>\n",
       "      <td>-1.331578</td>\n",
       "      <td>-1.123694</td>\n",
       "      <td>0.192464</td>\n",
       "      <td>0.151014</td>\n",
       "      <td>0.142474</td>\n",
       "      <td>0.975505</td>\n",
       "    </tr>\n",
       "    <tr>\n",
       "      <th>13459</th>\n",
       "      <td>0.366957</td>\n",
       "      <td>0.372038</td>\n",
       "      <td>-0.604440</td>\n",
       "      <td>0.381315</td>\n",
       "      <td>486.7017</td>\n",
       "      <td>-2.471662</td>\n",
       "      <td>-4159.55542</td>\n",
       "      <td>-4591.441457</td>\n",
       "      <td>-2.471662</td>\n",
       "      <td>-2.100100</td>\n",
       "      <td>-1.057893</td>\n",
       "      <td>0.587601</td>\n",
       "      <td>-0.695642</td>\n",
       "      <td>0.056689</td>\n",
       "      <td>0.993080</td>\n",
       "    </tr>\n",
       "    <tr>\n",
       "      <th>27440</th>\n",
       "      <td>0.380800</td>\n",
       "      <td>0.333145</td>\n",
       "      <td>-0.164284</td>\n",
       "      <td>-1.093594</td>\n",
       "      <td>168.5480</td>\n",
       "      <td>-1.100978</td>\n",
       "      <td>4766.68530</td>\n",
       "      <td>4698.344833</td>\n",
       "      <td>-1.100978</td>\n",
       "      <td>-1.825980</td>\n",
       "      <td>-1.601380</td>\n",
       "      <td>-0.721830</td>\n",
       "      <td>0.655442</td>\n",
       "      <td>0.079290</td>\n",
       "      <td>0.948154</td>\n",
       "    </tr>\n",
       "    <tr>\n",
       "      <th>33180</th>\n",
       "      <td>0.693495</td>\n",
       "      <td>0.724462</td>\n",
       "      <td>0.406905</td>\n",
       "      <td>0.720818</td>\n",
       "      <td>36379.6400</td>\n",
       "      <td>-2.866604</td>\n",
       "      <td>38949.35590</td>\n",
       "      <td>24685.191586</td>\n",
       "      <td>-2.866604</td>\n",
       "      <td>-1.940259</td>\n",
       "      <td>-1.781466</td>\n",
       "      <td>-0.175005</td>\n",
       "      <td>-0.294016</td>\n",
       "      <td>0.194245</td>\n",
       "      <td>1.416468</td>\n",
       "    </tr>\n",
       "    <tr>\n",
       "      <th>30021</th>\n",
       "      <td>0.204343</td>\n",
       "      <td>0.217288</td>\n",
       "      <td>-0.147557</td>\n",
       "      <td>0.247675</td>\n",
       "      <td>-4203.9490</td>\n",
       "      <td>-0.967349</td>\n",
       "      <td>53766.44856</td>\n",
       "      <td>47795.775410</td>\n",
       "      <td>-0.967349</td>\n",
       "      <td>-1.258753</td>\n",
       "      <td>-1.280005</td>\n",
       "      <td>-0.680776</td>\n",
       "      <td>0.711334</td>\n",
       "      <td>0.050087</td>\n",
       "      <td>0.956658</td>\n",
       "    </tr>\n",
       "    <tr>\n",
       "      <th>...</th>\n",
       "      <td>...</td>\n",
       "      <td>...</td>\n",
       "      <td>...</td>\n",
       "      <td>...</td>\n",
       "      <td>...</td>\n",
       "      <td>...</td>\n",
       "      <td>...</td>\n",
       "      <td>...</td>\n",
       "      <td>...</td>\n",
       "      <td>...</td>\n",
       "      <td>...</td>\n",
       "      <td>...</td>\n",
       "      <td>...</td>\n",
       "      <td>...</td>\n",
       "      <td>...</td>\n",
       "    </tr>\n",
       "    <tr>\n",
       "      <th>33806</th>\n",
       "      <td>0.301105</td>\n",
       "      <td>0.351224</td>\n",
       "      <td>-1.371864</td>\n",
       "      <td>-0.098326</td>\n",
       "      <td>245.2981</td>\n",
       "      <td>-5.325147</td>\n",
       "      <td>154.95005</td>\n",
       "      <td>551.779257</td>\n",
       "      <td>-5.325147</td>\n",
       "      <td>-3.815734</td>\n",
       "      <td>-3.825765</td>\n",
       "      <td>-0.681555</td>\n",
       "      <td>-0.504987</td>\n",
       "      <td>0.004504</td>\n",
       "      <td>1.136952</td>\n",
       "    </tr>\n",
       "    <tr>\n",
       "      <th>13831</th>\n",
       "      <td>0.689500</td>\n",
       "      <td>0.673971</td>\n",
       "      <td>1.407449</td>\n",
       "      <td>-0.471626</td>\n",
       "      <td>337899.9000</td>\n",
       "      <td>-2.222095</td>\n",
       "      <td>371858.33650</td>\n",
       "      <td>346016.379762</td>\n",
       "      <td>-2.222095</td>\n",
       "      <td>-2.551623</td>\n",
       "      <td>-2.419582</td>\n",
       "      <td>0.127769</td>\n",
       "      <td>0.676636</td>\n",
       "      <td>0.264566</td>\n",
       "      <td>0.911558</td>\n",
       "    </tr>\n",
       "    <tr>\n",
       "      <th>30155</th>\n",
       "      <td>0.248643</td>\n",
       "      <td>0.242317</td>\n",
       "      <td>-0.163173</td>\n",
       "      <td>1.193487</td>\n",
       "      <td>45732.4400</td>\n",
       "      <td>-1.335154</td>\n",
       "      <td>99284.27970</td>\n",
       "      <td>126451.118667</td>\n",
       "      <td>-1.335154</td>\n",
       "      <td>-1.883986</td>\n",
       "      <td>-2.003360</td>\n",
       "      <td>-1.270444</td>\n",
       "      <td>1.317490</td>\n",
       "      <td>0.059729</td>\n",
       "      <td>1.009401</td>\n",
       "    </tr>\n",
       "    <tr>\n",
       "      <th>3615</th>\n",
       "      <td>0.269795</td>\n",
       "      <td>0.268183</td>\n",
       "      <td>-0.984293</td>\n",
       "      <td>-0.213377</td>\n",
       "      <td>9942.1960</td>\n",
       "      <td>-1.274886</td>\n",
       "      <td>13538.37508</td>\n",
       "      <td>-3287.311681</td>\n",
       "      <td>-1.274886</td>\n",
       "      <td>-1.396694</td>\n",
       "      <td>-1.131995</td>\n",
       "      <td>0.129388</td>\n",
       "      <td>0.258536</td>\n",
       "      <td>0.044889</td>\n",
       "      <td>1.061643</td>\n",
       "    </tr>\n",
       "    <tr>\n",
       "      <th>21234</th>\n",
       "      <td>0.720543</td>\n",
       "      <td>0.781169</td>\n",
       "      <td>-0.772233</td>\n",
       "      <td>-0.123969</td>\n",
       "      <td>306603.1200</td>\n",
       "      <td>-1.285656</td>\n",
       "      <td>21068.66447</td>\n",
       "      <td>168940.571176</td>\n",
       "      <td>-1.285656</td>\n",
       "      <td>-1.026497</td>\n",
       "      <td>-1.307462</td>\n",
       "      <td>0.329336</td>\n",
       "      <td>0.298514</td>\n",
       "      <td>0.185057</td>\n",
       "      <td>0.753232</td>\n",
       "    </tr>\n",
       "  </tbody>\n",
       "</table>\n",
       "<p>9461 rows × 15 columns</p>\n",
       "</div>"
      ],
      "text/plain": [
       "       iv_30_rolling_21  iv_30_rolling_42  iv_30_z_score  iv_Skew_z_score  \\\n",
       "5345           0.543448          0.588793      -0.894235        -0.187947   \n",
       "13459          0.366957          0.372038      -0.604440         0.381315   \n",
       "27440          0.380800          0.333145      -0.164284        -1.093594   \n",
       "33180          0.693495          0.724462       0.406905         0.720818   \n",
       "30021          0.204343          0.217288      -0.147557         0.247675   \n",
       "...                 ...               ...            ...              ...   \n",
       "33806          0.301105          0.351224      -1.371864        -0.098326   \n",
       "13831          0.689500          0.673971       1.407449        -0.471626   \n",
       "30155          0.248643          0.242317      -0.163173         1.193487   \n",
       "3615           0.269795          0.268183      -0.984293        -0.213377   \n",
       "21234          0.720543          0.781169      -0.772233        -0.123969   \n",
       "\n",
       "          gamma_30  gamma_Skew  gamma_30_rolling_10  gamma_30_rolling_21  \\\n",
       "5345    18739.7050   -1.251466          13910.59466          6126.200076   \n",
       "13459     486.7017   -2.471662          -4159.55542         -4591.441457   \n",
       "27440     168.5480   -1.100978           4766.68530          4698.344833   \n",
       "33180   36379.6400   -2.866604          38949.35590         24685.191586   \n",
       "30021   -4203.9490   -0.967349          53766.44856         47795.775410   \n",
       "...            ...         ...                  ...                  ...   \n",
       "33806     245.2981   -5.325147            154.95005           551.779257   \n",
       "13831  337899.9000   -2.222095         371858.33650        346016.379762   \n",
       "30155   45732.4400   -1.335154          99284.27970        126451.118667   \n",
       "3615     9942.1960   -1.274886          13538.37508         -3287.311681   \n",
       "21234  306603.1200   -1.285656          21068.66447        168940.571176   \n",
       "\n",
       "       gamma_Skew_rolling_1  gamma_Skew_rolling_10  gamma_Skew_rolling_21  \\\n",
       "5345              -1.251466              -1.331578              -1.123694   \n",
       "13459             -2.471662              -2.100100              -1.057893   \n",
       "27440             -1.100978              -1.825980              -1.601380   \n",
       "33180             -2.866604              -1.940259              -1.781466   \n",
       "30021             -0.967349              -1.258753              -1.280005   \n",
       "...                     ...                    ...                    ...   \n",
       "33806             -5.325147              -3.815734              -3.825765   \n",
       "13831             -2.222095              -2.551623              -2.419582   \n",
       "30155             -1.335154              -1.883986              -2.003360   \n",
       "3615              -1.274886              -1.396694              -1.131995   \n",
       "21234             -1.285656              -1.026497              -1.307462   \n",
       "\n",
       "       gamma_30_z_score  gamma_Skew_z_score  IV_HV_Difference  vwap_close_pct  \n",
       "5345           0.192464            0.151014          0.142474        0.975505  \n",
       "13459          0.587601           -0.695642          0.056689        0.993080  \n",
       "27440         -0.721830            0.655442          0.079290        0.948154  \n",
       "33180         -0.175005           -0.294016          0.194245        1.416468  \n",
       "30021         -0.680776            0.711334          0.050087        0.956658  \n",
       "...                 ...                 ...               ...             ...  \n",
       "33806         -0.681555           -0.504987          0.004504        1.136952  \n",
       "13831          0.127769            0.676636          0.264566        0.911558  \n",
       "30155         -1.270444            1.317490          0.059729        1.009401  \n",
       "3615           0.129388            0.258536          0.044889        1.061643  \n",
       "21234          0.329336            0.298514          0.185057        0.753232  \n",
       "\n",
       "[9461 rows x 15 columns]"
      ]
     },
     "execution_count": 26,
     "metadata": {},
     "output_type": "execute_result"
    }
   ],
   "source": [
    "columns_X_test = list(model_obj.valid_columns_)\n",
    "X_test[columns_X_test]"
   ]
  },
  {
   "cell_type": "code",
   "execution_count": 29,
   "id": "ea1ffc9c-3ef9-49ea-91b5-bec35e430048",
   "metadata": {},
   "outputs": [
    {
     "data": {
      "text/plain": [
       "['iv_30_rolling_21',\n",
       " 'iv_30_rolling_42',\n",
       " 'iv_30_z_score',\n",
       " 'iv_Skew_z_score',\n",
       " 'gamma_30',\n",
       " 'gamma_Skew',\n",
       " 'gamma_30_rolling_10',\n",
       " 'gamma_30_rolling_21',\n",
       " 'gamma_Skew_rolling_1',\n",
       " 'gamma_Skew_rolling_10',\n",
       " 'gamma_Skew_rolling_21',\n",
       " 'gamma_30_z_score',\n",
       " 'gamma_Skew_z_score',\n",
       " 'IV_HV_Difference',\n",
       " 'vwap_close_pct']"
      ]
     },
     "execution_count": 29,
     "metadata": {},
     "output_type": "execute_result"
    }
   ],
   "source": [
    "columns_X_test"
   ]
  },
  {
   "cell_type": "code",
   "execution_count": null,
   "id": "ebeac125-5925-4bcb-b40f-6d73771d6fbf",
   "metadata": {},
   "outputs": [],
   "source": []
  },
  {
   "cell_type": "code",
   "execution_count": 37,
   "id": "042375b0-597e-4a0b-926b-44030f56f0d3",
   "metadata": {},
   "outputs": [],
   "source": [
    "# Create dataframe containing column names\n",
    "# df = pd.DataFrame(X_test)\n",
    "# df.columns = model_obj.valid_columns_"
   ]
  },
  {
   "cell_type": "code",
   "execution_count": 35,
   "id": "4639d1e2-e661-4bbb-b34a-0d526b822291",
   "metadata": {},
   "outputs": [],
   "source": []
  },
  {
   "cell_type": "code",
   "execution_count": 25,
   "id": "4449845b-fe1f-4114-b8be-e7033981d28c",
   "metadata": {},
   "outputs": [
    {
     "data": {
      "text/plain": [
       "['iv_30_rolling_21',\n",
       " 'iv_30_rolling_42',\n",
       " 'iv_30_z_score',\n",
       " 'iv_Skew_z_score',\n",
       " 'gamma_30',\n",
       " 'gamma_Skew',\n",
       " 'gamma_30_rolling_10',\n",
       " 'gamma_30_rolling_21',\n",
       " 'gamma_Skew_rolling_1',\n",
       " 'gamma_Skew_rolling_10',\n",
       " 'gamma_Skew_rolling_21',\n",
       " 'gamma_30_z_score',\n",
       " 'gamma_Skew_z_score',\n",
       " 'IV_HV_Difference',\n",
       " 'vwap_close_pct']"
      ]
     },
     "execution_count": 25,
     "metadata": {},
     "output_type": "execute_result"
    }
   ],
   "source": [
    "model_obj.valid_columns_"
   ]
  },
  {
   "cell_type": "code",
   "execution_count": null,
   "id": "3236cde2-be79-4321-9f16-351a3468e7d5",
   "metadata": {},
   "outputs": [],
   "source": []
  },
  {
   "cell_type": "code",
   "execution_count": null,
   "id": "66ea2273-274b-4478-ac25-716979e3377d",
   "metadata": {},
   "outputs": [],
   "source": []
  },
  {
   "cell_type": "code",
   "execution_count": 27,
   "id": "4f86fc80-d825-438e-9d6e-e6df1d8d4e56",
   "metadata": {},
   "outputs": [],
   "source": [
    "# Calc feature importances \n",
    "\n",
    "feat_importances = pd.Series(model.feature_importances_, index=columns_X_test)\n",
    "feat_importances = feat_importances / feat_importances.sum()"
   ]
  },
  {
   "cell_type": "code",
   "execution_count": 28,
   "id": "32df3ae0-2847-46a7-b0b0-4416365afd75",
   "metadata": {},
   "outputs": [
    {
     "data": {
      "text/plain": [
       "<AxesSubplot:>"
      ]
     },
     "execution_count": 28,
     "metadata": {},
     "output_type": "execute_result"
    },
    {
     "data": {
      "image/png": "[encoded data removed]",
      "text/plain": [
       "<Figure size 1400x800 with 1 Axes>"
      ]
     },
     "metadata": {},
     "output_type": "display_data"
    }
   ],
   "source": [
    "feat_importances.sort_values(ascending = True).plot(kind='barh', figsize = (14, 8))"
   ]
  },
  {
   "cell_type": "code",
   "execution_count": 30,
   "id": "50c91bf3-59f4-4cb5-b79e-109301a7f472",
   "metadata": {},
   "outputs": [
    {
     "name": "stdout",
     "output_type": "stream",
     "text": [
      "[LightGBM] [Warning] boosting is set=dart, boosting_type=gbdt will be ignored. Current value: boosting=dart\n"
     ]
    }
   ],
   "source": [
    "# Generate predictions\n",
    "y_pred = model.predict(X_test[columns_X_test])"
   ]
  },
  {
   "cell_type": "code",
   "execution_count": 32,
   "id": "15b9f95e-fe8c-4273-bfdb-21c8fc7f9ae9",
   "metadata": {},
   "outputs": [
    {
     "name": "stdout",
     "output_type": "stream",
     "text": [
      "R-squared: 0.5783477624320263\n"
     ]
    }
   ],
   "source": [
    "from sklearn.metrics import r2_score\n",
    "\n",
    "r2 = r2_score(y_test, y_pred)\n",
    "print(f\"R-squared: {r2}\")\n"
   ]
  },
  {
   "cell_type": "code",
   "execution_count": 33,
   "id": "944883fe-dbb7-448b-84c0-a2b1ae085905",
   "metadata": {},
   "outputs": [
    {
     "name": "stdout",
     "output_type": "stream",
     "text": [
      "Mean Absolute Error: 0.486647693444372\n",
      "Mean Squared Error: 0.44504999923168076\n",
      "Root Mean Squared Error: 0.6671206781622653\n"
     ]
    }
   ],
   "source": [
    "from sklearn.metrics import mean_absolute_error, mean_squared_error\n",
    "import numpy as np\n",
    "\n",
    "mae = mean_absolute_error(y_test, y_pred)\n",
    "mse = mean_squared_error(y_test, y_pred)\n",
    "rmse = np.sqrt(mse)\n",
    "\n",
    "print(f\"Mean Absolute Error: {mae}\")\n",
    "print(f\"Mean Squared Error: {mse}\")\n",
    "print(f\"Root Mean Squared Error: {rmse}\")\n"
   ]
  },
  {
   "cell_type": "code",
   "execution_count": 35,
   "id": "8b7c9862-30c5-403b-8f5d-2345df1395b3",
   "metadata": {},
   "outputs": [
    {
     "data": {
      "text/plain": [
       "<matplotlib.collections.PathCollection at 0x7f81feadc4c0>"
      ]
     },
     "execution_count": 35,
     "metadata": {},
     "output_type": "execute_result"
    },
    {
     "data": {
      "image/png": "[encoded data removed]",
      "text/plain": [
       "<Figure size 640x480 with 1 Axes>"
      ]
     },
     "metadata": {},
     "output_type": "display_data"
    }
   ],
   "source": [
    "import matplotlib.pyplot as plt\n",
    "\n",
    "plt.scatter(y_test, y_pred)"
   ]
  },
  {
   "cell_type": "code",
   "execution_count": 36,
   "id": "6e520aea-c43e-4a34-969c-68358d38fb11",
   "metadata": {},
   "outputs": [],
   "source": [
    "from sklearn.decomposition import PCA"
   ]
  },
  {
   "cell_type": "code",
   "execution_count": 47,
   "id": "fcb68fc9-25bf-4ef5-9ca0-f8ada74f960f",
   "metadata": {},
   "outputs": [
    {
     "name": "stdout",
     "output_type": "stream",
     "text": [
      "[0.8822454  0.09869878]\n"
     ]
    }
   ],
   "source": [
    "pca = PCA(n_components=2)\n",
    "pca.fit(X[columns_X_test])\n",
    "print(pca.explained_variance_ratio_)\n",
    "pca_ = pca.transform(X[columns_X_test])\n",
    "df_pca = pd.DataFrame(pca_, columns = ['pca1', 'pca2'])"
   ]
  },
  {
   "cell_type": "code",
   "execution_count": 50,
   "id": "a92a81b8-4404-42e9-adf1-c0826d06961f",
   "metadata": {},
   "outputs": [],
   "source": [
    "df_pca['z_score_returns'] = y"
   ]
  },
  {
   "cell_type": "code",
   "execution_count": 75,
   "id": "8b010cd5-1d93-44bc-aefc-07bb20cffbb6",
   "metadata": {},
   "outputs": [],
   "source": [
    "from sklearn.linear_model import LinearRegression\n",
    "from sklearn.preprocessing import StandardScaler"
   ]
  },
  {
   "cell_type": "code",
   "execution_count": 67,
   "id": "dd04e9a3-01bd-4b1c-9e32-e5f5ea75ecbb",
   "metadata": {},
   "outputs": [],
   "source": [
    "# Create X, y variables\n",
    "X = df_pca[['pca1', 'pca2']].astype(float)\n",
    "y = df_pca['z_score_returns']"
   ]
  },
  {
   "cell_type": "code",
   "execution_count": 64,
   "id": "81d8c3c8-7163-4f30-8b67-b0358d061461",
   "metadata": {},
   "outputs": [],
   "source": [
    "x1_min = X.pca1.mean() - X.pca1.std() * 1.5\n",
    "x1_max = X.pca1.mean() + X.pca1.std() * 1.5\n",
    "x1_diff = (x1_max - x1_min) / 50\n",
    "\n",
    "x2_min = X.pca2.mean() - X.pca2.std() * 1.5\n",
    "x2_max = X.pca2.mean() + X.pca2.std() * 1.5\n",
    "x2_diff = (x2_max - x2_min) / 50\n",
    "\n",
    "x1 = np.arange(x1_min, x1_max, x1_diff)\n",
    "x2 = np.arange(x2_min, x2_max, x2_diff)"
   ]
  },
  {
   "cell_type": "code",
   "execution_count": 101,
   "id": "78d580ba-31f2-419f-8369-4288c0a98f58",
   "metadata": {},
   "outputs": [],
   "source": [
    "model_lr = LinearRegression().fit(X.values, y)\n",
    "\n",
    "scale_data_ = True\n",
    "\n",
    "# Optionally, scale data (*this should always be done)\n",
    "if scale_data_:\n",
    "    scale = StandardScaler()\n",
    "    X_scaled = scale.fit_transform(X.values)\n",
    "    model_lr = LinearRegression().fit(X_scaled, y)\n",
    "    \n",
    "results = []\n",
    "for i in x1:\n",
    "    for ii in x2:\n",
    "\n",
    "        # Scale the values based on our X variable\n",
    "        if scale_data_:\n",
    "            scaled_values = scale.transform([[i, ii]])[0]\n",
    "            i_ = scaled_values[0]\n",
    "            ii_ = scaled_values[1]\n",
    "        else:\n",
    "            i_ = i\n",
    "            ii_ = ii\n",
    "\n",
    "        # Project hypothetical market performance (relative to average) and save\n",
    "        yhat = model_lr.predict([[i_, ii_]])[0]\n",
    "        # pct_diff = round((yhat - avg) / avg, 3)\n",
    "        results.append([i, ii, yhat])\n",
    "\n",
    "\n"
   ]
  },
  {
   "cell_type": "code",
   "execution_count": 102,
   "id": "0ee03548-8946-4700-996e-e3d4fd64a471",
   "metadata": {},
   "outputs": [
    {
     "name": "stdout",
     "output_type": "stream",
     "text": [
      "Total length of heatmap dataframe: 2500\n"
     ]
    }
   ],
   "source": [
    "# Format results\n",
    "df_exp = pd.DataFrame(results)\n",
    "df_exp.columns = ['pca1', 'pca2', 'z_score_returns']\n",
    "\n",
    "# Coerce down to 600 total rows for compatibility with amCharts\n",
    "# df_exp = df_exp[::17].iloc[:600].reset_index(drop = True)\n",
    "df_exp = df_exp.round(3)\n",
    "print('Total length of heatmap dataframe: {}'.format(str(df_exp.shape[0])))\n",
    "\n",
    "\n"
   ]
  },
  {
   "cell_type": "code",
   "execution_count": 103,
   "id": "38c95ab7-2e96-4b7f-b7f6-ce13152f0f3c",
   "metadata": {},
   "outputs": [
    {
     "data": {
      "text/plain": [
       "Text(0, 0.5, 'pca2')"
      ]
     },
     "execution_count": 103,
     "metadata": {},
     "output_type": "execute_result"
    },
    {
     "data": {
      "image/png": "[encoded data removed]",
      "text/plain": [
       "<Figure size 640x480 with 2 Axes>"
      ]
     },
     "metadata": {},
     "output_type": "display_data"
    }
   ],
   "source": [
    "import matplotlib.pyplot as plt\n",
    "plt.hexbin(df_exp['pca1'], df_exp['pca2'], C = df_exp['z_score_returns'], cmap=\"RdYlGn\", gridsize=25)\n",
    "#plt.clim(-2, 2)\n",
    "plt.colorbar()\n",
    "plt.xlabel('pca1')\n",
    "plt.ylabel('pca2')"
   ]
  },
  {
   "cell_type": "code",
   "execution_count": null,
   "id": "246885e9-6995-43db-9b37-0ccc88dd76b4",
   "metadata": {},
   "outputs": [],
   "source": []
  }
 ],
 "metadata": {
  "availableInstances": [
   {
    "_defaultOrder": 0,
    "_isFastLaunch": true,
    "category": "General purpose",
    "gpuNum": 0,
    "hideHardwareSpecs": false,
    "memoryGiB": 4,
    "name": "ml.t3.medium",
    "vcpuNum": 2
   },
   {
    "_defaultOrder": 1,
    "_isFastLaunch": false,
    "category": "General purpose",
    "gpuNum": 0,
    "hideHardwareSpecs": false,
    "memoryGiB": 8,
    "name": "ml.t3.large",
    "vcpuNum": 2
   },
   {
    "_defaultOrder": 2,
    "_isFastLaunch": false,
    "category": "General purpose",
    "gpuNum": 0,
    "hideHardwareSpecs": false,
    "memoryGiB": 16,
    "name": "ml.t3.xlarge",
    "vcpuNum": 4
   },
   {
    "_defaultOrder": 3,
    "_isFastLaunch": false,
    "category": "General purpose",
    "gpuNum": 0,
    "hideHardwareSpecs": false,
    "memoryGiB": 32,
    "name": "ml.t3.2xlarge",
    "vcpuNum": 8
   },
   {
    "_defaultOrder": 4,
    "_isFastLaunch": true,
    "category": "General purpose",
    "gpuNum": 0,
    "hideHardwareSpecs": false,
    "memoryGiB": 8,
    "name": "ml.m5.large",
    "vcpuNum": 2
   },
   {
    "_defaultOrder": 5,
    "_isFastLaunch": false,
    "category": "General purpose",
    "gpuNum": 0,
    "hideHardwareSpecs": false,
    "memoryGiB": 16,
    "name": "ml.m5.xlarge",
    "vcpuNum": 4
   },
   {
    "_defaultOrder": 6,
    "_isFastLaunch": false,
    "category": "General purpose",
    "gpuNum": 0,
    "hideHardwareSpecs": false,
    "memoryGiB": 32,
    "name": "ml.m5.2xlarge",
    "vcpuNum": 8
   },
   {
    "_defaultOrder": 7,
    "_isFastLaunch": false,
    "category": "General purpose",
    "gpuNum": 0,
    "hideHardwareSpecs": false,
    "memoryGiB": 64,
    "name": "ml.m5.4xlarge",
    "vcpuNum": 16
   },
   {
    "_defaultOrder": 8,
    "_isFastLaunch": false,
    "category": "General purpose",
    "gpuNum": 0,
    "hideHardwareSpecs": false,
    "memoryGiB": 128,
    "name": "ml.m5.8xlarge",
    "vcpuNum": 32
   },
   {
    "_defaultOrder": 9,
    "_isFastLaunch": false,
    "category": "General purpose",
    "gpuNum": 0,
    "hideHardwareSpecs": false,
    "memoryGiB": 192,
    "name": "ml.m5.12xlarge",
    "vcpuNum": 48
   },
   {
    "_defaultOrder": 10,
    "_isFastLaunch": false,
    "category": "General purpose",
    "gpuNum": 0,
    "hideHardwareSpecs": false,
    "memoryGiB": 256,
    "name": "ml.m5.16xlarge",
    "vcpuNum": 64
   },
   {
    "_defaultOrder": 11,
    "_isFastLaunch": false,
    "category": "General purpose",
    "gpuNum": 0,
    "hideHardwareSpecs": false,
    "memoryGiB": 384,
    "name": "ml.m5.24xlarge",
    "vcpuNum": 96
   },
   {
    "_defaultOrder": 12,
    "_isFastLaunch": false,
    "category": "General purpose",
    "gpuNum": 0,
    "hideHardwareSpecs": false,
    "memoryGiB": 8,
    "name": "ml.m5d.large",
    "vcpuNum": 2
   },
   {
    "_defaultOrder": 13,
    "_isFastLaunch": false,
    "category": "General purpose",
    "gpuNum": 0,
    "hideHardwareSpecs": false,
    "memoryGiB": 16,
    "name": "ml.m5d.xlarge",
    "vcpuNum": 4
   },
   {
    "_defaultOrder": 14,
    "_isFastLaunch": false,
    "category": "General purpose",
    "gpuNum": 0,
    "hideHardwareSpecs": false,
    "memoryGiB": 32,
    "name": "ml.m5d.2xlarge",
    "vcpuNum": 8
   },
   {
    "_defaultOrder": 15,
    "_isFastLaunch": false,
    "category": "General purpose",
    "gpuNum": 0,
    "hideHardwareSpecs": false,
    "memoryGiB": 64,
    "name": "ml.m5d.4xlarge",
    "vcpuNum": 16
   },
   {
    "_defaultOrder": 16,
    "_isFastLaunch": false,
    "category": "General purpose",
    "gpuNum": 0,
    "hideHardwareSpecs": false,
    "memoryGiB": 128,
    "name": "ml.m5d.8xlarge",
    "vcpuNum": 32
   },
   {
    "_defaultOrder": 17,
    "_isFastLaunch": false,
    "category": "General purpose",
    "gpuNum": 0,
    "hideHardwareSpecs": false,
    "memoryGiB": 192,
    "name": "ml.m5d.12xlarge",
    "vcpuNum": 48
   },
   {
    "_defaultOrder": 18,
    "_isFastLaunch": false,
    "category": "General purpose",
    "gpuNum": 0,
    "hideHardwareSpecs": false,
    "memoryGiB": 256,
    "name": "ml.m5d.16xlarge",
    "vcpuNum": 64
   },
   {
    "_defaultOrder": 19,
    "_isFastLaunch": false,
    "category": "General purpose",
    "gpuNum": 0,
    "hideHardwareSpecs": false,
    "memoryGiB": 384,
    "name": "ml.m5d.24xlarge",
    "vcpuNum": 96
   },
   {
    "_defaultOrder": 20,
    "_isFastLaunch": false,
    "category": "General purpose",
    "gpuNum": 0,
    "hideHardwareSpecs": true,
    "memoryGiB": 0,
    "name": "ml.geospatial.interactive",
    "supportedImageNames": [
     "sagemaker-geospatial-v1-0"
    ],
    "vcpuNum": 0
   },
   {
    "_defaultOrder": 21,
    "_isFastLaunch": true,
    "category": "Compute optimized",
    "gpuNum": 0,
    "hideHardwareSpecs": false,
    "memoryGiB": 4,
    "name": "ml.c5.large",
    "vcpuNum": 2
   },
   {
    "_defaultOrder": 22,
    "_isFastLaunch": false,
    "category": "Compute optimized",
    "gpuNum": 0,
    "hideHardwareSpecs": false,
    "memoryGiB": 8,
    "name": "ml.c5.xlarge",
    "vcpuNum": 4
   },
   {
    "_defaultOrder": 23,
    "_isFastLaunch": false,
    "category": "Compute optimized",
    "gpuNum": 0,
    "hideHardwareSpecs": false,
    "memoryGiB": 16,
    "name": "ml.c5.2xlarge",
    "vcpuNum": 8
   },
   {
    "_defaultOrder": 24,
    "_isFastLaunch": false,
    "category": "Compute optimized",
    "gpuNum": 0,
    "hideHardwareSpecs": false,
    "memoryGiB": 32,
    "name": "ml.c5.4xlarge",
    "vcpuNum": 16
   },
   {
    "_defaultOrder": 25,
    "_isFastLaunch": false,
    "category": "Compute optimized",
    "gpuNum": 0,
    "hideHardwareSpecs": false,
    "memoryGiB": 72,
    "name": "ml.c5.9xlarge",
    "vcpuNum": 36
   },
   {
    "_defaultOrder": 26,
    "_isFastLaunch": false,
    "category": "Compute optimized",
    "gpuNum": 0,
    "hideHardwareSpecs": false,
    "memoryGiB": 96,
    "name": "ml.c5.12xlarge",
    "vcpuNum": 48
   },
   {
    "_defaultOrder": 27,
    "_isFastLaunch": false,
    "category": "Compute optimized",
    "gpuNum": 0,
    "hideHardwareSpecs": false,
    "memoryGiB": 144,
    "name": "ml.c5.18xlarge",
    "vcpuNum": 72
   },
   {
    "_defaultOrder": 28,
    "_isFastLaunch": false,
    "category": "Compute optimized",
    "gpuNum": 0,
    "hideHardwareSpecs": false,
    "memoryGiB": 192,
    "name": "ml.c5.24xlarge",
    "vcpuNum": 96
   },
   {
    "_defaultOrder": 29,
    "_isFastLaunch": true,
    "category": "Accelerated computing",
    "gpuNum": 1,
    "hideHardwareSpecs": false,
    "memoryGiB": 16,
    "name": "ml.g4dn.xlarge",
    "vcpuNum": 4
   },
   {
    "_defaultOrder": 30,
    "_isFastLaunch": false,
    "category": "Accelerated computing",
    "gpuNum": 1,
    "hideHardwareSpecs": false,
    "memoryGiB": 32,
    "name": "ml.g4dn.2xlarge",
    "vcpuNum": 8
   },
   {
    "_defaultOrder": 31,
    "_isFastLaunch": false,
    "category": "Accelerated computing",
    "gpuNum": 1,
    "hideHardwareSpecs": false,
    "memoryGiB": 64,
    "name": "ml.g4dn.4xlarge",
    "vcpuNum": 16
   },
   {
    "_defaultOrder": 32,
    "_isFastLaunch": false,
    "category": "Accelerated computing",
    "gpuNum": 1,
    "hideHardwareSpecs": false,
    "memoryGiB": 128,
    "name": "ml.g4dn.8xlarge",
    "vcpuNum": 32
   },
   {
    "_defaultOrder": 33,
    "_isFastLaunch": false,
    "category": "Accelerated computing",
    "gpuNum": 4,
    "hideHardwareSpecs": false,
    "memoryGiB": 192,
    "name": "ml.g4dn.12xlarge",
    "vcpuNum": 48
   },
   {
    "_defaultOrder": 34,
    "_isFastLaunch": false,
    "category": "Accelerated computing",
    "gpuNum": 1,
    "hideHardwareSpecs": false,
    "memoryGiB": 256,
    "name": "ml.g4dn.16xlarge",
    "vcpuNum": 64
   },
   {
    "_defaultOrder": 35,
    "_isFastLaunch": false,
    "category": "Accelerated computing",
    "gpuNum": 1,
    "hideHardwareSpecs": false,
    "memoryGiB": 61,
    "name": "ml.p3.2xlarge",
    "vcpuNum": 8
   },
   {
    "_defaultOrder": 36,
    "_isFastLaunch": false,
    "category": "Accelerated computing",
    "gpuNum": 4,
    "hideHardwareSpecs": false,
    "memoryGiB": 244,
    "name": "ml.p3.8xlarge",
    "vcpuNum": 32
   },
   {
    "_defaultOrder": 37,
    "_isFastLaunch": false,
    "category": "Accelerated computing",
    "gpuNum": 8,
    "hideHardwareSpecs": false,
    "memoryGiB": 488,
    "name": "ml.p3.16xlarge",
    "vcpuNum": 64
   },
   {
    "_defaultOrder": 38,
    "_isFastLaunch": false,
    "category": "Accelerated computing",
    "gpuNum": 8,
    "hideHardwareSpecs": false,
    "memoryGiB": 768,
    "name": "ml.p3dn.24xlarge",
    "vcpuNum": 96
   },
   {
    "_defaultOrder": 39,
    "_isFastLaunch": false,
    "category": "Memory Optimized",
    "gpuNum": 0,
    "hideHardwareSpecs": false,
    "memoryGiB": 16,
    "name": "ml.r5.large",
    "vcpuNum": 2
   },
   {
    "_defaultOrder": 40,
    "_isFastLaunch": false,
    "category": "Memory Optimized",
    "gpuNum": 0,
    "hideHardwareSpecs": false,
    "memoryGiB": 32,
    "name": "ml.r5.xlarge",
    "vcpuNum": 4
   },
   {
    "_defaultOrder": 41,
    "_isFastLaunch": false,
    "category": "Memory Optimized",
    "gpuNum": 0,
    "hideHardwareSpecs": false,
    "memoryGiB": 64,
    "name": "ml.r5.2xlarge",
    "vcpuNum": 8
   },
   {
    "_defaultOrder": 42,
    "_isFastLaunch": false,
    "category": "Memory Optimized",
    "gpuNum": 0,
    "hideHardwareSpecs": false,
    "memoryGiB": 128,
    "name": "ml.r5.4xlarge",
    "vcpuNum": 16
   },
   {
    "_defaultOrder": 43,
    "_isFastLaunch": false,
    "category": "Memory Optimized",
    "gpuNum": 0,
    "hideHardwareSpecs": false,
    "memoryGiB": 256,
    "name": "ml.r5.8xlarge",
    "vcpuNum": 32
   },
   {
    "_defaultOrder": 44,
    "_isFastLaunch": false,
    "category": "Memory Optimized",
    "gpuNum": 0,
    "hideHardwareSpecs": false,
    "memoryGiB": 384,
    "name": "ml.r5.12xlarge",
    "vcpuNum": 48
   },
   {
    "_defaultOrder": 45,
    "_isFastLaunch": false,
    "category": "Memory Optimized",
    "gpuNum": 0,
    "hideHardwareSpecs": false,
    "memoryGiB": 512,
    "name": "ml.r5.16xlarge",
    "vcpuNum": 64
   },
   {
    "_defaultOrder": 46,
    "_isFastLaunch": false,
    "category": "Memory Optimized",
    "gpuNum": 0,
    "hideHardwareSpecs": false,
    "memoryGiB": 768,
    "name": "ml.r5.24xlarge",
    "vcpuNum": 96
   },
   {
    "_defaultOrder": 47,
    "_isFastLaunch": false,
    "category": "Accelerated computing",
    "gpuNum": 1,
    "hideHardwareSpecs": false,
    "memoryGiB": 16,
    "name": "ml.g5.xlarge",
    "vcpuNum": 4
   },
   {
    "_defaultOrder": 48,
    "_isFastLaunch": false,
    "category": "Accelerated computing",
    "gpuNum": 1,
    "hideHardwareSpecs": false,
    "memoryGiB": 32,
    "name": "ml.g5.2xlarge",
    "vcpuNum": 8
   },
   {
    "_defaultOrder": 49,
    "_isFastLaunch": false,
    "category": "Accelerated computing",
    "gpuNum": 1,
    "hideHardwareSpecs": false,
    "memoryGiB": 64,
    "name": "ml.g5.4xlarge",
    "vcpuNum": 16
   },
   {
    "_defaultOrder": 50,
    "_isFastLaunch": false,
    "category": "Accelerated computing",
    "gpuNum": 1,
    "hideHardwareSpecs": false,
    "memoryGiB": 128,
    "name": "ml.g5.8xlarge",
    "vcpuNum": 32
   },
   {
    "_defaultOrder": 51,
    "_isFastLaunch": false,
    "category": "Accelerated computing",
    "gpuNum": 1,
    "hideHardwareSpecs": false,
    "memoryGiB": 256,
    "name": "ml.g5.16xlarge",
    "vcpuNum": 64
   },
   {
    "_defaultOrder": 52,
    "_isFastLaunch": false,
    "category": "Accelerated computing",
    "gpuNum": 4,
    "hideHardwareSpecs": false,
    "memoryGiB": 192,
    "name": "ml.g5.12xlarge",
    "vcpuNum": 48
   },
   {
    "_defaultOrder": 53,
    "_isFastLaunch": false,
    "category": "Accelerated computing",
    "gpuNum": 4,
    "hideHardwareSpecs": false,
    "memoryGiB": 384,
    "name": "ml.g5.24xlarge",
    "vcpuNum": 96
   },
   {
    "_defaultOrder": 54,
    "_isFastLaunch": false,
    "category": "Accelerated computing",
    "gpuNum": 8,
    "hideHardwareSpecs": false,
    "memoryGiB": 768,
    "name": "ml.g5.48xlarge",
    "vcpuNum": 192
   },
   {
    "_defaultOrder": 55,
    "_isFastLaunch": false,
    "category": "Accelerated computing",
    "gpuNum": 8,
    "hideHardwareSpecs": false,
    "memoryGiB": 1152,
    "name": "ml.p4d.24xlarge",
    "vcpuNum": 96
   },
   {
    "_defaultOrder": 56,
    "_isFastLaunch": false,
    "category": "Accelerated computing",
    "gpuNum": 8,
    "hideHardwareSpecs": false,
    "memoryGiB": 1152,
    "name": "ml.p4de.24xlarge",
    "vcpuNum": 96
   }
  ],
  "instance_type": "ml.t3.medium",
  "kernelspec": {
   "display_name": "Python 3 (Data Science 3.0)",
   "language": "python",
   "name": "python3__SAGEMAKER_INTERNAL__arn:aws:sagemaker:eu-north-1:243637512696:image/sagemaker-data-science-310-v1"
  },
  "language_info": {
   "codemirror_mode": {
    "name": "ipython",
    "version": 3
   },
   "file_extension": ".py",
   "mimetype": "text/x-python",
   "name": "python",
   "nbconvert_exporter": "python",
   "pygments_lexer": "ipython3",
   "version": "3.10.6"
  }
 },
 "nbformat": 4,
 "nbformat_minor": 5
}
