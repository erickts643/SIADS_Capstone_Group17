{
 "cells": [
  {
   "cell_type": "code",
   "execution_count": null,
   "id": "530b5632-e5f5-4500-a84e-8e025eb9bb22",
   "metadata": {},
   "outputs": [],
   "source": [
    "import re\n",
    "import nltk\n",
    "import psycopg2\n",
    "import pandas as pd\n",
    "import matplotlib.pyplot as plt\n",
    "import pytz\n",
    "import datetime\n",
    "import seaborn as sns\n",
    "from collections import Counter\n",
    "from vaderSentiment.vaderSentiment import SentimentIntensityAnalyzer\n",
    "from nltk.corpus import stopwords\n",
    "nltk.download('stopwords', quiet=True)"
   ]
  },
  {
   "cell_type": "markdown",
   "id": "afde2bc0-1270-484a-9c95-97112a71c56a",
   "metadata": {},
   "source": [
    "# 1. Define functions"
   ]
  },
  {
   "cell_type": "markdown",
   "id": "56c70a64-74d5-43d6-b0c7-a19ffc51ceae",
   "metadata": {},
   "source": [
    "### db call"
   ]
  },
  {
   "cell_type": "code",
   "execution_count": 2,
   "id": "00484894-fd85-4e43-851d-f6b1c7d1f5f6",
   "metadata": {},
   "outputs": [],
   "source": [
    "def get_db_reddit(table, utc_begin, utc_end):\n",
    "    \"\"\"\n",
    "    Retrieves posts from our AWS PostgreSQL database within a specified UTC time range.\n",
    "\n",
    "    Parameters:\n",
    "    table (str): Name of the database table to query.\n",
    "    utc_begin (int): The beginning of the UTC time range.\n",
    "    utc_end (int): The end of the UTC time range.\n",
    "\n",
    "    Returns:\n",
    "    DataFrame: A pandas DataFrame containing the retrieved posts.\n",
    "\n",
    "    Raises:\n",
    "    psycopg2.DatabaseError: If an error occurs in database connection or execution.\n",
    "    \"\"\"\n",
    "    connection_params = {\n",
    "        \"user\": 'postgres',\n",
    "        \"password\": 'Data2023',\n",
    "        \"host\": 'mads-capstone.cmohac77hep9.eu-north-1.rds.amazonaws.com',\n",
    "        \"port\": 5432,\n",
    "        \"database\": \"mads\"\n",
    "    }\n",
    "\n",
    "\n",
    "    try:\n",
    "        with psycopg2.connect(**connection_params) as db_connection:\n",
    "            select_query = f\"SELECT * FROM {table} WHERE created_utc >= %s AND created_utc <= %s;\"\n",
    "\n",
    "            cursor = db_connection.cursor()\n",
    "            cursor.execute(select_query, (utc_begin, utc_end))\n",
    "            rows = cursor.fetchall()\n",
    "            \n",
    "            df = pd.DataFrame(rows,)\n",
    "            if table == 'submissions':\n",
    "                df.columns= [\"id\", \"subreddit_id\", \"subreddit\", \"author\", \"created_utc\", \"permalink\", \"title\", \"selftext\", \"num_comments\", \"score\"]\n",
    "            elif table == 'comments':\n",
    "                df.columns= [\"id\", \"subreddit_id\",\"submission_id\", \"subreddit\", \"author\", \"created_utc\",\"selftext\", \"score\"]\n",
    "            else:\n",
    "                print('Table not found!')\n",
    "                raise\n",
    "                                  \n",
    "            return df\n",
    "        \n",
    "    except psycopg2.DatabaseError as e:\n",
    "        print(f\"Database error: {e}\")\n",
    "        raise"
   ]
  },
  {
   "cell_type": "markdown",
   "id": "562f8cd7-67ee-44eb-a1b7-befc80b530c8",
   "metadata": {},
   "source": [
    "### Text Preprocessing"
   ]
  },
  {
   "cell_type": "code",
   "execution_count": 3,
   "id": "cb24220f-396e-4652-a43b-a9f3e4763c9d",
   "metadata": {},
   "outputs": [],
   "source": [
    "def preprocess_df(df):\n",
    "    def preprocess_text(text):\n",
    "        \n",
    "        # Remove specific unwanted characters\n",
    "        text = re.sub(r'[^A-Za-z0-9\\s,.!?;:()\\'\\\"-]', '', text)\n",
    "        \n",
    "        # Strip whitespace\n",
    "        text = text.strip()\n",
    "        \n",
    "        return text\n",
    "    \n",
    "    try:\n",
    "        df['title'] = df['title'].fillna('')\n",
    "        df['title'] = df['title'].apply(preprocess_text)\n",
    "\n",
    "        # Create a new column with shifted values\n",
    "        df['title_prior'] = df['title'].shift(1)\n",
    "        # Drop rows where the value in 'ColumnToCheck' is the same as in 'ShiftedColumn'\n",
    "        df = df[df['title'] != df['title_prior']]\n",
    "        # drop the 'ShiftedColumn'\n",
    "        df = df.drop('title_prior', axis=1)\n",
    "        \n",
    "    except:\n",
    "        print(f'No title found, skipping')\n",
    "    \n",
    "    \n",
    "    # handle blank \n",
    "    df['selftext'] = df['selftext'].fillna('') \n",
    "    \n",
    "    # preprocess selftext\n",
    "    df['selftext'] = df['selftext'].apply(preprocess_text)\n",
    "    \n",
    "    # localize the UTC time stamp\n",
    "    df['created_EST_date'] = pd.to_datetime(df['created_utc'], unit='s').dt.tz_localize('UTC').dt.tz_convert('America/New_York').dt.date\n",
    "    \n",
    "    \n",
    "    return df"
   ]
  },
  {
   "cell_type": "markdown",
   "id": "48cfea55-0ca5-4ef3-8250-48272734e8cd",
   "metadata": {},
   "source": [
    "### Ticker Extraction"
   ]
  },
  {
   "cell_type": "code",
   "execution_count": 4,
   "id": "2a4f46cf-b029-465e-9dea-71785ced2611",
   "metadata": {},
   "outputs": [],
   "source": [
    "def find_tickers(df):\n",
    " \n",
    "    # Load tickers from a CSV file\n",
    "    stocks = pd.read_csv('nasdaq_screener_1700463382148.csv')\n",
    "\n",
    "    # Directly convert the 'Symbol' column to a set\n",
    "    tickers_set = set(stocks['Symbol'])\n",
    "\n",
    "    # Use set union to add additional tickers\n",
    "    additional_tickers = {'BBBY'}\n",
    "    tickers_set = tickers_set.union(additional_tickers)\n",
    "    \n",
    "    # Adjust the pattern to optionally include a leading '$'\n",
    "    # pattern = r'\\b\\$?(?:' + '|'.join(tickers_as_strings) + r')\\b'\n",
    "    # pattern = r'\\b\\$?(?:\\(?)(?:' + '|'.join(tickers_as_strings) + r')(?:\\)?)\\b'\n",
    "    pattern = r'\\b[A-Z]{2,5}\\b'\n",
    "    compiled_pattern = re.compile(pattern)\n",
    "    \n",
    "    \n",
    "    \n",
    "    blacklist = {\n",
    "#                 {'I', 'ELON', 'WSB', 'THE', 'A', 'ROPE', 'YOLO', 'TOS', 'CEO', 'DD', 'IT', 'OPEN', 'ATH', 'PM', 'IRS', 'FOR',\n",
    "#              'DEC', 'BE',\n",
    "                'IMO',# 'ALL', 'RH', 'EV', 'TOS', 'CFO', 'CTO',\n",
    "                'DD',\n",
    "                #'BTFD', 'WSB', 'OK', 'PDT', 'RH', 'KYS', 'FD',\n",
    "#              'TYS', \n",
    "                'US',\n",
    "                'USA',\n",
    "                # 'IT', 'ATH', 'RIP', 'BMW', 'GDP', 'OTM', 'ATM', 'ITM', \n",
    "                'IMO', 'LOL', 'AM', 'BE', 'PR', 'PRAY',\n",
    "#              'PT', 'FBI', 'SEC', 'GOD', 'NOT', 'POS', 'FOMO', 'TL;DR',\n",
    "                'EDIT', 'STILL', 'WTF', 'RAW', 'PM', 'LMAO', 'LMFAO',\n",
    "#              'ROFL', 'EZ', 'RED', 'BEZOS', 'TICK', 'IS', 'PM', 'LPT', 'GOAT', 'FL', 'CA', 'IL', 'MACD', 'HQ', 'OP', 'PS', 'AH',\n",
    "#              'TL', 'JAN', 'FEB', 'JUL', 'AUG', 'SEP', 'SEPT', 'OCT', 'NOV', 'FDA', 'IV', 'ER', 'IPO', 'MILF', 'BUT', 'SSN', 'FIFA',\n",
    "#              'USD', 'CPU', 'AT', 'GG', 'Mar', \n",
    "            \n",
    "#                # Jake added\n",
    "                'RUN', # common\n",
    "                'SAY', # common\n",
    "                'EOD', # end of day\n",
    "                'BIG', # common\n",
    "                'LOW', # low / high\n",
    "                'RSI', #relative strenght\n",
    "                'DT', #double top\n",
    "                'HUGE',\n",
    "                'U', # you\n",
    "                'AI', # Artificial Intelligence\n",
    "                'DC', # washington DC\n",
    "                'J', # as in J Powell\n",
    "                'ES', # E-mini SP future\n",
    "                'F', # f*ck\n",
    "                'GO',\n",
    "                'UK', # United Kingdom\n",
    "                'EU', # european union\n",
    "                'RH', # Robinhood, not Restoration Hardware\n",
    "                'E', # E*trade brokerage\n",
    "                'L', # L for loss, P&L etc\n",
    "                'R', # common \n",
    "                'K', # OK\n",
    "                'B', # common in BBBY odd spacing (spam?)\n",
    "                'TD', # TD Ameritrade brokerage\n",
    "                'RYAN', # Ryan Cohen, CEO of GME\n",
    "                'NYC', # New York City\n",
    "                'REG', # reg SHO \n",
    "                'SHO', # reg SHO \n",
    "                'NEXT', # common\n",
    "                'FREE', # spam\n",
    "                'DM', # direct message\n",
    "                'TV', # television\n",
    "                'ENS', # ethereum name service, spam\n",
    "                'IRS', # internal revenue service\n",
    "                'PR', # public relations\n",
    "                'IQ', # intelligence quotient\n",
    "                'VS', # versus\n",
    "                'PT', # price target\n",
    "                'IBKR', # interactive brokers\n",
    "                'GOOD', # common\n",
    "                'OPEN', # market open\n",
    "                'FCF', # free cash flow\n",
    "        \n",
    "                 \n",
    "                }\n",
    "    \n",
    "    combined_blacklist = set(blacklist) | set(word.upper() for word in stopwords.words('english'))\n",
    "       \n",
    "    \n",
    "    def find_tickers(text, compiled_pattern, tickers_set, blacklist_set):\n",
    "        # Find all matches\n",
    "        potential_tickers = compiled_pattern.findall(text)\n",
    "        # Filter matches against the tickers list and ensure they are not in the blacklist\n",
    "        return list(set([ticker for ticker in potential_tickers if ticker in tickers_set and ticker not in combined_blacklist]))\n",
    "\n",
    "    try:\n",
    "        df['title_tickers'] = df['title'].apply(lambda x: find_tickers(x, compiled_pattern, tickers_set, combined_blacklist))\n",
    "    except KeyError:\n",
    "        print('title not found, working with comments?')\n",
    "        \n",
    "    \n",
    "    df['selftext_tickers'] = df['selftext'].apply(lambda x: find_tickers(x, compiled_pattern, tickers_set, combined_blacklist))\n",
    "    \n",
    "    df['tickers'] = [list(set(x + y)) for x, y in zip(df['title_tickers'], df['selftext_tickers'])]\n",
    "    \n",
    "    return df"
   ]
  },
  {
   "cell_type": "markdown",
   "id": "8f99cd8e-134d-437c-908d-d624237e7bbb",
   "metadata": {},
   "source": [
    "### Add vader sentiment"
   ]
  },
  {
   "cell_type": "code",
   "execution_count": 5,
   "id": "0b16c094-8f5c-4b67-9b37-3f4064e807ae",
   "metadata": {},
   "outputs": [],
   "source": [
    "def add_vader_sentiment(df):\n",
    "    \n",
    "    vader = SentimentIntensityAnalyzer()\n",
    "\n",
    "    added_words = {\n",
    "            'citron': -4.0,  \n",
    "            'hidenburg': -4.0,        \n",
    "            'moon': 4.0,\n",
    "            'highs': 2.0,\n",
    "            'mooning': 4.0,\n",
    "            'long': 2.0,\n",
    "            'short': -2.0,\n",
    "            'call': 4.0,\n",
    "            'calls': 4.0,    \n",
    "            'put': -4.0,\n",
    "            'puts': -4.0,    \n",
    "            'break': 2.0,\n",
    "            'tendie': 2.0,\n",
    "            'tendies': 2.0,\n",
    "            'town': 2.0,     \n",
    "            'overvalued': -3.0,\n",
    "            'undervalued': 3.0,\n",
    "            'buy': 4.0,\n",
    "            'sell': -4.0,\n",
    "            'gone': -1.0,\n",
    "            'gtfo': -1.7,\n",
    "            'paper': -1.7,\n",
    "            'bullish': 3.7,\n",
    "            'bearish': -3.7,\n",
    "            'bagholder': -1.7,\n",
    "            'stonk': 1.9,\n",
    "            'green': 1.9,\n",
    "            'money': 1.2,\n",
    "            'print': 2.2,\n",
    "            'rocket': 2.2,\n",
    "            'bull': 2.9,\n",
    "            'bear': -2.9,\n",
    "            'pumping': -1.0,\n",
    "            'sus': -3.0,\n",
    "            'offering': -2.3,\n",
    "            'rip': -4.0,\n",
    "            'downgrade': -3.0,\n",
    "            'upgrade': 3.0,     \n",
    "            'maintain': 1.0,          \n",
    "            'pump': 1.9,\n",
    "            'hot': 1.5,\n",
    "            'drop': -2.5,\n",
    "            'rebound': 1.5,  \n",
    "            'crack': 2.5,\n",
    "            '🚀': 3, # Jake ADDED THESE\n",
    "            '🌕': 3, # Jake ADDED THESE\n",
    "            'YOLO': 4, # Jake ADDED THESE\n",
    "            'ripping': 3,# Jake ADDED THESE\n",
    "            'regarded': 0, # Jake ADDED THESE\n",
    "            'squeeze':3, # Jake ADDED THESE\n",
    "            }\n",
    "    \n",
    "    vader.lexicon.update(added_words)\n",
    "\n",
    "    def safe_sentiment(text):\n",
    "        try:\n",
    "            # Ensure the input is a non-empty string\n",
    "            if not isinstance(text, str) or not text.strip():\n",
    "                return 0\n",
    "\n",
    "            # Analyze the sentiment\n",
    "            sentiment_dict = vader.polarity_scores(text)\n",
    "            return sentiment_dict.get('compound', 0)\n",
    "        except Exception as e:\n",
    "            print(f\"Error processing text: '{text}' (type: {type(text)}). Error: {e}\")\n",
    "            return 0\n",
    "\n",
    "    # Apply the function\n",
    "    try:\n",
    "        df['title_sentiment'] = df['title'].apply(safe_sentiment)\n",
    "    except:\n",
    "        print('Titles not found, is this a comments file?')\n",
    "        df['title_sentiment'] = 0\n",
    "        \n",
    "    df['selftext_sentiment'] = df['selftext'].apply(safe_sentiment)\n",
    "    \n",
    "    \n",
    "    def non_zero_average(row):\n",
    "        sentiments = [row['title_sentiment'], row['selftext_sentiment']]\n",
    "        non_zero_sentiments = [s for s in sentiments if s != 0]\n",
    "\n",
    "        if not non_zero_sentiments:\n",
    "            return 0  # Return 0 if both sentiments are zero\n",
    "\n",
    "        return sum(non_zero_sentiments) / len(non_zero_sentiments)\n",
    "\n",
    "    # Apply the function to calculate overall sentiment\n",
    "    df['overall_sentiment'] = df.apply(non_zero_average, axis=1)\n",
    "    \n",
    "    df['score_weighted_sentiment'] = df['overall_sentiment'] * df['score']\n",
    "\n",
    "    return df"
   ]
  },
  {
   "cell_type": "markdown",
   "id": "474e3aa6-461a-4677-ad93-f6903d13bd62",
   "metadata": {},
   "source": [
    "# 2. Loop over the time frame, Fetch Records and append new day sentiment to the output df"
   ]
  },
  {
   "cell_type": "code",
   "execution_count": 6,
   "id": "c3260d55-15b4-44ac-942f-ce283b0fc703",
   "metadata": {},
   "outputs": [
    {
     "name": "stdout",
     "output_type": "stream",
     "text": [
      "Requirement already satisfied: vaderSentiment in /opt/conda/lib/python3.10/site-packages (3.3.2)\n",
      "Requirement already satisfied: requests in /opt/conda/lib/python3.10/site-packages (from vaderSentiment) (2.31.0)\n",
      "Requirement already satisfied: charset-normalizer<4,>=2 in /opt/conda/lib/python3.10/site-packages (from requests->vaderSentiment) (2.0.4)\n",
      "Requirement already satisfied: idna<4,>=2.5 in /opt/conda/lib/python3.10/site-packages (from requests->vaderSentiment) (3.3)\n",
      "Requirement already satisfied: urllib3<3,>=1.21.1 in /opt/conda/lib/python3.10/site-packages (from requests->vaderSentiment) (1.26.18)\n",
      "Requirement already satisfied: certifi>=2017.4.17 in /opt/conda/lib/python3.10/site-packages (from requests->vaderSentiment) (2023.7.22)\n",
      "\u001b[33mWARNING: Running pip as the 'root' user can result in broken permissions and conflicting behaviour with the system package manager. It is recommended to use a virtual environment instead: https://pip.pypa.io/warnings/venv\u001b[0m\u001b[33m\n",
      "\u001b[0m"
     ]
    }
   ],
   "source": [
    "!pip install vaderSentiment"
   ]
  },
  {
   "cell_type": "code",
   "execution_count": 7,
   "id": "7490d875-a782-46c0-92f1-09a9eeff2872",
   "metadata": {
    "tags": []
   },
   "outputs": [],
   "source": [
    "\n",
    "# establish min max date range\n"
   ]
  },
  {
   "cell_type": "code",
   "execution_count": 6,
   "id": "2d736167-6731-418e-ab45-0a28e3463472",
   "metadata": {},
   "outputs": [
    {
     "name": "stderr",
     "output_type": "stream",
     "text": [
      " 23%|██▎       | 442/1948 [03:54<06:20,  3.96it/s]"
     ]
    },
    {
     "name": "stdout",
     "output_type": "stream",
     "text": [
      "UTC Begin: 2019-10-14 23:59:59, UTC End: 2019-10-15 23:59:59\n",
      "UTC Begin: 2019-10-15 23:59:59, UTC End: 2019-10-16 23:59:59\n",
      "UTC Begin: 2019-10-16 23:59:59, UTC End: 2019-10-17 23:59:59\n",
      "UTC Begin: 2019-10-17 23:59:59, UTC End: 2019-10-18 23:59:59\n"
     ]
    },
    {
     "name": "stderr",
     "output_type": "stream",
     "text": [
      " 83%|████████▎ | 1620/1948 [27:10<00:39,  8.33it/s] "
     ]
    },
    {
     "name": "stdout",
     "output_type": "stream",
     "text": [
      "UTC Begin: 2022-12-31 23:59:59, UTC End: 2023-01-01 23:59:59\n",
      "UTC Begin: 2023-01-01 23:59:59, UTC End: 2023-01-02 23:59:59\n",
      "UTC Begin: 2023-01-02 23:59:59, UTC End: 2023-01-03 23:59:59\n",
      "UTC Begin: 2023-01-03 23:59:59, UTC End: 2023-01-04 23:59:59\n",
      "UTC Begin: 2023-01-04 23:59:59, UTC End: 2023-01-05 23:59:59\n",
      "UTC Begin: 2023-01-05 23:59:59, UTC End: 2023-01-06 23:59:59\n",
      "UTC Begin: 2023-01-06 23:59:59, UTC End: 2023-01-07 23:59:59\n"
     ]
    },
    {
     "name": "stderr",
     "output_type": "stream",
     "text": [
      " 83%|████████▎ | 1626/1948 [27:10<00:22, 14.31it/s]"
     ]
    },
    {
     "name": "stdout",
     "output_type": "stream",
     "text": [
      "UTC Begin: 2023-01-07 23:59:59, UTC End: 2023-01-08 23:59:59\n",
      "UTC Begin: 2023-01-08 23:59:59, UTC End: 2023-01-09 23:59:59\n",
      "UTC Begin: 2023-01-09 23:59:59, UTC End: 2023-01-10 23:59:59\n",
      "UTC Begin: 2023-01-10 23:59:59, UTC End: 2023-01-11 23:59:59\n",
      "UTC Begin: 2023-01-11 23:59:59, UTC End: 2023-01-12 23:59:59\n",
      "UTC Begin: 2023-01-12 23:59:59, UTC End: 2023-01-13 23:59:59\n"
     ]
    },
    {
     "name": "stderr",
     "output_type": "stream",
     "text": [
      " 84%|████████▍ | 1632/1948 [27:10<00:16, 19.67it/s]"
     ]
    },
    {
     "name": "stdout",
     "output_type": "stream",
     "text": [
      "UTC Begin: 2023-01-13 23:59:59, UTC End: 2023-01-14 23:59:59\n",
      "UTC Begin: 2023-01-14 23:59:59, UTC End: 2023-01-15 23:59:59\n",
      "UTC Begin: 2023-01-15 23:59:59, UTC End: 2023-01-16 23:59:59\n",
      "UTC Begin: 2023-01-16 23:59:59, UTC End: 2023-01-17 23:59:59\n",
      "UTC Begin: 2023-01-17 23:59:59, UTC End: 2023-01-18 23:59:59\n",
      "UTC Begin: 2023-01-18 23:59:59, UTC End: 2023-01-19 23:59:59\n"
     ]
    },
    {
     "name": "stderr",
     "output_type": "stream",
     "text": [
      " 84%|████████▍ | 1635/1948 [27:10<00:14, 20.95it/s]"
     ]
    },
    {
     "name": "stdout",
     "output_type": "stream",
     "text": [
      "UTC Begin: 2023-01-19 23:59:59, UTC End: 2023-01-20 23:59:59\n",
      "UTC Begin: 2023-01-20 23:59:59, UTC End: 2023-01-21 23:59:59\n",
      "UTC Begin: 2023-01-21 23:59:59, UTC End: 2023-01-22 23:59:59\n",
      "UTC Begin: 2023-01-22 23:59:59, UTC End: 2023-01-23 23:59:59\n",
      "UTC Begin: 2023-01-23 23:59:59, UTC End: 2023-01-24 23:59:59\n",
      "UTC Begin: 2023-01-24 23:59:59, UTC End: 2023-01-25 23:59:59\n"
     ]
    },
    {
     "name": "stderr",
     "output_type": "stream",
     "text": [
      " 84%|████████▍ | 1645/1948 [27:11<00:11, 26.52it/s]"
     ]
    },
    {
     "name": "stdout",
     "output_type": "stream",
     "text": [
      "UTC Begin: 2023-01-25 23:59:59, UTC End: 2023-01-26 23:59:59\n",
      "UTC Begin: 2023-01-26 23:59:59, UTC End: 2023-01-27 23:59:59\n",
      "UTC Begin: 2023-01-27 23:59:59, UTC End: 2023-01-28 23:59:59\n",
      "UTC Begin: 2023-01-28 23:59:59, UTC End: 2023-01-29 23:59:59\n",
      "UTC Begin: 2023-01-29 23:59:59, UTC End: 2023-01-30 23:59:59\n",
      "UTC Begin: 2023-01-30 23:59:59, UTC End: 2023-01-31 23:59:59\n",
      "UTC Begin: 2023-01-31 23:59:59, UTC End: 2023-02-01 23:59:59\n"
     ]
    },
    {
     "name": "stderr",
     "output_type": "stream",
     "text": [
      " 85%|████████▍ | 1649/1948 [27:11<00:10, 28.41it/s]"
     ]
    },
    {
     "name": "stdout",
     "output_type": "stream",
     "text": [
      "UTC Begin: 2023-02-01 23:59:59, UTC End: 2023-02-02 23:59:59\n",
      "UTC Begin: 2023-02-02 23:59:59, UTC End: 2023-02-03 23:59:59\n",
      "UTC Begin: 2023-02-03 23:59:59, UTC End: 2023-02-04 23:59:59\n",
      "UTC Begin: 2023-02-04 23:59:59, UTC End: 2023-02-05 23:59:59\n",
      "UTC Begin: 2023-02-05 23:59:59, UTC End: 2023-02-06 23:59:59\n",
      "UTC Begin: 2023-02-06 23:59:59, UTC End: 2023-02-07 23:59:59\n"
     ]
    },
    {
     "name": "stderr",
     "output_type": "stream",
     "text": [
      " 85%|████████▍ | 1655/1948 [27:11<00:10, 28.15it/s]"
     ]
    },
    {
     "name": "stdout",
     "output_type": "stream",
     "text": [
      "UTC Begin: 2023-02-07 23:59:59, UTC End: 2023-02-08 23:59:59\n",
      "UTC Begin: 2023-02-08 23:59:59, UTC End: 2023-02-09 23:59:59\n",
      "UTC Begin: 2023-02-09 23:59:59, UTC End: 2023-02-10 23:59:59\n",
      "UTC Begin: 2023-02-10 23:59:59, UTC End: 2023-02-11 23:59:59\n",
      "UTC Begin: 2023-02-11 23:59:59, UTC End: 2023-02-12 23:59:59\n",
      "UTC Begin: 2023-02-12 23:59:59, UTC End: 2023-02-13 23:59:59\n"
     ]
    },
    {
     "name": "stderr",
     "output_type": "stream",
     "text": [
      " 85%|████████▌ | 1662/1948 [27:11<00:09, 28.78it/s]"
     ]
    },
    {
     "name": "stdout",
     "output_type": "stream",
     "text": [
      "UTC Begin: 2023-02-13 23:59:59, UTC End: 2023-02-14 23:59:59\n",
      "UTC Begin: 2023-02-14 23:59:59, UTC End: 2023-02-15 23:59:59\n",
      "UTC Begin: 2023-02-15 23:59:59, UTC End: 2023-02-16 23:59:59\n",
      "UTC Begin: 2023-02-16 23:59:59, UTC End: 2023-02-17 23:59:59\n",
      "UTC Begin: 2023-02-17 23:59:59, UTC End: 2023-02-18 23:59:59\n",
      "UTC Begin: 2023-02-18 23:59:59, UTC End: 2023-02-19 23:59:59\n",
      "UTC Begin: 2023-02-19 23:59:59, UTC End: 2023-02-20 23:59:59\n"
     ]
    },
    {
     "name": "stderr",
     "output_type": "stream",
     "text": [
      " 86%|████████▌ | 1669/1948 [27:11<00:09, 29.16it/s]"
     ]
    },
    {
     "name": "stdout",
     "output_type": "stream",
     "text": [
      "UTC Begin: 2023-02-20 23:59:59, UTC End: 2023-02-21 23:59:59\n",
      "UTC Begin: 2023-02-21 23:59:59, UTC End: 2023-02-22 23:59:59\n",
      "UTC Begin: 2023-02-22 23:59:59, UTC End: 2023-02-23 23:59:59\n",
      "UTC Begin: 2023-02-23 23:59:59, UTC End: 2023-02-24 23:59:59\n",
      "UTC Begin: 2023-02-24 23:59:59, UTC End: 2023-02-25 23:59:59\n",
      "UTC Begin: 2023-02-25 23:59:59, UTC End: 2023-02-26 23:59:59\n"
     ]
    },
    {
     "name": "stderr",
     "output_type": "stream",
     "text": [
      " 86%|████████▌ | 1677/1948 [27:12<00:08, 30.33it/s]"
     ]
    },
    {
     "name": "stdout",
     "output_type": "stream",
     "text": [
      "UTC Begin: 2023-02-26 23:59:59, UTC End: 2023-02-27 23:59:59\n",
      "UTC Begin: 2023-02-27 23:59:59, UTC End: 2023-02-28 23:59:59\n",
      "UTC Begin: 2023-02-28 23:59:59, UTC End: 2023-03-01 23:59:59\n",
      "UTC Begin: 2023-03-01 23:59:59, UTC End: 2023-03-02 23:59:59\n",
      "UTC Begin: 2023-03-02 23:59:59, UTC End: 2023-03-03 23:59:59\n",
      "UTC Begin: 2023-03-03 23:59:59, UTC End: 2023-03-04 23:59:59\n",
      "UTC Begin: 2023-03-04 23:59:59, UTC End: 2023-03-05 23:59:59\n"
     ]
    },
    {
     "name": "stderr",
     "output_type": "stream",
     "text": [
      " 86%|████████▋ | 1681/1948 [27:12<00:08, 30.76it/s]"
     ]
    },
    {
     "name": "stdout",
     "output_type": "stream",
     "text": [
      "UTC Begin: 2023-03-05 23:59:59, UTC End: 2023-03-06 23:59:59\n",
      "UTC Begin: 2023-03-06 23:59:59, UTC End: 2023-03-07 23:59:59\n",
      "UTC Begin: 2023-03-07 23:59:59, UTC End: 2023-03-08 23:59:59\n",
      "UTC Begin: 2023-03-08 23:59:59, UTC End: 2023-03-09 23:59:59\n",
      "UTC Begin: 2023-03-09 23:59:59, UTC End: 2023-03-10 23:59:59\n",
      "UTC Begin: 2023-03-10 23:59:59, UTC End: 2023-03-11 23:59:59\n",
      "UTC Begin: 2023-03-11 23:59:59, UTC End: 2023-03-12 23:59:59\n"
     ]
    },
    {
     "name": "stderr",
     "output_type": "stream",
     "text": [
      " 87%|████████▋ | 1689/1948 [27:12<00:08, 30.71it/s]"
     ]
    },
    {
     "name": "stdout",
     "output_type": "stream",
     "text": [
      "UTC Begin: 2023-03-12 23:59:59, UTC End: 2023-03-13 23:59:59\n",
      "UTC Begin: 2023-03-13 23:59:59, UTC End: 2023-03-14 23:59:59\n",
      "UTC Begin: 2023-03-14 23:59:59, UTC End: 2023-03-15 23:59:59\n",
      "UTC Begin: 2023-03-15 23:59:59, UTC End: 2023-03-16 23:59:59\n",
      "UTC Begin: 2023-03-16 23:59:59, UTC End: 2023-03-17 23:59:59\n",
      "UTC Begin: 2023-03-17 23:59:59, UTC End: 2023-03-18 23:59:59\n",
      "UTC Begin: 2023-03-18 23:59:59, UTC End: 2023-03-19 23:59:59\n"
     ]
    },
    {
     "name": "stderr",
     "output_type": "stream",
     "text": [
      " 87%|████████▋ | 1697/1948 [27:12<00:08, 30.33it/s]"
     ]
    },
    {
     "name": "stdout",
     "output_type": "stream",
     "text": [
      "UTC Begin: 2023-03-19 23:59:59, UTC End: 2023-03-20 23:59:59\n",
      "UTC Begin: 2023-03-20 23:59:59, UTC End: 2023-03-21 23:59:59\n",
      "UTC Begin: 2023-03-21 23:59:59, UTC End: 2023-03-22 23:59:59\n",
      "UTC Begin: 2023-03-22 23:59:59, UTC End: 2023-03-23 23:59:59\n",
      "UTC Begin: 2023-03-23 23:59:59, UTC End: 2023-03-24 23:59:59\n",
      "UTC Begin: 2023-03-24 23:59:59, UTC End: 2023-03-25 23:59:59\n"
     ]
    },
    {
     "name": "stderr",
     "output_type": "stream",
     "text": [
      " 87%|████████▋ | 1701/1948 [27:12<00:08, 30.13it/s]"
     ]
    },
    {
     "name": "stdout",
     "output_type": "stream",
     "text": [
      "UTC Begin: 2023-03-25 23:59:59, UTC End: 2023-03-26 23:59:59\n",
      "UTC Begin: 2023-03-26 23:59:59, UTC End: 2023-03-27 23:59:59\n",
      "UTC Begin: 2023-03-27 23:59:59, UTC End: 2023-03-28 23:59:59\n",
      "UTC Begin: 2023-03-28 23:59:59, UTC End: 2023-03-29 23:59:59\n",
      "UTC Begin: 2023-03-29 23:59:59, UTC End: 2023-03-30 23:59:59\n",
      "UTC Begin: 2023-03-30 23:59:59, UTC End: 2023-03-31 23:59:59\n",
      "UTC Begin: 2023-03-31 23:59:59, UTC End: 2023-04-01 23:59:59\n"
     ]
    },
    {
     "name": "stderr",
     "output_type": "stream",
     "text": [
      " 88%|████████▊ | 1709/1948 [27:13<00:08, 29.74it/s]"
     ]
    },
    {
     "name": "stdout",
     "output_type": "stream",
     "text": [
      "UTC Begin: 2023-04-01 23:59:59, UTC End: 2023-04-02 23:59:59\n",
      "UTC Begin: 2023-04-02 23:59:59, UTC End: 2023-04-03 23:59:59\n",
      "UTC Begin: 2023-04-03 23:59:59, UTC End: 2023-04-04 23:59:59\n",
      "UTC Begin: 2023-04-04 23:59:59, UTC End: 2023-04-05 23:59:59\n",
      "UTC Begin: 2023-04-05 23:59:59, UTC End: 2023-04-06 23:59:59\n",
      "UTC Begin: 2023-04-06 23:59:59, UTC End: 2023-04-07 23:59:59\n",
      "UTC Begin: 2023-04-07 23:59:59, UTC End: 2023-04-08 23:59:59\n"
     ]
    },
    {
     "name": "stderr",
     "output_type": "stream",
     "text": [
      " 88%|████████▊ | 1717/1948 [27:13<00:07, 29.92it/s]"
     ]
    },
    {
     "name": "stdout",
     "output_type": "stream",
     "text": [
      "UTC Begin: 2023-04-08 23:59:59, UTC End: 2023-04-09 23:59:59\n",
      "UTC Begin: 2023-04-09 23:59:59, UTC End: 2023-04-10 23:59:59\n",
      "UTC Begin: 2023-04-10 23:59:59, UTC End: 2023-04-11 23:59:59\n",
      "UTC Begin: 2023-04-11 23:59:59, UTC End: 2023-04-12 23:59:59\n",
      "UTC Begin: 2023-04-12 23:59:59, UTC End: 2023-04-13 23:59:59\n",
      "UTC Begin: 2023-04-13 23:59:59, UTC End: 2023-04-14 23:59:59\n"
     ]
    },
    {
     "name": "stderr",
     "output_type": "stream",
     "text": [
      " 88%|████████▊ | 1721/1948 [27:13<00:07, 30.52it/s]"
     ]
    },
    {
     "name": "stdout",
     "output_type": "stream",
     "text": [
      "UTC Begin: 2023-04-14 23:59:59, UTC End: 2023-04-15 23:59:59\n",
      "UTC Begin: 2023-04-15 23:59:59, UTC End: 2023-04-16 23:59:59\n",
      "UTC Begin: 2023-04-16 23:59:59, UTC End: 2023-04-17 23:59:59\n",
      "UTC Begin: 2023-04-17 23:59:59, UTC End: 2023-04-18 23:59:59\n",
      "UTC Begin: 2023-04-18 23:59:59, UTC End: 2023-04-19 23:59:59\n",
      "UTC Begin: 2023-04-19 23:59:59, UTC End: 2023-04-20 23:59:59\n"
     ]
    },
    {
     "name": "stderr",
     "output_type": "stream",
     "text": [
      " 89%|████████▊ | 1728/1948 [27:13<00:07, 28.88it/s]"
     ]
    },
    {
     "name": "stdout",
     "output_type": "stream",
     "text": [
      "UTC Begin: 2023-04-20 23:59:59, UTC End: 2023-04-21 23:59:59\n",
      "UTC Begin: 2023-04-21 23:59:59, UTC End: 2023-04-22 23:59:59\n",
      "UTC Begin: 2023-04-22 23:59:59, UTC End: 2023-04-23 23:59:59\n",
      "UTC Begin: 2023-04-23 23:59:59, UTC End: 2023-04-24 23:59:59\n",
      "UTC Begin: 2023-04-24 23:59:59, UTC End: 2023-04-25 23:59:59\n",
      "UTC Begin: 2023-04-25 23:59:59, UTC End: 2023-04-26 23:59:59\n"
     ]
    },
    {
     "name": "stderr",
     "output_type": "stream",
     "text": [
      " 89%|████████▉ | 1735/1948 [27:14<00:07, 28.85it/s]"
     ]
    },
    {
     "name": "stdout",
     "output_type": "stream",
     "text": [
      "UTC Begin: 2023-04-26 23:59:59, UTC End: 2023-04-27 23:59:59\n",
      "UTC Begin: 2023-04-27 23:59:59, UTC End: 2023-04-28 23:59:59\n",
      "UTC Begin: 2023-04-28 23:59:59, UTC End: 2023-04-29 23:59:59\n",
      "UTC Begin: 2023-04-29 23:59:59, UTC End: 2023-04-30 23:59:59\n",
      "UTC Begin: 2023-04-30 23:59:59, UTC End: 2023-05-01 23:59:59\n",
      "UTC Begin: 2023-05-01 23:59:59, UTC End: 2023-05-02 23:59:59\n"
     ]
    },
    {
     "name": "stderr",
     "output_type": "stream",
     "text": [
      " 89%|████████▉ | 1738/1948 [27:14<00:07, 26.85it/s]"
     ]
    },
    {
     "name": "stdout",
     "output_type": "stream",
     "text": [
      "UTC Begin: 2023-05-02 23:59:59, UTC End: 2023-05-03 23:59:59\n",
      "UTC Begin: 2023-05-03 23:59:59, UTC End: 2023-05-04 23:59:59\n",
      "UTC Begin: 2023-05-04 23:59:59, UTC End: 2023-05-05 23:59:59\n",
      "UTC Begin: 2023-05-05 23:59:59, UTC End: 2023-05-06 23:59:59\n",
      "UTC Begin: 2023-05-06 23:59:59, UTC End: 2023-05-07 23:59:59\n",
      "UTC Begin: 2023-05-07 23:59:59, UTC End: 2023-05-08 23:59:59\n"
     ]
    },
    {
     "name": "stderr",
     "output_type": "stream",
     "text": [
      " 90%|████████▉ | 1746/1948 [27:14<00:07, 28.76it/s]"
     ]
    },
    {
     "name": "stdout",
     "output_type": "stream",
     "text": [
      "UTC Begin: 2023-05-08 23:59:59, UTC End: 2023-05-09 23:59:59\n",
      "UTC Begin: 2023-05-09 23:59:59, UTC End: 2023-05-10 23:59:59\n",
      "UTC Begin: 2023-05-10 23:59:59, UTC End: 2023-05-11 23:59:59\n",
      "UTC Begin: 2023-05-11 23:59:59, UTC End: 2023-05-12 23:59:59\n",
      "UTC Begin: 2023-05-12 23:59:59, UTC End: 2023-05-13 23:59:59\n",
      "UTC Begin: 2023-05-13 23:59:59, UTC End: 2023-05-14 23:59:59\n"
     ]
    },
    {
     "name": "stderr",
     "output_type": "stream",
     "text": [
      " 90%|████████▉ | 1752/1948 [27:14<00:07, 26.53it/s]"
     ]
    },
    {
     "name": "stdout",
     "output_type": "stream",
     "text": [
      "UTC Begin: 2023-05-14 23:59:59, UTC End: 2023-05-15 23:59:59\n",
      "UTC Begin: 2023-05-15 23:59:59, UTC End: 2023-05-16 23:59:59\n",
      "UTC Begin: 2023-05-16 23:59:59, UTC End: 2023-05-17 23:59:59\n",
      "UTC Begin: 2023-05-17 23:59:59, UTC End: 2023-05-18 23:59:59\n",
      "UTC Begin: 2023-05-18 23:59:59, UTC End: 2023-05-19 23:59:59\n"
     ]
    },
    {
     "name": "stderr",
     "output_type": "stream",
     "text": [
      " 90%|█████████ | 1755/1948 [27:14<00:07, 24.94it/s]"
     ]
    },
    {
     "name": "stdout",
     "output_type": "stream",
     "text": [
      "UTC Begin: 2023-05-19 23:59:59, UTC End: 2023-05-20 23:59:59\n",
      "UTC Begin: 2023-05-20 23:59:59, UTC End: 2023-05-21 23:59:59\n",
      "UTC Begin: 2023-05-21 23:59:59, UTC End: 2023-05-22 23:59:59\n",
      "UTC Begin: 2023-05-22 23:59:59, UTC End: 2023-05-23 23:59:59\n",
      "UTC Begin: 2023-05-23 23:59:59, UTC End: 2023-05-24 23:59:59\n"
     ]
    },
    {
     "name": "stderr",
     "output_type": "stream",
     "text": [
      " 90%|█████████ | 1761/1948 [27:15<00:08, 22.37it/s]"
     ]
    },
    {
     "name": "stdout",
     "output_type": "stream",
     "text": [
      "UTC Begin: 2023-05-24 23:59:59, UTC End: 2023-05-25 23:59:59\n",
      "UTC Begin: 2023-05-25 23:59:59, UTC End: 2023-05-26 23:59:59\n",
      "UTC Begin: 2023-05-26 23:59:59, UTC End: 2023-05-27 23:59:59\n",
      "UTC Begin: 2023-05-27 23:59:59, UTC End: 2023-05-28 23:59:59\n"
     ]
    },
    {
     "name": "stderr",
     "output_type": "stream",
     "text": [
      " 91%|█████████ | 1767/1948 [27:15<00:07, 24.24it/s]"
     ]
    },
    {
     "name": "stdout",
     "output_type": "stream",
     "text": [
      "UTC Begin: 2023-05-28 23:59:59, UTC End: 2023-05-29 23:59:59\n",
      "UTC Begin: 2023-05-29 23:59:59, UTC End: 2023-05-30 23:59:59\n",
      "UTC Begin: 2023-05-30 23:59:59, UTC End: 2023-05-31 23:59:59\n",
      "UTC Begin: 2023-05-31 23:59:59, UTC End: 2023-06-01 23:59:59\n",
      "UTC Begin: 2023-06-01 23:59:59, UTC End: 2023-06-02 23:59:59\n",
      "UTC Begin: 2023-06-02 23:59:59, UTC End: 2023-06-03 23:59:59\n"
     ]
    },
    {
     "name": "stderr",
     "output_type": "stream",
     "text": [
      " 91%|█████████ | 1771/1948 [27:15<00:06, 26.32it/s]"
     ]
    },
    {
     "name": "stdout",
     "output_type": "stream",
     "text": [
      "UTC Begin: 2023-06-03 23:59:59, UTC End: 2023-06-04 23:59:59\n",
      "UTC Begin: 2023-06-04 23:59:59, UTC End: 2023-06-05 23:59:59\n",
      "UTC Begin: 2023-06-05 23:59:59, UTC End: 2023-06-06 23:59:59\n",
      "UTC Begin: 2023-06-06 23:59:59, UTC End: 2023-06-07 23:59:59\n",
      "UTC Begin: 2023-06-07 23:59:59, UTC End: 2023-06-08 23:59:59\n",
      "UTC Begin: 2023-06-08 23:59:59, UTC End: 2023-06-09 23:59:59\n",
      "UTC Begin: 2023-06-09 23:59:59, UTC End: 2023-06-10 23:59:59\n"
     ]
    },
    {
     "name": "stderr",
     "output_type": "stream",
     "text": [
      " 91%|█████████▏| 1778/1948 [27:15<00:06, 27.00it/s]"
     ]
    },
    {
     "name": "stdout",
     "output_type": "stream",
     "text": [
      "UTC Begin: 2023-06-10 23:59:59, UTC End: 2023-06-11 23:59:59\n",
      "UTC Begin: 2023-06-11 23:59:59, UTC End: 2023-06-12 23:59:59\n",
      "UTC Begin: 2023-06-12 23:59:59, UTC End: 2023-06-13 23:59:59\n",
      "UTC Begin: 2023-06-13 23:59:59, UTC End: 2023-06-14 23:59:59\n",
      "UTC Begin: 2023-06-14 23:59:59, UTC End: 2023-06-15 23:59:59\n",
      "UTC Begin: 2023-06-15 23:59:59, UTC End: 2023-06-16 23:59:59\n"
     ]
    },
    {
     "name": "stderr",
     "output_type": "stream",
     "text": [
      " 92%|█████████▏| 1785/1948 [27:15<00:05, 28.79it/s]"
     ]
    },
    {
     "name": "stdout",
     "output_type": "stream",
     "text": [
      "UTC Begin: 2023-06-16 23:59:59, UTC End: 2023-06-17 23:59:59\n",
      "UTC Begin: 2023-06-17 23:59:59, UTC End: 2023-06-18 23:59:59\n",
      "UTC Begin: 2023-06-18 23:59:59, UTC End: 2023-06-19 23:59:59\n",
      "UTC Begin: 2023-06-19 23:59:59, UTC End: 2023-06-20 23:59:59\n",
      "UTC Begin: 2023-06-20 23:59:59, UTC End: 2023-06-21 23:59:59\n",
      "UTC Begin: 2023-06-21 23:59:59, UTC End: 2023-06-22 23:59:59\n",
      "UTC Begin: 2023-06-22 23:59:59, UTC End: 2023-06-23 23:59:59\n"
     ]
    },
    {
     "name": "stderr",
     "output_type": "stream",
     "text": [
      " 92%|█████████▏| 1792/1948 [27:16<00:05, 29.61it/s]"
     ]
    },
    {
     "name": "stdout",
     "output_type": "stream",
     "text": [
      "UTC Begin: 2023-06-23 23:59:59, UTC End: 2023-06-24 23:59:59\n",
      "UTC Begin: 2023-06-24 23:59:59, UTC End: 2023-06-25 23:59:59\n",
      "UTC Begin: 2023-06-25 23:59:59, UTC End: 2023-06-26 23:59:59\n",
      "UTC Begin: 2023-06-26 23:59:59, UTC End: 2023-06-27 23:59:59\n",
      "UTC Begin: 2023-06-27 23:59:59, UTC End: 2023-06-28 23:59:59\n",
      "UTC Begin: 2023-06-28 23:59:59, UTC End: 2023-06-29 23:59:59\n"
     ]
    },
    {
     "name": "stderr",
     "output_type": "stream",
     "text": [
      " 92%|█████████▏| 1798/1948 [27:16<00:05, 29.35it/s]"
     ]
    },
    {
     "name": "stdout",
     "output_type": "stream",
     "text": [
      "UTC Begin: 2023-06-29 23:59:59, UTC End: 2023-06-30 23:59:59\n",
      "UTC Begin: 2023-06-30 23:59:59, UTC End: 2023-07-01 23:59:59\n",
      "UTC Begin: 2023-07-01 23:59:59, UTC End: 2023-07-02 23:59:59\n",
      "UTC Begin: 2023-07-02 23:59:59, UTC End: 2023-07-03 23:59:59\n",
      "UTC Begin: 2023-07-03 23:59:59, UTC End: 2023-07-04 23:59:59\n",
      "UTC Begin: 2023-07-04 23:59:59, UTC End: 2023-07-05 23:59:59\n"
     ]
    },
    {
     "name": "stderr",
     "output_type": "stream",
     "text": [
      " 93%|█████████▎| 1804/1948 [27:16<00:05, 27.83it/s]"
     ]
    },
    {
     "name": "stdout",
     "output_type": "stream",
     "text": [
      "UTC Begin: 2023-07-05 23:59:59, UTC End: 2023-07-06 23:59:59\n",
      "UTC Begin: 2023-07-06 23:59:59, UTC End: 2023-07-07 23:59:59\n",
      "UTC Begin: 2023-07-07 23:59:59, UTC End: 2023-07-08 23:59:59\n",
      "UTC Begin: 2023-07-08 23:59:59, UTC End: 2023-07-09 23:59:59\n",
      "UTC Begin: 2023-07-09 23:59:59, UTC End: 2023-07-10 23:59:59\n"
     ]
    },
    {
     "name": "stderr",
     "output_type": "stream",
     "text": [
      " 93%|█████████▎| 1807/1948 [27:16<00:05, 26.61it/s]"
     ]
    },
    {
     "name": "stdout",
     "output_type": "stream",
     "text": [
      "UTC Begin: 2023-07-10 23:59:59, UTC End: 2023-07-11 23:59:59\n",
      "UTC Begin: 2023-07-11 23:59:59, UTC End: 2023-07-12 23:59:59\n",
      "UTC Begin: 2023-07-12 23:59:59, UTC End: 2023-07-13 23:59:59\n",
      "UTC Begin: 2023-07-13 23:59:59, UTC End: 2023-07-14 23:59:59\n",
      "UTC Begin: 2023-07-14 23:59:59, UTC End: 2023-07-15 23:59:59\n",
      "UTC Begin: 2023-07-15 23:59:59, UTC End: 2023-07-16 23:59:59\n"
     ]
    },
    {
     "name": "stderr",
     "output_type": "stream",
     "text": [
      " 93%|█████████▎| 1814/1948 [27:16<00:04, 27.43it/s]"
     ]
    },
    {
     "name": "stdout",
     "output_type": "stream",
     "text": [
      "UTC Begin: 2023-07-16 23:59:59, UTC End: 2023-07-17 23:59:59\n",
      "UTC Begin: 2023-07-17 23:59:59, UTC End: 2023-07-18 23:59:59\n",
      "UTC Begin: 2023-07-18 23:59:59, UTC End: 2023-07-19 23:59:59\n",
      "UTC Begin: 2023-07-19 23:59:59, UTC End: 2023-07-20 23:59:59\n",
      "UTC Begin: 2023-07-20 23:59:59, UTC End: 2023-07-21 23:59:59\n",
      "UTC Begin: 2023-07-21 23:59:59, UTC End: 2023-07-22 23:59:59\n"
     ]
    },
    {
     "name": "stderr",
     "output_type": "stream",
     "text": [
      " 93%|█████████▎| 1821/1948 [27:17<00:04, 26.40it/s]"
     ]
    },
    {
     "name": "stdout",
     "output_type": "stream",
     "text": [
      "UTC Begin: 2023-07-22 23:59:59, UTC End: 2023-07-23 23:59:59\n",
      "UTC Begin: 2023-07-23 23:59:59, UTC End: 2023-07-24 23:59:59\n",
      "UTC Begin: 2023-07-24 23:59:59, UTC End: 2023-07-25 23:59:59\n",
      "UTC Begin: 2023-07-25 23:59:59, UTC End: 2023-07-26 23:59:59\n",
      "UTC Begin: 2023-07-26 23:59:59, UTC End: 2023-07-27 23:59:59\n"
     ]
    },
    {
     "name": "stderr",
     "output_type": "stream",
     "text": [
      " 94%|█████████▍| 1828/1948 [27:17<00:04, 28.15it/s]"
     ]
    },
    {
     "name": "stdout",
     "output_type": "stream",
     "text": [
      "UTC Begin: 2023-07-27 23:59:59, UTC End: 2023-07-28 23:59:59\n",
      "UTC Begin: 2023-07-28 23:59:59, UTC End: 2023-07-29 23:59:59\n",
      "UTC Begin: 2023-07-29 23:59:59, UTC End: 2023-07-30 23:59:59\n",
      "UTC Begin: 2023-07-30 23:59:59, UTC End: 2023-07-31 23:59:59\n",
      "UTC Begin: 2023-07-31 23:59:59, UTC End: 2023-08-01 23:59:59\n",
      "UTC Begin: 2023-08-01 23:59:59, UTC End: 2023-08-02 23:59:59\n",
      "UTC Begin: 2023-08-02 23:59:59, UTC End: 2023-08-03 23:59:59\n"
     ]
    },
    {
     "name": "stderr",
     "output_type": "stream",
     "text": [
      " 94%|█████████▍| 1835/1948 [27:17<00:03, 29.11it/s]"
     ]
    },
    {
     "name": "stdout",
     "output_type": "stream",
     "text": [
      "UTC Begin: 2023-08-03 23:59:59, UTC End: 2023-08-04 23:59:59\n",
      "UTC Begin: 2023-08-04 23:59:59, UTC End: 2023-08-05 23:59:59\n",
      "UTC Begin: 2023-08-05 23:59:59, UTC End: 2023-08-06 23:59:59\n",
      "UTC Begin: 2023-08-06 23:59:59, UTC End: 2023-08-07 23:59:59\n",
      "UTC Begin: 2023-08-07 23:59:59, UTC End: 2023-08-08 23:59:59\n",
      "UTC Begin: 2023-08-08 23:59:59, UTC End: 2023-08-09 23:59:59\n",
      "UTC Begin: 2023-08-09 23:59:59, UTC End: 2023-08-10 23:59:59\n"
     ]
    },
    {
     "name": "stderr",
     "output_type": "stream",
     "text": [
      " 94%|█████████▍| 1838/1948 [27:17<00:03, 29.18it/s]"
     ]
    },
    {
     "name": "stdout",
     "output_type": "stream",
     "text": [
      "UTC Begin: 2023-08-10 23:59:59, UTC End: 2023-08-11 23:59:59\n",
      "UTC Begin: 2023-08-11 23:59:59, UTC End: 2023-08-12 23:59:59\n",
      "UTC Begin: 2023-08-12 23:59:59, UTC End: 2023-08-13 23:59:59\n",
      "UTC Begin: 2023-08-13 23:59:59, UTC End: 2023-08-14 23:59:59\n",
      "UTC Begin: 2023-08-14 23:59:59, UTC End: 2023-08-15 23:59:59\n",
      "UTC Begin: 2023-08-15 23:59:59, UTC End: 2023-08-16 23:59:59\n"
     ]
    },
    {
     "name": "stderr",
     "output_type": "stream",
     "text": [
      " 95%|█████████▍| 1845/1948 [27:18<00:03, 26.67it/s]"
     ]
    },
    {
     "name": "stdout",
     "output_type": "stream",
     "text": [
      "UTC Begin: 2023-08-16 23:59:59, UTC End: 2023-08-17 23:59:59\n",
      "UTC Begin: 2023-08-17 23:59:59, UTC End: 2023-08-18 23:59:59\n",
      "UTC Begin: 2023-08-18 23:59:59, UTC End: 2023-08-19 23:59:59\n",
      "UTC Begin: 2023-08-19 23:59:59, UTC End: 2023-08-20 23:59:59\n",
      "UTC Begin: 2023-08-20 23:59:59, UTC End: 2023-08-21 23:59:59\n"
     ]
    },
    {
     "name": "stderr",
     "output_type": "stream",
     "text": [
      " 95%|█████████▌| 1851/1948 [27:18<00:03, 27.21it/s]"
     ]
    },
    {
     "name": "stdout",
     "output_type": "stream",
     "text": [
      "UTC Begin: 2023-08-21 23:59:59, UTC End: 2023-08-22 23:59:59\n",
      "UTC Begin: 2023-08-22 23:59:59, UTC End: 2023-08-23 23:59:59\n",
      "UTC Begin: 2023-08-23 23:59:59, UTC End: 2023-08-24 23:59:59\n",
      "UTC Begin: 2023-08-24 23:59:59, UTC End: 2023-08-25 23:59:59\n",
      "UTC Begin: 2023-08-25 23:59:59, UTC End: 2023-08-26 23:59:59\n",
      "UTC Begin: 2023-08-26 23:59:59, UTC End: 2023-08-27 23:59:59\n"
     ]
    },
    {
     "name": "stderr",
     "output_type": "stream",
     "text": [
      " 95%|█████████▌| 1857/1948 [27:18<00:03, 24.91it/s]"
     ]
    },
    {
     "name": "stdout",
     "output_type": "stream",
     "text": [
      "UTC Begin: 2023-08-27 23:59:59, UTC End: 2023-08-28 23:59:59\n",
      "UTC Begin: 2023-08-28 23:59:59, UTC End: 2023-08-29 23:59:59\n",
      "UTC Begin: 2023-08-29 23:59:59, UTC End: 2023-08-30 23:59:59\n",
      "UTC Begin: 2023-08-30 23:59:59, UTC End: 2023-08-31 23:59:59\n",
      "UTC Begin: 2023-08-31 23:59:59, UTC End: 2023-09-01 23:59:59\n"
     ]
    },
    {
     "name": "stderr",
     "output_type": "stream",
     "text": [
      " 96%|█████████▌| 1863/1948 [27:18<00:03, 25.88it/s]"
     ]
    },
    {
     "name": "stdout",
     "output_type": "stream",
     "text": [
      "UTC Begin: 2023-09-01 23:59:59, UTC End: 2023-09-02 23:59:59\n",
      "UTC Begin: 2023-09-02 23:59:59, UTC End: 2023-09-03 23:59:59\n",
      "UTC Begin: 2023-09-03 23:59:59, UTC End: 2023-09-04 23:59:59\n",
      "UTC Begin: 2023-09-04 23:59:59, UTC End: 2023-09-05 23:59:59\n",
      "UTC Begin: 2023-09-05 23:59:59, UTC End: 2023-09-06 23:59:59\n",
      "UTC Begin: 2023-09-06 23:59:59, UTC End: 2023-09-07 23:59:59\n"
     ]
    },
    {
     "name": "stderr",
     "output_type": "stream",
     "text": [
      " 96%|█████████▌| 1869/1948 [27:18<00:02, 26.59it/s]"
     ]
    },
    {
     "name": "stdout",
     "output_type": "stream",
     "text": [
      "UTC Begin: 2023-09-07 23:59:59, UTC End: 2023-09-08 23:59:59\n",
      "UTC Begin: 2023-09-08 23:59:59, UTC End: 2023-09-09 23:59:59\n",
      "UTC Begin: 2023-09-09 23:59:59, UTC End: 2023-09-10 23:59:59\n",
      "UTC Begin: 2023-09-10 23:59:59, UTC End: 2023-09-11 23:59:59\n",
      "UTC Begin: 2023-09-11 23:59:59, UTC End: 2023-09-12 23:59:59\n",
      "UTC Begin: 2023-09-12 23:59:59, UTC End: 2023-09-13 23:59:59\n"
     ]
    },
    {
     "name": "stderr",
     "output_type": "stream",
     "text": [
      " 96%|█████████▋| 1875/1948 [27:19<00:02, 26.40it/s]"
     ]
    },
    {
     "name": "stdout",
     "output_type": "stream",
     "text": [
      "UTC Begin: 2023-09-13 23:59:59, UTC End: 2023-09-14 23:59:59\n",
      "UTC Begin: 2023-09-14 23:59:59, UTC End: 2023-09-15 23:59:59\n",
      "UTC Begin: 2023-09-15 23:59:59, UTC End: 2023-09-16 23:59:59\n",
      "UTC Begin: 2023-09-16 23:59:59, UTC End: 2023-09-17 23:59:59\n",
      "UTC Begin: 2023-09-17 23:59:59, UTC End: 2023-09-18 23:59:59\n",
      "UTC Begin: 2023-09-18 23:59:59, UTC End: 2023-09-19 23:59:59\n"
     ]
    },
    {
     "name": "stderr",
     "output_type": "stream",
     "text": [
      " 97%|█████████▋| 1881/1948 [27:19<00:02, 26.74it/s]"
     ]
    },
    {
     "name": "stdout",
     "output_type": "stream",
     "text": [
      "UTC Begin: 2023-09-19 23:59:59, UTC End: 2023-09-20 23:59:59\n",
      "UTC Begin: 2023-09-20 23:59:59, UTC End: 2023-09-21 23:59:59\n",
      "UTC Begin: 2023-09-21 23:59:59, UTC End: 2023-09-22 23:59:59\n",
      "UTC Begin: 2023-09-22 23:59:59, UTC End: 2023-09-23 23:59:59\n",
      "UTC Begin: 2023-09-23 23:59:59, UTC End: 2023-09-24 23:59:59\n",
      "UTC Begin: 2023-09-24 23:59:59, UTC End: 2023-09-25 23:59:59\n"
     ]
    },
    {
     "name": "stderr",
     "output_type": "stream",
     "text": [
      " 97%|█████████▋| 1887/1948 [27:19<00:02, 27.48it/s]"
     ]
    },
    {
     "name": "stdout",
     "output_type": "stream",
     "text": [
      "UTC Begin: 2023-09-25 23:59:59, UTC End: 2023-09-26 23:59:59\n",
      "UTC Begin: 2023-09-26 23:59:59, UTC End: 2023-09-27 23:59:59\n",
      "UTC Begin: 2023-09-27 23:59:59, UTC End: 2023-09-28 23:59:59\n",
      "UTC Begin: 2023-09-28 23:59:59, UTC End: 2023-09-29 23:59:59\n",
      "UTC Begin: 2023-09-29 23:59:59, UTC End: 2023-09-30 23:59:59\n",
      "UTC Begin: 2023-09-30 23:59:59, UTC End: 2023-10-01 23:59:59\n"
     ]
    },
    {
     "name": "stderr",
     "output_type": "stream",
     "text": [
      " 97%|█████████▋| 1894/1948 [27:19<00:01, 28.83it/s]"
     ]
    },
    {
     "name": "stdout",
     "output_type": "stream",
     "text": [
      "UTC Begin: 2023-10-01 23:59:59, UTC End: 2023-10-02 23:59:59\n",
      "UTC Begin: 2023-10-02 23:59:59, UTC End: 2023-10-03 23:59:59\n",
      "UTC Begin: 2023-10-03 23:59:59, UTC End: 2023-10-04 23:59:59\n",
      "UTC Begin: 2023-10-04 23:59:59, UTC End: 2023-10-05 23:59:59\n",
      "UTC Begin: 2023-10-05 23:59:59, UTC End: 2023-10-06 23:59:59\n",
      "UTC Begin: 2023-10-06 23:59:59, UTC End: 2023-10-07 23:59:59\n",
      "UTC Begin: 2023-10-07 23:59:59, UTC End: 2023-10-08 23:59:59\n"
     ]
    },
    {
     "name": "stderr",
     "output_type": "stream",
     "text": [
      " 97%|█████████▋| 1898/1948 [27:20<00:01, 30.14it/s]"
     ]
    },
    {
     "name": "stdout",
     "output_type": "stream",
     "text": [
      "UTC Begin: 2023-10-08 23:59:59, UTC End: 2023-10-09 23:59:59\n",
      "UTC Begin: 2023-10-09 23:59:59, UTC End: 2023-10-10 23:59:59\n",
      "UTC Begin: 2023-10-10 23:59:59, UTC End: 2023-10-11 23:59:59\n",
      "UTC Begin: 2023-10-11 23:59:59, UTC End: 2023-10-12 23:59:59\n",
      "UTC Begin: 2023-10-12 23:59:59, UTC End: 2023-10-13 23:59:59\n",
      "UTC Begin: 2023-10-13 23:59:59, UTC End: 2023-10-14 23:59:59\n",
      "UTC Begin: 2023-10-14 23:59:59, UTC End: 2023-10-15 23:59:59\n"
     ]
    },
    {
     "name": "stderr",
     "output_type": "stream",
     "text": [
      " 98%|█████████▊| 1906/1948 [27:20<00:01, 29.52it/s]"
     ]
    },
    {
     "name": "stdout",
     "output_type": "stream",
     "text": [
      "UTC Begin: 2023-10-15 23:59:59, UTC End: 2023-10-16 23:59:59\n",
      "UTC Begin: 2023-10-16 23:59:59, UTC End: 2023-10-17 23:59:59\n",
      "UTC Begin: 2023-10-17 23:59:59, UTC End: 2023-10-18 23:59:59\n",
      "UTC Begin: 2023-10-18 23:59:59, UTC End: 2023-10-19 23:59:59\n",
      "UTC Begin: 2023-10-19 23:59:59, UTC End: 2023-10-20 23:59:59\n",
      "UTC Begin: 2023-10-20 23:59:59, UTC End: 2023-10-21 23:59:59\n"
     ]
    },
    {
     "name": "stderr",
     "output_type": "stream",
     "text": [
      " 98%|█████████▊| 1913/1948 [27:20<00:01, 29.74it/s]"
     ]
    },
    {
     "name": "stdout",
     "output_type": "stream",
     "text": [
      "UTC Begin: 2023-10-21 23:59:59, UTC End: 2023-10-22 23:59:59\n",
      "UTC Begin: 2023-10-22 23:59:59, UTC End: 2023-10-23 23:59:59\n",
      "UTC Begin: 2023-10-23 23:59:59, UTC End: 2023-10-24 23:59:59\n",
      "UTC Begin: 2023-10-24 23:59:59, UTC End: 2023-10-25 23:59:59\n",
      "UTC Begin: 2023-10-25 23:59:59, UTC End: 2023-10-26 23:59:59\n",
      "UTC Begin: 2023-10-26 23:59:59, UTC End: 2023-10-27 23:59:59\n",
      "UTC Begin: 2023-10-27 23:59:59, UTC End: 2023-10-28 23:59:59\n"
     ]
    },
    {
     "name": "stderr",
     "output_type": "stream",
     "text": [
      " 99%|█████████▊| 1919/1948 [27:20<00:01, 25.77it/s]"
     ]
    },
    {
     "name": "stdout",
     "output_type": "stream",
     "text": [
      "UTC Begin: 2023-10-28 23:59:59, UTC End: 2023-10-29 23:59:59\n",
      "UTC Begin: 2023-10-29 23:59:59, UTC End: 2023-10-30 23:59:59\n",
      "UTC Begin: 2023-10-30 23:59:59, UTC End: 2023-10-31 23:59:59\n",
      "UTC Begin: 2023-10-31 23:59:59, UTC End: 2023-11-01 23:59:59\n",
      "UTC Begin: 2023-11-01 23:59:59, UTC End: 2023-11-02 23:59:59\n"
     ]
    },
    {
     "name": "stderr",
     "output_type": "stream",
     "text": [
      " 99%|█████████▉| 1926/1948 [27:21<00:00, 27.94it/s]"
     ]
    },
    {
     "name": "stdout",
     "output_type": "stream",
     "text": [
      "UTC Begin: 2023-11-02 23:59:59, UTC End: 2023-11-03 23:59:59\n",
      "UTC Begin: 2023-11-03 23:59:59, UTC End: 2023-11-04 23:59:59\n",
      "UTC Begin: 2023-11-04 23:59:59, UTC End: 2023-11-05 23:59:59\n",
      "UTC Begin: 2023-11-05 23:59:59, UTC End: 2023-11-06 23:59:59\n",
      "UTC Begin: 2023-11-06 23:59:59, UTC End: 2023-11-07 23:59:59\n",
      "UTC Begin: 2023-11-07 23:59:59, UTC End: 2023-11-08 23:59:59\n",
      "UTC Begin: 2023-11-08 23:59:59, UTC End: 2023-11-09 23:59:59\n"
     ]
    },
    {
     "name": "stderr",
     "output_type": "stream",
     "text": [
      " 99%|█████████▉| 1933/1948 [27:21<00:00, 29.28it/s]"
     ]
    },
    {
     "name": "stdout",
     "output_type": "stream",
     "text": [
      "UTC Begin: 2023-11-09 23:59:59, UTC End: 2023-11-10 23:59:59\n",
      "UTC Begin: 2023-11-10 23:59:59, UTC End: 2023-11-11 23:59:59\n",
      "UTC Begin: 2023-11-11 23:59:59, UTC End: 2023-11-12 23:59:59\n",
      "UTC Begin: 2023-11-12 23:59:59, UTC End: 2023-11-13 23:59:59\n",
      "UTC Begin: 2023-11-13 23:59:59, UTC End: 2023-11-14 23:59:59\n",
      "UTC Begin: 2023-11-14 23:59:59, UTC End: 2023-11-15 23:59:59\n",
      "UTC Begin: 2023-11-15 23:59:59, UTC End: 2023-11-16 23:59:59\n"
     ]
    },
    {
     "name": "stderr",
     "output_type": "stream",
     "text": [
      " 99%|█████████▉| 1937/1948 [27:21<00:00, 29.71it/s]"
     ]
    },
    {
     "name": "stdout",
     "output_type": "stream",
     "text": [
      "UTC Begin: 2023-11-16 23:59:59, UTC End: 2023-11-17 23:59:59\n",
      "UTC Begin: 2023-11-17 23:59:59, UTC End: 2023-11-18 23:59:59\n",
      "UTC Begin: 2023-11-18 23:59:59, UTC End: 2023-11-19 23:59:59\n",
      "UTC Begin: 2023-11-19 23:59:59, UTC End: 2023-11-20 23:59:59\n",
      "UTC Begin: 2023-11-20 23:59:59, UTC End: 2023-11-21 23:59:59\n",
      "UTC Begin: 2023-11-21 23:59:59, UTC End: 2023-11-22 23:59:59\n"
     ]
    },
    {
     "name": "stderr",
     "output_type": "stream",
     "text": [
      "100%|█████████▉| 1944/1948 [27:21<00:00, 30.10it/s]"
     ]
    },
    {
     "name": "stdout",
     "output_type": "stream",
     "text": [
      "UTC Begin: 2023-11-22 23:59:59, UTC End: 2023-11-23 23:59:59\n",
      "UTC Begin: 2023-11-23 23:59:59, UTC End: 2023-11-24 23:59:59\n",
      "UTC Begin: 2023-11-24 23:59:59, UTC End: 2023-11-25 23:59:59\n",
      "UTC Begin: 2023-11-25 23:59:59, UTC End: 2023-11-26 23:59:59\n",
      "UTC Begin: 2023-11-26 23:59:59, UTC End: 2023-11-27 23:59:59\n",
      "UTC Begin: 2023-11-27 23:59:59, UTC End: 2023-11-28 23:59:59\n",
      "UTC Begin: 2023-11-28 23:59:59, UTC End: 2023-11-29 23:59:59\n"
     ]
    },
    {
     "name": "stderr",
     "output_type": "stream",
     "text": [
      "100%|██████████| 1948/1948 [27:21<00:00,  1.19it/s]"
     ]
    },
    {
     "name": "stdout",
     "output_type": "stream",
     "text": [
      "UTC Begin: 2023-11-29 23:59:59, UTC End: 2023-11-30 23:59:59\n",
      "UTC Begin: 2023-11-30 23:59:59, UTC End: 2023-12-01 23:59:59\n"
     ]
    },
    {
     "name": "stderr",
     "output_type": "stream",
     "text": [
      "\n"
     ]
    }
   ],
   "source": [
    "import re\n",
    "import nltk\n",
    "import psycopg2\n",
    "import pandas as pd\n",
    "import matplotlib.pyplot as plt\n",
    "import pytz\n",
    "import datetime\n",
    "import seaborn as sns\n",
    "from collections import Counter\n",
    "from vaderSentiment.vaderSentiment import SentimentIntensityAnalyzer\n",
    "from nltk.corpus import stopwords\n",
    "nltk.download('stopwords', quiet=True)\n",
    "from tqdm import tqdm\n",
    "\n",
    "\n",
    "# for date in daterange:\n",
    "reddit_sentiment_by_date = pd.DataFrame()\n",
    "\n",
    "# Create a date range\n",
    "start_date = '2018-08-01'\n",
    "end_date = '2023-11-30'\n",
    "date_range = pd.date_range(start=start_date, end=end_date, freq='D')\n",
    "\n",
    "\n",
    "# results repo\n",
    "results = []\n",
    "\n",
    "# Iterate through the date range\n",
    "for day in tqdm(date_range):\n",
    "    # Set UTC begin and end timestamps for each day\n",
    "    utc_begin = int(day.replace(hour=23, minute=59, second=59, tzinfo=datetime.timezone.utc).timestamp())\n",
    "    utc_end = int((day + pd.Timedelta(days=1)).replace(hour=23, minute=59, second=59, tzinfo=datetime.timezone.utc).timestamp())  \n",
    "    \n",
    "    \n",
    "    # pull submissions for date\n",
    "    try:\n",
    "        submissions_df = get_db_reddit(table='submissions',utc_begin=utc_begin, utc_end=utc_end)\n",
    "    except:\n",
    "        # Convert timestamps back to datetime objects\n",
    "        utc_begin_date = datetime.datetime.utcfromtimestamp(utc_begin).strftime('%Y-%m-%d %H:%M:%S')\n",
    "        utc_end_date = datetime.datetime.utcfromtimestamp(utc_end).strftime('%Y-%m-%d %H:%M:%S')\n",
    "\n",
    "        # Print the UTC begin and end dates in string format\n",
    "        print(f\"UTC Begin: {utc_begin_date}, UTC End: {utc_end_date}\")\n",
    "        continue\n",
    "    \n",
    "    # apply functions to df\n",
    "    submissions_df = preprocess_df(submissions_df)\n",
    "    submissions_df = find_tickers(submissions_df)\n",
    "    submissions_df = add_vader_sentiment(submissions_df)\n",
    "    \n",
    "    # create cumulative_sentiment_sorted_df\n",
    "    exploded_df = submissions_df.explode('tickers')\n",
    "    cumulative_sentiment = exploded_df.groupby('tickers')['overall_sentiment'].sum().reset_index() # Group by 'tickers'\n",
    "    cumulative_sentiment.columns = ['Ticker', 'Cumulative Overall Sentiment'] # Rename columns for clarity\n",
    "    cumulative_sentiment_sorted = cumulative_sentiment.sort_values(by='Cumulative Overall Sentiment', ascending=False)\n",
    "    # display(cumulative_sentiment_sorted)\n",
    "\n",
    "    # Group by 'tickers' and sum the 'score_weighted_sentiment'\n",
    "    cumulative_weighted_sentiment = exploded_df.groupby('tickers')['score_weighted_sentiment'].sum().reset_index()\n",
    "    cumulative_weighted_sentiment.columns = ['Ticker', 'Cumulative Weighted Sentiment'] # Rename columns for clarity\n",
    "    cumulative_weighted_sentiment_sorted = cumulative_weighted_sentiment.sort_values(by='Cumulative Weighted Sentiment', ascending=False)\n",
    "    cumulative_weighted_sentiment_sorted['Date'] = submissions_df['created_EST_date']\n",
    "    cumulative_weighted_sentiment_sorted['Date'].fillna(submissions_df['created_EST_date'].unique()[0],inplace=True)\n",
    "    # display(cumulative_weighted_sentiment_sorted)\n",
    "    \n",
    "    daily_sentiment_df = cumulative_sentiment_sorted.merge(cumulative_weighted_sentiment_sorted, on='Ticker')\n",
    "    # display(daily_sentiment_df)\n",
    "    \n",
    "    #append new_sentiment_df to daily_sentiment_df\n",
    "    # reddit_sentiment_by_date = pd.concat([reddit_sentiment_by_date, daily_sentiment_df])\n",
    "    # display(reddit_sentiment_by_date)\n",
    "    \n",
    "    results.append(daily_sentiment_df)\n"
   ]
  },
  {
   "cell_type": "code",
   "execution_count": 10,
   "id": "a4d288f8-18ba-4059-b87f-ba660310ca1d",
   "metadata": {},
   "outputs": [
    {
     "data": {
      "text/plain": [
       "1609"
      ]
     },
     "execution_count": 10,
     "metadata": {},
     "output_type": "execute_result"
    }
   ],
   "source": [
    "len(results)"
   ]
  },
  {
   "cell_type": "code",
   "execution_count": 11,
   "id": "257037d3-dc21-469b-b6f2-f47d308f11cd",
   "metadata": {},
   "outputs": [
    {
     "data": {
      "text/plain": [
       "(161976, 4)"
      ]
     },
     "execution_count": 11,
     "metadata": {},
     "output_type": "execute_result"
    }
   ],
   "source": [
    "reddit_sentiment_by_date =  pd.concat(results)\n",
    "\n",
    "reddit_sentiment_by_date.shape"
   ]
  },
  {
   "cell_type": "code",
   "execution_count": 14,
   "id": "3bc7425c-6930-4f37-9823-ca524c6fb04a",
   "metadata": {},
   "outputs": [
    {
     "data": {
      "text/html": [
       "<div>\n",
       "<style scoped>\n",
       "    .dataframe tbody tr th:only-of-type {\n",
       "        vertical-align: middle;\n",
       "    }\n",
       "\n",
       "    .dataframe tbody tr th {\n",
       "        vertical-align: top;\n",
       "    }\n",
       "\n",
       "    .dataframe thead th {\n",
       "        text-align: right;\n",
       "    }\n",
       "</style>\n",
       "<table border=\"1\" class=\"dataframe\">\n",
       "  <thead>\n",
       "    <tr style=\"text-align: right;\">\n",
       "      <th></th>\n",
       "      <th>Ticker</th>\n",
       "      <th>Cumulative Overall Sentiment</th>\n",
       "      <th>Cumulative Weighted Sentiment</th>\n",
       "      <th>Date</th>\n",
       "    </tr>\n",
       "  </thead>\n",
       "  <tbody>\n",
       "    <tr>\n",
       "      <th>0</th>\n",
       "      <td>TSLA</td>\n",
       "      <td>5.49375</td>\n",
       "      <td>-139.88380</td>\n",
       "      <td>2018-08-01</td>\n",
       "    </tr>\n",
       "    <tr>\n",
       "      <th>1</th>\n",
       "      <td>SQ</td>\n",
       "      <td>3.44880</td>\n",
       "      <td>115.74475</td>\n",
       "      <td>2018-08-01</td>\n",
       "    </tr>\n",
       "    <tr>\n",
       "      <th>2</th>\n",
       "      <td>NVDA</td>\n",
       "      <td>2.61225</td>\n",
       "      <td>105.96790</td>\n",
       "      <td>2018-08-01</td>\n",
       "    </tr>\n",
       "    <tr>\n",
       "      <th>3</th>\n",
       "      <td>MSFT</td>\n",
       "      <td>2.04665</td>\n",
       "      <td>107.76055</td>\n",
       "      <td>2018-08-01</td>\n",
       "    </tr>\n",
       "    <tr>\n",
       "      <th>4</th>\n",
       "      <td>CC</td>\n",
       "      <td>1.46725</td>\n",
       "      <td>61.27800</td>\n",
       "      <td>2018-08-01</td>\n",
       "    </tr>\n",
       "  </tbody>\n",
       "</table>\n",
       "</div>"
      ],
      "text/plain": [
       "  Ticker  Cumulative Overall Sentiment  Cumulative Weighted Sentiment  \\\n",
       "0   TSLA                       5.49375                     -139.88380   \n",
       "1     SQ                       3.44880                      115.74475   \n",
       "2   NVDA                       2.61225                      105.96790   \n",
       "3   MSFT                       2.04665                      107.76055   \n",
       "4     CC                       1.46725                       61.27800   \n",
       "\n",
       "         Date  \n",
       "0  2018-08-01  \n",
       "1  2018-08-01  \n",
       "2  2018-08-01  \n",
       "3  2018-08-01  \n",
       "4  2018-08-01  "
      ]
     },
     "execution_count": 14,
     "metadata": {},
     "output_type": "execute_result"
    }
   ],
   "source": [
    "reddit_sentiment_by_date.head()"
   ]
  },
  {
   "cell_type": "code",
   "execution_count": 15,
   "id": "98c686e5-3430-4346-aacc-69181f3f82ab",
   "metadata": {},
   "outputs": [],
   "source": [
    "reddit_sentiment_by_date.to_csv(\"hist_sentiment.csv\", index=False, header=False)"
   ]
  },
  {
   "cell_type": "code",
   "execution_count": 16,
   "id": "63f30167-f0c1-4836-8971-cdeb36fb8a07",
   "metadata": {},
   "outputs": [
    {
     "name": "stdout",
     "output_type": "stream",
     "text": [
      "TSLA,5.49375,-139.88380000000004,2018-08-01\n",
      "SQ,3.4488000000000003,115.74475,2018-08-01\n",
      "NVDA,2.61225,105.9679,2018-08-01\n",
      "MSFT,2.04665,107.76055,2018-08-01\n",
      "CC,1.46725,61.278,2018-08-01\n",
      "BIDU,1.3963,4.5704,2018-08-01\n",
      "SBUX,1.1623999999999999,18.1114,2018-08-01\n",
      "MU,1.1574499999999999,32.25815,2018-08-01\n",
      "POST,0.80425,13.67225,2018-08-01\n",
      "ACT,0.80425,13.67225,2018-08-01\n"
     ]
    }
   ],
   "source": [
    "!head hist_sentiment.csv"
   ]
  },
  {
   "cell_type": "code",
   "execution_count": 18,
   "id": "04925337-523e-445a-bdef-c73e65ee8637",
   "metadata": {},
   "outputs": [],
   "source": [
    "db_connection = psycopg2.connect(\n",
    "            user='postgres', password='Data2023',\n",
    "            host='mads-capstone.cmohac77hep9.eu-north-1.rds.amazonaws.com', port=5432,\n",
    "            database=\"mads\"\n",
    "        )\n",
    "\n",
    "db_connection.autocommit = True\n",
    "\n",
    "cursor = db_connection.cursor()"
   ]
  },
  {
   "cell_type": "code",
   "execution_count": 19,
   "id": "c5e5923f-6527-4cae-97b6-2ceab89b4646",
   "metadata": {},
   "outputs": [],
   "source": [
    "query = '''CREATE TABLE reddit_sentiment_by_date (id SERIAL PRIMARY KEY,  \n",
    "                                ticker VARCHAR(8),\n",
    "                                cumm_overall_sentiment float,\n",
    "                                cumm_weighted_sentiment float,\n",
    "                                record_date date)'''\n",
    "\n",
    "\n",
    "cursor.execute(query)"
   ]
  },
  {
   "cell_type": "code",
   "execution_count": 20,
   "id": "0a2677d2-4fcc-460c-b28e-d10eff44c9d0",
   "metadata": {},
   "outputs": [
    {
     "data": {
      "text/plain": [
       "[(0,)]"
      ]
     },
     "execution_count": 20,
     "metadata": {},
     "output_type": "execute_result"
    }
   ],
   "source": [
    "import pandas as pd\n",
    "\n",
    "select_query = \"SELECT count(*) FROM reddit_sentiment_by_date\"\n",
    "\n",
    "cursor.execute(select_query)\n",
    "\n",
    "cursor.fetchall()"
   ]
  },
  {
   "cell_type": "code",
   "execution_count": 22,
   "id": "f18c3c8b-b80d-45b0-a6dc-bfbc406fe226",
   "metadata": {},
   "outputs": [],
   "source": [
    "with open(\"hist_sentiment.csv\", \"rb\") as fp:\n",
    "            cursor.copy_from(fp, \"reddit_sentiment_by_date\", sep=\",\", null=\"\", columns=[\"ticker\", \"cumm_overall_sentiment\", \"cumm_weighted_sentiment\", \"record_date\"])"
   ]
  },
  {
   "cell_type": "code",
   "execution_count": 23,
   "id": "50308c70-afdf-46a7-8db5-a6c63199d5d0",
   "metadata": {},
   "outputs": [
    {
     "data": {
      "text/plain": [
       "[(161976,)]"
      ]
     },
     "execution_count": 23,
     "metadata": {},
     "output_type": "execute_result"
    }
   ],
   "source": [
    "import pandas as pd\n",
    "\n",
    "select_query = \"SELECT count(*) FROM reddit_sentiment_by_date\"\n",
    "\n",
    "cursor.execute(select_query)\n",
    "\n",
    "cursor.fetchall()"
   ]
  },
  {
   "cell_type": "code",
   "execution_count": 24,
   "id": "01c0ccd1-11a8-4908-a7da-a4e8f14e2fe3",
   "metadata": {},
   "outputs": [],
   "source": [
    "index_query = \"CREATE INDEX reddit_sentiment_ticker_index ON reddit_sentiment_by_date(ticker);\"\n",
    "\n",
    "cursor.execute(index_query)"
   ]
  },
  {
   "cell_type": "code",
   "execution_count": 25,
   "id": "8736a6a7-b4ee-4c4d-add9-40aa78eb97f3",
   "metadata": {},
   "outputs": [],
   "source": [
    "index_query = \"CREATE INDEX reddit_sentiment_date_index ON reddit_sentiment_by_date(record_date);\"\n",
    "\n",
    "cursor.execute(index_query)"
   ]
  },
  {
   "cell_type": "code",
   "execution_count": 28,
   "id": "1fd5b546-bce8-4864-96a2-cfa05d97d27f",
   "metadata": {},
   "outputs": [
    {
     "name": "stdout",
     "output_type": "stream",
     "text": [
      "(100, 5)\n"
     ]
    },
    {
     "data": {
      "text/html": [
       "<div>\n",
       "<style scoped>\n",
       "    .dataframe tbody tr th:only-of-type {\n",
       "        vertical-align: middle;\n",
       "    }\n",
       "\n",
       "    .dataframe tbody tr th {\n",
       "        vertical-align: top;\n",
       "    }\n",
       "\n",
       "    .dataframe thead th {\n",
       "        text-align: right;\n",
       "    }\n",
       "</style>\n",
       "<table border=\"1\" class=\"dataframe\">\n",
       "  <thead>\n",
       "    <tr style=\"text-align: right;\">\n",
       "      <th></th>\n",
       "      <th>id</th>\n",
       "      <th>ticker</th>\n",
       "      <th>cumm_overall_sentiment</th>\n",
       "      <th>cumm_weighted_sentiment</th>\n",
       "      <th>record_date</th>\n",
       "    </tr>\n",
       "  </thead>\n",
       "  <tbody>\n",
       "    <tr>\n",
       "      <th>0</th>\n",
       "      <td>1</td>\n",
       "      <td>TSLA</td>\n",
       "      <td>5.49375</td>\n",
       "      <td>-139.88380</td>\n",
       "      <td>2018-08-01</td>\n",
       "    </tr>\n",
       "    <tr>\n",
       "      <th>1</th>\n",
       "      <td>2</td>\n",
       "      <td>SQ</td>\n",
       "      <td>3.44880</td>\n",
       "      <td>115.74475</td>\n",
       "      <td>2018-08-01</td>\n",
       "    </tr>\n",
       "    <tr>\n",
       "      <th>2</th>\n",
       "      <td>3</td>\n",
       "      <td>NVDA</td>\n",
       "      <td>2.61225</td>\n",
       "      <td>105.96790</td>\n",
       "      <td>2018-08-01</td>\n",
       "    </tr>\n",
       "    <tr>\n",
       "      <th>3</th>\n",
       "      <td>4</td>\n",
       "      <td>MSFT</td>\n",
       "      <td>2.04665</td>\n",
       "      <td>107.76055</td>\n",
       "      <td>2018-08-01</td>\n",
       "    </tr>\n",
       "    <tr>\n",
       "      <th>4</th>\n",
       "      <td>5</td>\n",
       "      <td>CC</td>\n",
       "      <td>1.46725</td>\n",
       "      <td>61.27800</td>\n",
       "      <td>2018-08-01</td>\n",
       "    </tr>\n",
       "  </tbody>\n",
       "</table>\n",
       "</div>"
      ],
      "text/plain": [
       "   id ticker  cumm_overall_sentiment  cumm_weighted_sentiment record_date\n",
       "0   1   TSLA                 5.49375               -139.88380  2018-08-01\n",
       "1   2     SQ                 3.44880                115.74475  2018-08-01\n",
       "2   3   NVDA                 2.61225                105.96790  2018-08-01\n",
       "3   4   MSFT                 2.04665                107.76055  2018-08-01\n",
       "4   5     CC                 1.46725                 61.27800  2018-08-01"
      ]
     },
     "execution_count": 28,
     "metadata": {},
     "output_type": "execute_result"
    }
   ],
   "source": [
    "select_query = \"SELECT * FROM reddit_sentiment_by_date LIMIT 100;\"\n",
    "\n",
    "cursor.execute(select_query)\n",
    "\n",
    "rows = cursor.fetchall()\n",
    "\n",
    "records = []\n",
    "for row in rows:\n",
    "    records.append([row[0], row[1],row[2], row[3], row[4]])\n",
    "    \n",
    "df = pd.DataFrame(records, columns=[\"id\", \"ticker\", \"cumm_overall_sentiment\", \"cumm_weighted_sentiment\", \"record_date\"])\n",
    "\n",
    "print(df.shape)\n",
    "\n",
    "df.head()"
   ]
  },
  {
   "cell_type": "markdown",
   "id": "f8a79585-b512-41f4-8321-1cb0708ecb53",
   "metadata": {
    "tags": []
   },
   "source": [
    "# 3. Add daily_sentiment_df to dbreddit_sentiment_by_date"
   ]
  },
  {
   "cell_type": "code",
   "execution_count": null,
   "id": "8cd82a1e-149e-4127-b4c3-a811b223a25a",
   "metadata": {},
   "outputs": [],
   "source": [
    "# "
   ]
  }
 ],
 "metadata": {
  "availableInstances": [
   {
    "_defaultOrder": 0,
    "_isFastLaunch": true,
    "category": "General purpose",
    "gpuNum": 0,
    "hideHardwareSpecs": false,
    "memoryGiB": 4,
    "name": "ml.t3.medium",
    "vcpuNum": 2
   },
   {
    "_defaultOrder": 1,
    "_isFastLaunch": false,
    "category": "General purpose",
    "gpuNum": 0,
    "hideHardwareSpecs": false,
    "memoryGiB": 8,
    "name": "ml.t3.large",
    "vcpuNum": 2
   },
   {
    "_defaultOrder": 2,
    "_isFastLaunch": false,
    "category": "General purpose",
    "gpuNum": 0,
    "hideHardwareSpecs": false,
    "memoryGiB": 16,
    "name": "ml.t3.xlarge",
    "vcpuNum": 4
   },
   {
    "_defaultOrder": 3,
    "_isFastLaunch": false,
    "category": "General purpose",
    "gpuNum": 0,
    "hideHardwareSpecs": false,
    "memoryGiB": 32,
    "name": "ml.t3.2xlarge",
    "vcpuNum": 8
   },
   {
    "_defaultOrder": 4,
    "_isFastLaunch": true,
    "category": "General purpose",
    "gpuNum": 0,
    "hideHardwareSpecs": false,
    "memoryGiB": 8,
    "name": "ml.m5.large",
    "vcpuNum": 2
   },
   {
    "_defaultOrder": 5,
    "_isFastLaunch": false,
    "category": "General purpose",
    "gpuNum": 0,
    "hideHardwareSpecs": false,
    "memoryGiB": 16,
    "name": "ml.m5.xlarge",
    "vcpuNum": 4
   },
   {
    "_defaultOrder": 6,
    "_isFastLaunch": false,
    "category": "General purpose",
    "gpuNum": 0,
    "hideHardwareSpecs": false,
    "memoryGiB": 32,
    "name": "ml.m5.2xlarge",
    "vcpuNum": 8
   },
   {
    "_defaultOrder": 7,
    "_isFastLaunch": false,
    "category": "General purpose",
    "gpuNum": 0,
    "hideHardwareSpecs": false,
    "memoryGiB": 64,
    "name": "ml.m5.4xlarge",
    "vcpuNum": 16
   },
   {
    "_defaultOrder": 8,
    "_isFastLaunch": false,
    "category": "General purpose",
    "gpuNum": 0,
    "hideHardwareSpecs": false,
    "memoryGiB": 128,
    "name": "ml.m5.8xlarge",
    "vcpuNum": 32
   },
   {
    "_defaultOrder": 9,
    "_isFastLaunch": false,
    "category": "General purpose",
    "gpuNum": 0,
    "hideHardwareSpecs": false,
    "memoryGiB": 192,
    "name": "ml.m5.12xlarge",
    "vcpuNum": 48
   },
   {
    "_defaultOrder": 10,
    "_isFastLaunch": false,
    "category": "General purpose",
    "gpuNum": 0,
    "hideHardwareSpecs": false,
    "memoryGiB": 256,
    "name": "ml.m5.16xlarge",
    "vcpuNum": 64
   },
   {
    "_defaultOrder": 11,
    "_isFastLaunch": false,
    "category": "General purpose",
    "gpuNum": 0,
    "hideHardwareSpecs": false,
    "memoryGiB": 384,
    "name": "ml.m5.24xlarge",
    "vcpuNum": 96
   },
   {
    "_defaultOrder": 12,
    "_isFastLaunch": false,
    "category": "General purpose",
    "gpuNum": 0,
    "hideHardwareSpecs": false,
    "memoryGiB": 8,
    "name": "ml.m5d.large",
    "vcpuNum": 2
   },
   {
    "_defaultOrder": 13,
    "_isFastLaunch": false,
    "category": "General purpose",
    "gpuNum": 0,
    "hideHardwareSpecs": false,
    "memoryGiB": 16,
    "name": "ml.m5d.xlarge",
    "vcpuNum": 4
   },
   {
    "_defaultOrder": 14,
    "_isFastLaunch": false,
    "category": "General purpose",
    "gpuNum": 0,
    "hideHardwareSpecs": false,
    "memoryGiB": 32,
    "name": "ml.m5d.2xlarge",
    "vcpuNum": 8
   },
   {
    "_defaultOrder": 15,
    "_isFastLaunch": false,
    "category": "General purpose",
    "gpuNum": 0,
    "hideHardwareSpecs": false,
    "memoryGiB": 64,
    "name": "ml.m5d.4xlarge",
    "vcpuNum": 16
   },
   {
    "_defaultOrder": 16,
    "_isFastLaunch": false,
    "category": "General purpose",
    "gpuNum": 0,
    "hideHardwareSpecs": false,
    "memoryGiB": 128,
    "name": "ml.m5d.8xlarge",
    "vcpuNum": 32
   },
   {
    "_defaultOrder": 17,
    "_isFastLaunch": false,
    "category": "General purpose",
    "gpuNum": 0,
    "hideHardwareSpecs": false,
    "memoryGiB": 192,
    "name": "ml.m5d.12xlarge",
    "vcpuNum": 48
   },
   {
    "_defaultOrder": 18,
    "_isFastLaunch": false,
    "category": "General purpose",
    "gpuNum": 0,
    "hideHardwareSpecs": false,
    "memoryGiB": 256,
    "name": "ml.m5d.16xlarge",
    "vcpuNum": 64
   },
   {
    "_defaultOrder": 19,
    "_isFastLaunch": false,
    "category": "General purpose",
    "gpuNum": 0,
    "hideHardwareSpecs": false,
    "memoryGiB": 384,
    "name": "ml.m5d.24xlarge",
    "vcpuNum": 96
   },
   {
    "_defaultOrder": 20,
    "_isFastLaunch": false,
    "category": "General purpose",
    "gpuNum": 0,
    "hideHardwareSpecs": true,
    "memoryGiB": 0,
    "name": "ml.geospatial.interactive",
    "supportedImageNames": [
     "sagemaker-geospatial-v1-0"
    ],
    "vcpuNum": 0
   },
   {
    "_defaultOrder": 21,
    "_isFastLaunch": true,
    "category": "Compute optimized",
    "gpuNum": 0,
    "hideHardwareSpecs": false,
    "memoryGiB": 4,
    "name": "ml.c5.large",
    "vcpuNum": 2
   },
   {
    "_defaultOrder": 22,
    "_isFastLaunch": false,
    "category": "Compute optimized",
    "gpuNum": 0,
    "hideHardwareSpecs": false,
    "memoryGiB": 8,
    "name": "ml.c5.xlarge",
    "vcpuNum": 4
   },
   {
    "_defaultOrder": 23,
    "_isFastLaunch": false,
    "category": "Compute optimized",
    "gpuNum": 0,
    "hideHardwareSpecs": false,
    "memoryGiB": 16,
    "name": "ml.c5.2xlarge",
    "vcpuNum": 8
   },
   {
    "_defaultOrder": 24,
    "_isFastLaunch": false,
    "category": "Compute optimized",
    "gpuNum": 0,
    "hideHardwareSpecs": false,
    "memoryGiB": 32,
    "name": "ml.c5.4xlarge",
    "vcpuNum": 16
   },
   {
    "_defaultOrder": 25,
    "_isFastLaunch": false,
    "category": "Compute optimized",
    "gpuNum": 0,
    "hideHardwareSpecs": false,
    "memoryGiB": 72,
    "name": "ml.c5.9xlarge",
    "vcpuNum": 36
   },
   {
    "_defaultOrder": 26,
    "_isFastLaunch": false,
    "category": "Compute optimized",
    "gpuNum": 0,
    "hideHardwareSpecs": false,
    "memoryGiB": 96,
    "name": "ml.c5.12xlarge",
    "vcpuNum": 48
   },
   {
    "_defaultOrder": 27,
    "_isFastLaunch": false,
    "category": "Compute optimized",
    "gpuNum": 0,
    "hideHardwareSpecs": false,
    "memoryGiB": 144,
    "name": "ml.c5.18xlarge",
    "vcpuNum": 72
   },
   {
    "_defaultOrder": 28,
    "_isFastLaunch": false,
    "category": "Compute optimized",
    "gpuNum": 0,
    "hideHardwareSpecs": false,
    "memoryGiB": 192,
    "name": "ml.c5.24xlarge",
    "vcpuNum": 96
   },
   {
    "_defaultOrder": 29,
    "_isFastLaunch": true,
    "category": "Accelerated computing",
    "gpuNum": 1,
    "hideHardwareSpecs": false,
    "memoryGiB": 16,
    "name": "ml.g4dn.xlarge",
    "vcpuNum": 4
   },
   {
    "_defaultOrder": 30,
    "_isFastLaunch": false,
    "category": "Accelerated computing",
    "gpuNum": 1,
    "hideHardwareSpecs": false,
    "memoryGiB": 32,
    "name": "ml.g4dn.2xlarge",
    "vcpuNum": 8
   },
   {
    "_defaultOrder": 31,
    "_isFastLaunch": false,
    "category": "Accelerated computing",
    "gpuNum": 1,
    "hideHardwareSpecs": false,
    "memoryGiB": 64,
    "name": "ml.g4dn.4xlarge",
    "vcpuNum": 16
   },
   {
    "_defaultOrder": 32,
    "_isFastLaunch": false,
    "category": "Accelerated computing",
    "gpuNum": 1,
    "hideHardwareSpecs": false,
    "memoryGiB": 128,
    "name": "ml.g4dn.8xlarge",
    "vcpuNum": 32
   },
   {
    "_defaultOrder": 33,
    "_isFastLaunch": false,
    "category": "Accelerated computing",
    "gpuNum": 4,
    "hideHardwareSpecs": false,
    "memoryGiB": 192,
    "name": "ml.g4dn.12xlarge",
    "vcpuNum": 48
   },
   {
    "_defaultOrder": 34,
    "_isFastLaunch": false,
    "category": "Accelerated computing",
    "gpuNum": 1,
    "hideHardwareSpecs": false,
    "memoryGiB": 256,
    "name": "ml.g4dn.16xlarge",
    "vcpuNum": 64
   },
   {
    "_defaultOrder": 35,
    "_isFastLaunch": false,
    "category": "Accelerated computing",
    "gpuNum": 1,
    "hideHardwareSpecs": false,
    "memoryGiB": 61,
    "name": "ml.p3.2xlarge",
    "vcpuNum": 8
   },
   {
    "_defaultOrder": 36,
    "_isFastLaunch": false,
    "category": "Accelerated computing",
    "gpuNum": 4,
    "hideHardwareSpecs": false,
    "memoryGiB": 244,
    "name": "ml.p3.8xlarge",
    "vcpuNum": 32
   },
   {
    "_defaultOrder": 37,
    "_isFastLaunch": false,
    "category": "Accelerated computing",
    "gpuNum": 8,
    "hideHardwareSpecs": false,
    "memoryGiB": 488,
    "name": "ml.p3.16xlarge",
    "vcpuNum": 64
   },
   {
    "_defaultOrder": 38,
    "_isFastLaunch": false,
    "category": "Accelerated computing",
    "gpuNum": 8,
    "hideHardwareSpecs": false,
    "memoryGiB": 768,
    "name": "ml.p3dn.24xlarge",
    "vcpuNum": 96
   },
   {
    "_defaultOrder": 39,
    "_isFastLaunch": false,
    "category": "Memory Optimized",
    "gpuNum": 0,
    "hideHardwareSpecs": false,
    "memoryGiB": 16,
    "name": "ml.r5.large",
    "vcpuNum": 2
   },
   {
    "_defaultOrder": 40,
    "_isFastLaunch": false,
    "category": "Memory Optimized",
    "gpuNum": 0,
    "hideHardwareSpecs": false,
    "memoryGiB": 32,
    "name": "ml.r5.xlarge",
    "vcpuNum": 4
   },
   {
    "_defaultOrder": 41,
    "_isFastLaunch": false,
    "category": "Memory Optimized",
    "gpuNum": 0,
    "hideHardwareSpecs": false,
    "memoryGiB": 64,
    "name": "ml.r5.2xlarge",
    "vcpuNum": 8
   },
   {
    "_defaultOrder": 42,
    "_isFastLaunch": false,
    "category": "Memory Optimized",
    "gpuNum": 0,
    "hideHardwareSpecs": false,
    "memoryGiB": 128,
    "name": "ml.r5.4xlarge",
    "vcpuNum": 16
   },
   {
    "_defaultOrder": 43,
    "_isFastLaunch": false,
    "category": "Memory Optimized",
    "gpuNum": 0,
    "hideHardwareSpecs": false,
    "memoryGiB": 256,
    "name": "ml.r5.8xlarge",
    "vcpuNum": 32
   },
   {
    "_defaultOrder": 44,
    "_isFastLaunch": false,
    "category": "Memory Optimized",
    "gpuNum": 0,
    "hideHardwareSpecs": false,
    "memoryGiB": 384,
    "name": "ml.r5.12xlarge",
    "vcpuNum": 48
   },
   {
    "_defaultOrder": 45,
    "_isFastLaunch": false,
    "category": "Memory Optimized",
    "gpuNum": 0,
    "hideHardwareSpecs": false,
    "memoryGiB": 512,
    "name": "ml.r5.16xlarge",
    "vcpuNum": 64
   },
   {
    "_defaultOrder": 46,
    "_isFastLaunch": false,
    "category": "Memory Optimized",
    "gpuNum": 0,
    "hideHardwareSpecs": false,
    "memoryGiB": 768,
    "name": "ml.r5.24xlarge",
    "vcpuNum": 96
   },
   {
    "_defaultOrder": 47,
    "_isFastLaunch": false,
    "category": "Accelerated computing",
    "gpuNum": 1,
    "hideHardwareSpecs": false,
    "memoryGiB": 16,
    "name": "ml.g5.xlarge",
    "vcpuNum": 4
   },
   {
    "_defaultOrder": 48,
    "_isFastLaunch": false,
    "category": "Accelerated computing",
    "gpuNum": 1,
    "hideHardwareSpecs": false,
    "memoryGiB": 32,
    "name": "ml.g5.2xlarge",
    "vcpuNum": 8
   },
   {
    "_defaultOrder": 49,
    "_isFastLaunch": false,
    "category": "Accelerated computing",
    "gpuNum": 1,
    "hideHardwareSpecs": false,
    "memoryGiB": 64,
    "name": "ml.g5.4xlarge",
    "vcpuNum": 16
   },
   {
    "_defaultOrder": 50,
    "_isFastLaunch": false,
    "category": "Accelerated computing",
    "gpuNum": 1,
    "hideHardwareSpecs": false,
    "memoryGiB": 128,
    "name": "ml.g5.8xlarge",
    "vcpuNum": 32
   },
   {
    "_defaultOrder": 51,
    "_isFastLaunch": false,
    "category": "Accelerated computing",
    "gpuNum": 1,
    "hideHardwareSpecs": false,
    "memoryGiB": 256,
    "name": "ml.g5.16xlarge",
    "vcpuNum": 64
   },
   {
    "_defaultOrder": 52,
    "_isFastLaunch": false,
    "category": "Accelerated computing",
    "gpuNum": 4,
    "hideHardwareSpecs": false,
    "memoryGiB": 192,
    "name": "ml.g5.12xlarge",
    "vcpuNum": 48
   },
   {
    "_defaultOrder": 53,
    "_isFastLaunch": false,
    "category": "Accelerated computing",
    "gpuNum": 4,
    "hideHardwareSpecs": false,
    "memoryGiB": 384,
    "name": "ml.g5.24xlarge",
    "vcpuNum": 96
   },
   {
    "_defaultOrder": 54,
    "_isFastLaunch": false,
    "category": "Accelerated computing",
    "gpuNum": 8,
    "hideHardwareSpecs": false,
    "memoryGiB": 768,
    "name": "ml.g5.48xlarge",
    "vcpuNum": 192
   },
   {
    "_defaultOrder": 55,
    "_isFastLaunch": false,
    "category": "Accelerated computing",
    "gpuNum": 8,
    "hideHardwareSpecs": false,
    "memoryGiB": 1152,
    "name": "ml.p4d.24xlarge",
    "vcpuNum": 96
   },
   {
    "_defaultOrder": 56,
    "_isFastLaunch": false,
    "category": "Accelerated computing",
    "gpuNum": 8,
    "hideHardwareSpecs": false,
    "memoryGiB": 1152,
    "name": "ml.p4de.24xlarge",
    "vcpuNum": 96
   },
   {
    "_defaultOrder": 57,
    "_isFastLaunch": false,
    "category": "Accelerated computing",
    "gpuNum": 0,
    "hideHardwareSpecs": false,
    "memoryGiB": 32,
    "name": "ml.trn1.2xlarge",
    "vcpuNum": 8
   },
   {
    "_defaultOrder": 58,
    "_isFastLaunch": false,
    "category": "Accelerated computing",
    "gpuNum": 0,
    "hideHardwareSpecs": false,
    "memoryGiB": 512,
    "name": "ml.trn1.32xlarge",
    "vcpuNum": 128
   },
   {
    "_defaultOrder": 59,
    "_isFastLaunch": false,
    "category": "Accelerated computing",
    "gpuNum": 0,
    "hideHardwareSpecs": false,
    "memoryGiB": 512,
    "name": "ml.trn1n.32xlarge",
    "vcpuNum": 128
   }
  ],
  "kernelspec": {
   "display_name": "Python 3 (Data Science 3.0)",
   "language": "python",
   "name": "python3__SAGEMAKER_INTERNAL__arn:aws:sagemaker:eu-north-1:243637512696:image/sagemaker-data-science-310-v1"
  },
  "language_info": {
   "codemirror_mode": {
    "name": "ipython",
    "version": 3
   },
   "file_extension": ".py",
   "mimetype": "text/x-python",
   "name": "python",
   "nbconvert_exporter": "python",
   "pygments_lexer": "ipython3",
   "version": "3.10.6"
  }
 },
 "nbformat": 4,
 "nbformat_minor": 5
}
