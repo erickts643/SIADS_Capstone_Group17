{
 "cells": [
  {
   "cell_type": "markdown",
   "id": "8136a30e-6d3e-4a85-ab4c-c18dbe693e93",
   "metadata": {},
   "source": [
    "# S3 & DB Access Notebook"
   ]
  },
  {
   "cell_type": "markdown",
   "id": "314c72a3-b514-454a-90c3-2abd316bc70f",
   "metadata": {},
   "source": [
    "## S3 Access"
   ]
  },
  {
   "cell_type": "code",
   "execution_count": 219,
   "id": "bea59640-d9fe-4898-a804-eaba25ab16dc",
   "metadata": {},
   "outputs": [
    {
     "data": {
      "text/plain": [
       "'s3://mads-capstone-2023'"
      ]
     },
     "execution_count": 219,
     "metadata": {},
     "output_type": "execute_result"
    }
   ],
   "source": [
    "\"s3://mads-capstone-2023\""
   ]
  },
  {
   "cell_type": "code",
   "execution_count": 2,
   "id": "d1f653e1-a75b-4b7e-97f7-1094f003df36",
   "metadata": {},
   "outputs": [
    {
     "name": "stdout",
     "output_type": "stream",
     "text": [
      "sagemaker.config INFO - Not applying SDK defaults from location: /etc/xdg/sagemaker/config.yaml\n",
      "sagemaker.config INFO - Not applying SDK defaults from location: /root/.config/sagemaker/config.yaml\n"
     ]
    }
   ],
   "source": [
    "import boto3 \n",
    "import botocore \n",
    "import pandas as pd \n",
    "from sagemaker import get_execution_role\n",
    "import psycopg2"
   ]
  },
  {
   "cell_type": "code",
   "execution_count": 221,
   "id": "2639fe34-d62d-442d-b93e-03244e3d5be0",
   "metadata": {},
   "outputs": [
    {
     "name": "stdout",
     "output_type": "stream",
     "text": [
      "sagemaker.config INFO - Not applying SDK defaults from location: /etc/xdg/sagemaker/config.yaml\n",
      "sagemaker.config INFO - Not applying SDK defaults from location: /root/.config/sagemaker/config.yaml\n"
     ]
    },
    {
     "data": {
      "text/plain": [
       "'arn:aws:iam::711527276276:role/service-role/AmazonSageMaker-ExecutionRole-20231108T205775'"
      ]
     },
     "execution_count": 221,
     "metadata": {},
     "output_type": "execute_result"
    }
   ],
   "source": [
    "role = get_execution_role()\n",
    "\n",
    "role"
   ]
  },
  {
   "cell_type": "code",
   "execution_count": 222,
   "id": "32b86a90-481b-4086-bf04-a294c7a631b4",
   "metadata": {},
   "outputs": [
    {
     "data": {
      "text/plain": [
       "'s3://mads-capstone-2023/FINRA_Short_Sale_Data.csv'"
      ]
     },
     "execution_count": 222,
     "metadata": {},
     "output_type": "execute_result"
    }
   ],
   "source": [
    "bucket = 'mads-capstone-2023' \n",
    "data_key = 'FINRA_Short_Sale_Data.csv' \n",
    "data_location = 's3://{}/{}'.format(bucket, data_key) \n",
    "\n",
    "data_location"
   ]
  },
  {
   "cell_type": "code",
   "execution_count": 223,
   "id": "661db14c-db93-4084-b910-3515ddb4b61a",
   "metadata": {},
   "outputs": [
    {
     "data": {
      "text/html": [
       "<div>\n",
       "<style scoped>\n",
       "    .dataframe tbody tr th:only-of-type {\n",
       "        vertical-align: middle;\n",
       "    }\n",
       "\n",
       "    .dataframe tbody tr th {\n",
       "        vertical-align: top;\n",
       "    }\n",
       "\n",
       "    .dataframe thead th {\n",
       "        text-align: right;\n",
       "    }\n",
       "</style>\n",
       "<table border=\"1\" class=\"dataframe\">\n",
       "  <thead>\n",
       "    <tr style=\"text-align: right;\">\n",
       "      <th></th>\n",
       "      <th>Unnamed: 0</th>\n",
       "      <th>ticker</th>\n",
       "      <th>date</th>\n",
       "      <th>shortvolume</th>\n",
       "      <th>shortexemptvolume</th>\n",
       "      <th>totalvolume</th>\n",
       "      <th>market</th>\n",
       "      <th>short_ratio</th>\n",
       "    </tr>\n",
       "  </thead>\n",
       "  <tbody>\n",
       "    <tr>\n",
       "      <th>0</th>\n",
       "      <td>0</td>\n",
       "      <td>A</td>\n",
       "      <td>2018-08-01</td>\n",
       "      <td>127212.0</td>\n",
       "      <td>14.0</td>\n",
       "      <td>658064.0</td>\n",
       "      <td>Q,N</td>\n",
       "      <td>0.193313</td>\n",
       "    </tr>\n",
       "    <tr>\n",
       "      <th>1</th>\n",
       "      <td>1</td>\n",
       "      <td>AADR</td>\n",
       "      <td>2018-08-01</td>\n",
       "      <td>3213.0</td>\n",
       "      <td>0.0</td>\n",
       "      <td>9620.0</td>\n",
       "      <td>Q,N</td>\n",
       "      <td>0.333992</td>\n",
       "    </tr>\n",
       "    <tr>\n",
       "      <th>2</th>\n",
       "      <td>2</td>\n",
       "      <td>AAL</td>\n",
       "      <td>2018-08-01</td>\n",
       "      <td>1373187.0</td>\n",
       "      <td>3950.0</td>\n",
       "      <td>2142375.0</td>\n",
       "      <td>Q,N</td>\n",
       "      <td>0.640965</td>\n",
       "    </tr>\n",
       "    <tr>\n",
       "      <th>3</th>\n",
       "      <td>3</td>\n",
       "      <td>AAN</td>\n",
       "      <td>2018-08-01</td>\n",
       "      <td>118343.0</td>\n",
       "      <td>643.0</td>\n",
       "      <td>215672.0</td>\n",
       "      <td>Q,N</td>\n",
       "      <td>0.548717</td>\n",
       "    </tr>\n",
       "    <tr>\n",
       "      <th>4</th>\n",
       "      <td>4</td>\n",
       "      <td>AAOI</td>\n",
       "      <td>2018-08-01</td>\n",
       "      <td>160536.0</td>\n",
       "      <td>104.0</td>\n",
       "      <td>311860.0</td>\n",
       "      <td>Q,N</td>\n",
       "      <td>0.514769</td>\n",
       "    </tr>\n",
       "    <tr>\n",
       "      <th>...</th>\n",
       "      <td>...</td>\n",
       "      <td>...</td>\n",
       "      <td>...</td>\n",
       "      <td>...</td>\n",
       "      <td>...</td>\n",
       "      <td>...</td>\n",
       "      <td>...</td>\n",
       "      <td>...</td>\n",
       "    </tr>\n",
       "    <tr>\n",
       "      <th>4770104</th>\n",
       "      <td>4770104</td>\n",
       "      <td>ZION</td>\n",
       "      <td>2023-11-07</td>\n",
       "      <td>299754.0</td>\n",
       "      <td>146.0</td>\n",
       "      <td>573588.0</td>\n",
       "      <td>B,Q,N</td>\n",
       "      <td>0.522595</td>\n",
       "    </tr>\n",
       "    <tr>\n",
       "      <th>4770105</th>\n",
       "      <td>4770105</td>\n",
       "      <td>ZIVB</td>\n",
       "      <td>2023-11-07</td>\n",
       "      <td>2092.0</td>\n",
       "      <td>0.0</td>\n",
       "      <td>2903.0</td>\n",
       "      <td>Q</td>\n",
       "      <td>0.720634</td>\n",
       "    </tr>\n",
       "    <tr>\n",
       "      <th>4770106</th>\n",
       "      <td>4770106</td>\n",
       "      <td>ZROZ</td>\n",
       "      <td>2023-11-07</td>\n",
       "      <td>98928.0</td>\n",
       "      <td>537.0</td>\n",
       "      <td>203459.0</td>\n",
       "      <td>B,Q,N</td>\n",
       "      <td>0.486231</td>\n",
       "    </tr>\n",
       "    <tr>\n",
       "      <th>4770107</th>\n",
       "      <td>4770107</td>\n",
       "      <td>ZSL</td>\n",
       "      <td>2023-11-07</td>\n",
       "      <td>43718.0</td>\n",
       "      <td>0.0</td>\n",
       "      <td>99867.0</td>\n",
       "      <td>Q,N</td>\n",
       "      <td>0.437762</td>\n",
       "    </tr>\n",
       "    <tr>\n",
       "      <th>4770108</th>\n",
       "      <td>4770108</td>\n",
       "      <td>ZTS</td>\n",
       "      <td>2023-11-07</td>\n",
       "      <td>308280.0</td>\n",
       "      <td>2804.0</td>\n",
       "      <td>1318855.0</td>\n",
       "      <td>B,Q,N</td>\n",
       "      <td>0.233748</td>\n",
       "    </tr>\n",
       "  </tbody>\n",
       "</table>\n",
       "<p>4770109 rows × 8 columns</p>\n",
       "</div>"
      ],
      "text/plain": [
       "         Unnamed: 0 ticker        date  shortvolume  shortexemptvolume  \\\n",
       "0                 0      A  2018-08-01     127212.0               14.0   \n",
       "1                 1   AADR  2018-08-01       3213.0                0.0   \n",
       "2                 2    AAL  2018-08-01    1373187.0             3950.0   \n",
       "3                 3    AAN  2018-08-01     118343.0              643.0   \n",
       "4                 4   AAOI  2018-08-01     160536.0              104.0   \n",
       "...             ...    ...         ...          ...                ...   \n",
       "4770104     4770104   ZION  2023-11-07     299754.0              146.0   \n",
       "4770105     4770105   ZIVB  2023-11-07       2092.0                0.0   \n",
       "4770106     4770106   ZROZ  2023-11-07      98928.0              537.0   \n",
       "4770107     4770107    ZSL  2023-11-07      43718.0                0.0   \n",
       "4770108     4770108    ZTS  2023-11-07     308280.0             2804.0   \n",
       "\n",
       "         totalvolume market  short_ratio  \n",
       "0           658064.0    Q,N     0.193313  \n",
       "1             9620.0    Q,N     0.333992  \n",
       "2          2142375.0    Q,N     0.640965  \n",
       "3           215672.0    Q,N     0.548717  \n",
       "4           311860.0    Q,N     0.514769  \n",
       "...              ...    ...          ...  \n",
       "4770104     573588.0  B,Q,N     0.522595  \n",
       "4770105       2903.0      Q     0.720634  \n",
       "4770106     203459.0  B,Q,N     0.486231  \n",
       "4770107      99867.0    Q,N     0.437762  \n",
       "4770108    1318855.0  B,Q,N     0.233748  \n",
       "\n",
       "[4770109 rows x 8 columns]"
      ]
     },
     "execution_count": 223,
     "metadata": {},
     "output_type": "execute_result"
    }
   ],
   "source": [
    "df = pd.read_csv(data_location)\n",
    "\n",
    "df"
   ]
  },
  {
   "cell_type": "code",
   "execution_count": 35,
   "id": "17165e45-44f4-44fc-aaec-5b6e758308ed",
   "metadata": {},
   "outputs": [
    {
     "data": {
      "text/plain": [
       "Unnamed: 0             int64\n",
       "ticker                object\n",
       "date                  object\n",
       "shortvolume          float64\n",
       "shortexemptvolume    float64\n",
       "totalvolume          float64\n",
       "market                object\n",
       "short_ratio          float64\n",
       "dtype: object"
      ]
     },
     "execution_count": 35,
     "metadata": {},
     "output_type": "execute_result"
    }
   ],
   "source": [
    "df.dtypes"
   ]
  },
  {
   "cell_type": "code",
   "execution_count": 14,
   "id": "d288c441-61a6-4dc5-987f-8b380ad24e3d",
   "metadata": {},
   "outputs": [
    {
     "name": "stdout",
     "output_type": "stream",
     "text": [
      "Collecting psycopg2\n",
      "  Downloading psycopg2-2.9.9.tar.gz (384 kB)\n",
      "\u001b[2K     \u001b[90m━━━━━━━━━━━━━━━━━━━━━━━━━━━━━━━━━━━━━━━\u001b[0m \u001b[32m384.9/384.9 kB\u001b[0m \u001b[31m2.9 MB/s\u001b[0m eta \u001b[36m0:00:00\u001b[0m00:01\u001b[0m\n",
      "\u001b[?25h  Preparing metadata (setup.py) ... \u001b[?25ldone\n",
      "\u001b[?25hBuilding wheels for collected packages: psycopg2\n",
      "  Building wheel for psycopg2 (setup.py) ... \u001b[?25ldone\n",
      "\u001b[?25h  Created wheel for psycopg2: filename=psycopg2-2.9.9-cp310-cp310-linux_x86_64.whl size=164363 sha256=96de964b010d9b5c625c77cec86c75f5c6b8e3af1f0aa21b1f76765580f23863\n",
      "  Stored in directory: /root/.cache/pip/wheels/7d/75/13/da1c6d88687ae81bf5e3cfa07d702981ba137963163472b050\n",
      "Successfully built psycopg2\n",
      "Installing collected packages: psycopg2\n",
      "Successfully installed psycopg2-2.9.9\n",
      "\u001b[33mWARNING: Running pip as the 'root' user can result in broken permissions and conflicting behaviour with the system package manager. It is recommended to use a virtual environment instead: https://pip.pypa.io/warnings/venv\u001b[0m\u001b[33m\n",
      "\u001b[0m\n",
      "\u001b[1m[\u001b[0m\u001b[34;49mnotice\u001b[0m\u001b[1;39;49m]\u001b[0m\u001b[39;49m A new release of pip is available: \u001b[0m\u001b[31;49m23.2.1\u001b[0m\u001b[39;49m -> \u001b[0m\u001b[32;49m23.3.1\u001b[0m\n",
      "\u001b[1m[\u001b[0m\u001b[34;49mnotice\u001b[0m\u001b[1;39;49m]\u001b[0m\u001b[39;49m To update, run: \u001b[0m\u001b[32;49mpip install --upgrade pip\u001b[0m\n",
      "Note: you may need to restart the kernel to use updated packages.\n"
     ]
    }
   ],
   "source": [
    "%pip install psycopg2"
   ]
  },
  {
   "cell_type": "markdown",
   "id": "2a539455-9500-4f3a-a166-899344834196",
   "metadata": {},
   "source": [
    "## Create DB"
   ]
  },
  {
   "cell_type": "code",
   "execution_count": 15,
   "id": "26ab586f-558c-48f3-8e7c-eb8f434732e9",
   "metadata": {},
   "outputs": [],
   "source": [
    "import psycopg2"
   ]
  },
  {
   "cell_type": "code",
   "execution_count": 29,
   "id": "57656e6f-f3c7-4363-bd4c-f00c3a09bd75",
   "metadata": {},
   "outputs": [],
   "source": [
    "connection = psycopg2.connect(\n",
    "            user='postgres', password='Data2023',\n",
    "            host='mads-capstone.cmohac77hep9.eu-north-1.rds.amazonaws.com', port=5432\n",
    "        )"
   ]
  },
  {
   "cell_type": "code",
   "execution_count": 30,
   "id": "2e752459-3c68-4ac7-bacf-5ccc63709db1",
   "metadata": {},
   "outputs": [],
   "source": [
    "connection.autocommit = True"
   ]
  },
  {
   "cell_type": "code",
   "execution_count": 31,
   "id": "11af2ee6-d5c7-47df-999c-6649d79dc0f9",
   "metadata": {},
   "outputs": [
    {
     "data": {
      "text/plain": [
       "'CREATE DATABASE mads'"
      ]
     },
     "execution_count": 31,
     "metadata": {},
     "output_type": "execute_result"
    }
   ],
   "source": [
    "query = \"CREATE DATABASE mads\"\n",
    "\n",
    "query"
   ]
  },
  {
   "cell_type": "code",
   "execution_count": 32,
   "id": "4d138f85-da0b-4273-8f2a-f384c93bcef4",
   "metadata": {},
   "outputs": [],
   "source": [
    "cursor = connection.cursor()"
   ]
  },
  {
   "cell_type": "code",
   "execution_count": 33,
   "id": "807d1369-cc37-4467-b9cb-a1ce5afdc09c",
   "metadata": {},
   "outputs": [],
   "source": [
    "cursor.execute(query)"
   ]
  },
  {
   "cell_type": "code",
   "execution_count": 35,
   "id": "edab46ef-1e43-45de-9664-bfae22c340e0",
   "metadata": {},
   "outputs": [],
   "source": [
    "connection.close()"
   ]
  },
  {
   "cell_type": "markdown",
   "id": "172a8bcb-a4d6-475f-aaa2-38427168f34f",
   "metadata": {},
   "source": [
    "## Create Table"
   ]
  },
  {
   "cell_type": "code",
   "execution_count": 43,
   "id": "56d08a18-1bdf-4921-9d47-f075ef9f3b77",
   "metadata": {},
   "outputs": [],
   "source": [
    "from psycopg2.extras import RealDictCursor"
   ]
  },
  {
   "cell_type": "code",
   "execution_count": 34,
   "id": "e2e601e2-4671-4b76-8734-d35a37177171",
   "metadata": {},
   "outputs": [],
   "source": [
    "db_connection = psycopg2.connect(\n",
    "            user='postgres', password='Data2023',\n",
    "            host='mads-capstone.cmohac77hep9.eu-north-1.rds.amazonaws.com', port=5432,\n",
    "            database=\"mads\"\n",
    "        )"
   ]
  },
  {
   "cell_type": "code",
   "execution_count": 37,
   "id": "31e13ecd-aaf0-4cb7-a414-b7a0b5d05d70",
   "metadata": {},
   "outputs": [],
   "source": [
    "db_connection.autocommit = True"
   ]
  },
  {
   "cell_type": "code",
   "execution_count": 41,
   "id": "153041d6-359e-4f4c-abd6-daf02889a7a3",
   "metadata": {},
   "outputs": [
    {
     "data": {
      "text/plain": [
       "'CREATE TABLE greeks (id SERIAL PRIMARY KEY, ticker text, price float)'"
      ]
     },
     "execution_count": 41,
     "metadata": {},
     "output_type": "execute_result"
    }
   ],
   "source": [
    "query = \"CREATE TABLE greeks (id SERIAL PRIMARY KEY, ticker text, price float)\"\n",
    "\n",
    "query"
   ]
  },
  {
   "cell_type": "code",
   "execution_count": 44,
   "id": "6fd38e41-fcd8-4af0-bf52-4d0d07d2b461",
   "metadata": {},
   "outputs": [
    {
     "data": {
      "text/plain": [
       "<cursor object at 0x7f2db1cb3140; closed: 0>"
      ]
     },
     "execution_count": 44,
     "metadata": {},
     "output_type": "execute_result"
    }
   ],
   "source": [
    "cursor = db_connection.cursor(cursor_factory=RealDictCursor)\n",
    "\n",
    "cursor"
   ]
  },
  {
   "cell_type": "code",
   "execution_count": 45,
   "id": "a46c52c5-9643-412a-bff6-7fe7b3264228",
   "metadata": {},
   "outputs": [],
   "source": [
    "cursor.execute(query)"
   ]
  },
  {
   "cell_type": "markdown",
   "id": "283810f2-e8d4-4dfa-ae0e-b12667f928a9",
   "metadata": {},
   "source": [
    "## Insert Records"
   ]
  },
  {
   "cell_type": "code",
   "execution_count": 76,
   "id": "37cb8f72-c371-44e5-b693-4cf2b328dfd0",
   "metadata": {},
   "outputs": [],
   "source": [
    "insert_query = \"INSERT INTO greeks (ticker, price) values ('APPL', 20.5)\""
   ]
  },
  {
   "cell_type": "code",
   "execution_count": 77,
   "id": "a4bbd971-58e6-4fa1-866e-5a49a24a35a2",
   "metadata": {},
   "outputs": [],
   "source": [
    "cursor.execute(insert_query)"
   ]
  },
  {
   "cell_type": "code",
   "execution_count": 78,
   "id": "b3d714e7-c002-434a-a3cc-4db76dc9cce5",
   "metadata": {},
   "outputs": [
    {
     "data": {
      "text/html": [
       "<div>\n",
       "<style scoped>\n",
       "    .dataframe tbody tr th:only-of-type {\n",
       "        vertical-align: middle;\n",
       "    }\n",
       "\n",
       "    .dataframe tbody tr th {\n",
       "        vertical-align: top;\n",
       "    }\n",
       "\n",
       "    .dataframe thead th {\n",
       "        text-align: right;\n",
       "    }\n",
       "</style>\n",
       "<table border=\"1\" class=\"dataframe\">\n",
       "  <thead>\n",
       "    <tr style=\"text-align: right;\">\n",
       "      <th></th>\n",
       "      <th>ID</th>\n",
       "      <th>TICKER</th>\n",
       "      <th>PRICE</th>\n",
       "    </tr>\n",
       "  </thead>\n",
       "  <tbody>\n",
       "    <tr>\n",
       "      <th>0</th>\n",
       "      <td>1</td>\n",
       "      <td>SPY</td>\n",
       "      <td>20.5</td>\n",
       "    </tr>\n",
       "    <tr>\n",
       "      <th>1</th>\n",
       "      <td>2</td>\n",
       "      <td>SPY</td>\n",
       "      <td>20.5</td>\n",
       "    </tr>\n",
       "    <tr>\n",
       "      <th>2</th>\n",
       "      <td>3</td>\n",
       "      <td>AMZN</td>\n",
       "      <td>10.5</td>\n",
       "    </tr>\n",
       "    <tr>\n",
       "      <th>3</th>\n",
       "      <td>4</td>\n",
       "      <td>APPL</td>\n",
       "      <td>20.5</td>\n",
       "    </tr>\n",
       "  </tbody>\n",
       "</table>\n",
       "</div>"
      ],
      "text/plain": [
       "   ID TICKER  PRICE\n",
       "0   1    SPY   20.5\n",
       "1   2    SPY   20.5\n",
       "2   3   AMZN   10.5\n",
       "3   4   APPL   20.5"
      ]
     },
     "execution_count": 78,
     "metadata": {},
     "output_type": "execute_result"
    }
   ],
   "source": [
    "select_query = \"SELECT * FROM greeks\"\n",
    "\n",
    "cursor.execute(select_query)\n",
    "\n",
    "rows = cursor.fetchall()\n",
    "\n",
    "records = []\n",
    "for row in rows:\n",
    "    records.append([row[\"id\"], row[\"ticker\"],row[\"price\"]])\n",
    "    \n",
    "pd.DataFrame(records, columns=[\"ID\", \"TICKER\", \"PRICE\"])"
   ]
  },
  {
   "cell_type": "code",
   "execution_count": 79,
   "id": "33304117-a4cd-47b7-9473-ded3735061cc",
   "metadata": {},
   "outputs": [],
   "source": [
    "db_connection.close() ## Always close connection, please."
   ]
  },
  {
   "cell_type": "markdown",
   "id": "3bfcd001-bae4-4c4c-95ac-770cdd7ca7d8",
   "metadata": {},
   "source": [
    "## Greeks Table Insertion"
   ]
  },
  {
   "cell_type": "code",
   "execution_count": 91,
   "id": "6f0999ad-d8d9-4baa-b26a-3e3c8eee247b",
   "metadata": {},
   "outputs": [
    {
     "data": {
      "text/html": [
       "<div>\n",
       "<style scoped>\n",
       "    .dataframe tbody tr th:only-of-type {\n",
       "        vertical-align: middle;\n",
       "    }\n",
       "\n",
       "    .dataframe tbody tr th {\n",
       "        vertical-align: top;\n",
       "    }\n",
       "\n",
       "    .dataframe thead th {\n",
       "        text-align: right;\n",
       "    }\n",
       "</style>\n",
       "<table border=\"1\" class=\"dataframe\">\n",
       "  <thead>\n",
       "    <tr style=\"text-align: right;\">\n",
       "      <th></th>\n",
       "      <th>date</th>\n",
       "      <th>increment</th>\n",
       "      <th>value</th>\n",
       "      <th>ticker</th>\n",
       "      <th>greek</th>\n",
       "      <th>option_type</th>\n",
       "    </tr>\n",
       "  </thead>\n",
       "  <tbody>\n",
       "    <tr>\n",
       "      <th>0</th>\n",
       "      <td>2016-08-05 00:00:00</td>\n",
       "      <td>90</td>\n",
       "      <td>-236788.11</td>\n",
       "      <td>HSY</td>\n",
       "      <td>zomma</td>\n",
       "      <td>all</td>\n",
       "    </tr>\n",
       "    <tr>\n",
       "      <th>1</th>\n",
       "      <td>2016-08-05 00:00:00</td>\n",
       "      <td>90</td>\n",
       "      <td>-498.37</td>\n",
       "      <td>HSY</td>\n",
       "      <td>speed</td>\n",
       "      <td>call</td>\n",
       "    </tr>\n",
       "    <tr>\n",
       "      <th>2</th>\n",
       "      <td>2016-08-05 00:00:00</td>\n",
       "      <td>90</td>\n",
       "      <td>1985.00</td>\n",
       "      <td>HSY</td>\n",
       "      <td>speed</td>\n",
       "      <td>put</td>\n",
       "    </tr>\n",
       "    <tr>\n",
       "      <th>3</th>\n",
       "      <td>2016-08-05 00:00:00</td>\n",
       "      <td>90</td>\n",
       "      <td>1486.63</td>\n",
       "      <td>HSY</td>\n",
       "      <td>speed</td>\n",
       "      <td>all</td>\n",
       "    </tr>\n",
       "    <tr>\n",
       "      <th>4</th>\n",
       "      <td>2016-08-05 00:00:00</td>\n",
       "      <td>90</td>\n",
       "      <td>-595016.06</td>\n",
       "      <td>HSY</td>\n",
       "      <td>color</td>\n",
       "      <td>call</td>\n",
       "    </tr>\n",
       "  </tbody>\n",
       "</table>\n",
       "</div>"
      ],
      "text/plain": [
       "                  date  increment      value ticker  greek option_type\n",
       "0  2016-08-05 00:00:00         90 -236788.11    HSY  zomma         all\n",
       "1  2016-08-05 00:00:00         90    -498.37    HSY  speed        call\n",
       "2  2016-08-05 00:00:00         90    1985.00    HSY  speed         put\n",
       "3  2016-08-05 00:00:00         90    1486.63    HSY  speed         all\n",
       "4  2016-08-05 00:00:00         90 -595016.06    HSY  color        call"
      ]
     },
     "execution_count": 91,
     "metadata": {},
     "output_type": "execute_result"
    }
   ],
   "source": [
    "import pandas as pd\n",
    "\n",
    "bucket = 'mads-capstone-2023' \n",
    "data_key = 'greeks.csv' \n",
    "greeks_csv = 's3://{}/{}'.format(bucket, data_key) \n",
    "\n",
    "greeks_df = pd.read_csv(greeks_csv, nrows=5) ## Reading only 5 rows to check dataset format.\n",
    "\n",
    "greeks_df"
   ]
  },
  {
   "cell_type": "code",
   "execution_count": 133,
   "id": "bea462b1-143f-4729-9bb8-06b4bd1824fd",
   "metadata": {},
   "outputs": [],
   "source": [
    "#for i, row in enumerate(obj[\"Body\"].iter_lines()):\n",
    "#    print(row.decode().split(\",\"))\n",
    "#    if i==15:\n",
    "#        break"
   ]
  },
  {
   "cell_type": "code",
   "execution_count": 3,
   "id": "8d5fe905-8b1f-4e04-b7d8-f297c3694a7d",
   "metadata": {},
   "outputs": [],
   "source": [
    "db_connection = psycopg2.connect(\n",
    "            user='postgres', password='Data2023',\n",
    "            host='mads-capstone.cmohac77hep9.eu-north-1.rds.amazonaws.com', port=5432,\n",
    "            database=\"mads\"\n",
    "        )\n",
    "\n",
    "db_connection.autocommit = True\n",
    "\n",
    "cursor = db_connection.cursor()"
   ]
  },
  {
   "cell_type": "code",
   "execution_count": 196,
   "id": "51be846c-bf9e-4ec3-9e87-7e104e87b8fa",
   "metadata": {},
   "outputs": [],
   "source": [
    "# delete_query = \"DROP TABLE greeks\"\n",
    "# cursor.execute(delete_query)"
   ]
  },
  {
   "cell_type": "code",
   "execution_count": 197,
   "id": "b659c431-c5c9-44a4-8988-ed656dc8ed0b",
   "metadata": {},
   "outputs": [],
   "source": [
    "query = '''CREATE TABLE greeks (id SERIAL PRIMARY KEY,  \n",
    "                                exec_date date,\n",
    "                                increment SMALLINT,\n",
    "                                opt_value float,\n",
    "                                ticker VARCHAR(8),\n",
    "                                greek VARCHAR(16),\n",
    "                                option_type VARCHAR(8))'''\n",
    "\n",
    "\n",
    "cursor.execute(query)"
   ]
  },
  {
   "cell_type": "code",
   "execution_count": 198,
   "id": "4337d970-4de9-4e73-8f79-b0ab8affb355",
   "metadata": {},
   "outputs": [
    {
     "name": "stdout",
     "output_type": "stream",
     "text": [
      "(0, 7)\n"
     ]
    },
    {
     "data": {
      "text/html": [
       "<div>\n",
       "<style scoped>\n",
       "    .dataframe tbody tr th:only-of-type {\n",
       "        vertical-align: middle;\n",
       "    }\n",
       "\n",
       "    .dataframe tbody tr th {\n",
       "        vertical-align: top;\n",
       "    }\n",
       "\n",
       "    .dataframe thead th {\n",
       "        text-align: right;\n",
       "    }\n",
       "</style>\n",
       "<table border=\"1\" class=\"dataframe\">\n",
       "  <thead>\n",
       "    <tr style=\"text-align: right;\">\n",
       "      <th></th>\n",
       "      <th>ID</th>\n",
       "      <th>DATE</th>\n",
       "      <th>INCREMENT</th>\n",
       "      <th>VALUE</th>\n",
       "      <th>TICKER</th>\n",
       "      <th>GREEK</th>\n",
       "      <th>OPTION_TYPE</th>\n",
       "    </tr>\n",
       "  </thead>\n",
       "  <tbody>\n",
       "  </tbody>\n",
       "</table>\n",
       "</div>"
      ],
      "text/plain": [
       "Empty DataFrame\n",
       "Columns: [ID, DATE, INCREMENT, VALUE, TICKER, GREEK, OPTION_TYPE]\n",
       "Index: []"
      ]
     },
     "execution_count": 198,
     "metadata": {},
     "output_type": "execute_result"
    }
   ],
   "source": [
    "select_query = \"SELECT * FROM greeks\"\n",
    "\n",
    "cursor.execute(select_query)\n",
    "\n",
    "rows = cursor.fetchmany(size=10)\n",
    "records = []\n",
    "for row in rows:\n",
    "    records.append([row[0], row[1],row[2], row[3], row[4], row[5], row[6]])\n",
    "    \n",
    "df = pd.DataFrame(records, columns=[\"ID\", \"DATE\", \"INCREMENT\", \"VALUE\", \"TICKER\", \"GREEK\", \"OPTION_TYPE\"])\n",
    "\n",
    "print(df.shape)\n",
    "\n",
    "\n",
    "df"
   ]
  },
  {
   "cell_type": "code",
   "execution_count": null,
   "id": "c587789e-f274-4f82-b3e0-a625052af9ac",
   "metadata": {},
   "outputs": [],
   "source": [
    "%%time\n",
    "\n",
    "import boto3\n",
    "s3_client = boto3.client('s3')\n",
    "obj = s3_client.get_object(Bucket=bucket, Key=data_key)\n",
    "\n",
    "insert_query = \"INSERT INTO greeks (exec_date, increment, opt_value, ticker, greek, option_type) values ('{}',{},{},'{}','{}','{}')\"\n",
    "\n",
    "for i, row in enumerate(obj[\"Body\"].iter_lines()):\n",
    "    if i == 0:\n",
    "        continue\n",
    "    row_data = row.decode().split(\",\")\n",
    "    dt, incr, opt_value, ticker, greek, opt_type = row_data\n",
    "    dt = dt.split()[0]\n",
    "    incr = int(incr) if incr else \"NULL\"\n",
    "    opt_value = float(opt_value) if opt_value else \"NULL\"\n",
    "    query = insert_query.format(dt,incr,opt_value,ticker,greek,opt_type)\n",
    "    #print(query)\n",
    "    #if i==15:\n",
    "    #    break\n",
    "    cursor.execute(query)"
   ]
  },
  {
   "cell_type": "markdown",
   "id": "48849cf5-b5de-42fa-b90a-e2d3600e75d2",
   "metadata": {},
   "source": [
    "## Index Creation"
   ]
  },
  {
   "cell_type": "code",
   "execution_count": null,
   "id": "00a84132-b7fd-488a-9e49-f33826790aa8",
   "metadata": {},
   "outputs": [],
   "source": [
    "index_query = \"CREATE INDEX greeks_ticker ON greeks(ticker);\"\n",
    "\n",
    "cursor.execute(select_query)"
   ]
  },
  {
   "cell_type": "markdown",
   "id": "922b22b6-cef0-4db5-b61c-c4e7b44ccd1f",
   "metadata": {
    "tags": []
   },
   "source": [
    "## Examples"
   ]
  },
  {
   "cell_type": "markdown",
   "id": "0cf296fd-577f-4462-beda-088b85ebd4a3",
   "metadata": {},
   "source": [
    "select_query = \"SELECT * FROM greeks\"\n",
    "\n",
    "cursor.execute(select_query)\n",
    "\n",
    "rows = cursor.fetchmany(size=10)\n",
    "records = []\n",
    "for row in rows:\n",
    "    records.append([row[0], row[1],row[2], row[3], row[4], row[5], row[6]])\n",
    "    \n",
    "df = pd.DataFrame(records, columns=[\"ID\", \"DATE\", \"INCREMENT\", \"VALUE\", \"TICKER\", \"GREEK\", \"OPTION_TYPE\"])\n",
    "\n",
    "print(df.shape)\n",
    "\n",
    "df"
   ]
  },
  {
   "cell_type": "code",
   "execution_count": 203,
   "id": "096c1140-f8a0-440f-87cf-049369c0fed7",
   "metadata": {},
   "outputs": [
    {
     "name": "stdout",
     "output_type": "stream",
     "text": [
      "[(22802314,)]\n"
     ]
    }
   ],
   "source": [
    "select_query = \"SELECT count(*) FROM greeks\"\n",
    "\n",
    "cursor.execute(select_query)\n",
    "\n",
    "rows = cursor.fetchall()\n",
    "\n",
    "print(rows)"
   ]
  },
  {
   "cell_type": "code",
   "execution_count": 23,
   "id": "9c2f258f-5ab3-46dc-830c-8d9944e39a6d",
   "metadata": {},
   "outputs": [
    {
     "name": "stdout",
     "output_type": "stream",
     "text": [
      "[(600000,)]\n"
     ]
    }
   ],
   "source": [
    "select_query = \"SELECT count(*) FROM greeks3\"\n",
    "\n",
    "cursor.execute(select_query)\n",
    "\n",
    "rows = cursor.fetchall()\n",
    "\n",
    "print(rows)"
   ]
  },
  {
   "cell_type": "code",
   "execution_count": 14,
   "id": "52298428-404f-4274-8326-2e8ec1c18b83",
   "metadata": {},
   "outputs": [
    {
     "name": "stdout",
     "output_type": "stream",
     "text": [
      "[(4693,)]\n"
     ]
    }
   ],
   "source": [
    "select_query = \"SELECT count(*) FROM greeks WHERE ticker='HSY'\"\n",
    "\n",
    "cursor.execute(select_query)\n",
    "\n",
    "rows = cursor.fetchall()\n",
    "\n",
    "print(rows)"
   ]
  },
  {
   "cell_type": "code",
   "execution_count": 206,
   "id": "9b1d52f5-2537-4bb9-a98e-2337d12e1681",
   "metadata": {},
   "outputs": [
    {
     "name": "stdout",
     "output_type": "stream",
     "text": [
      "(4693, 7)\n"
     ]
    },
    {
     "data": {
      "text/html": [
       "<div>\n",
       "<style scoped>\n",
       "    .dataframe tbody tr th:only-of-type {\n",
       "        vertical-align: middle;\n",
       "    }\n",
       "\n",
       "    .dataframe tbody tr th {\n",
       "        vertical-align: top;\n",
       "    }\n",
       "\n",
       "    .dataframe thead th {\n",
       "        text-align: right;\n",
       "    }\n",
       "</style>\n",
       "<table border=\"1\" class=\"dataframe\">\n",
       "  <thead>\n",
       "    <tr style=\"text-align: right;\">\n",
       "      <th></th>\n",
       "      <th>ID</th>\n",
       "      <th>DATE</th>\n",
       "      <th>INCREMENT</th>\n",
       "      <th>VALUE</th>\n",
       "      <th>TICKER</th>\n",
       "      <th>GREEK</th>\n",
       "      <th>OPTION_TYPE</th>\n",
       "    </tr>\n",
       "  </thead>\n",
       "  <tbody>\n",
       "    <tr>\n",
       "      <th>0</th>\n",
       "      <td>1</td>\n",
       "      <td>2016-08-05</td>\n",
       "      <td>90</td>\n",
       "      <td>-236788.11</td>\n",
       "      <td>HSY</td>\n",
       "      <td>zomma</td>\n",
       "      <td>all</td>\n",
       "    </tr>\n",
       "    <tr>\n",
       "      <th>1</th>\n",
       "      <td>2</td>\n",
       "      <td>2016-08-05</td>\n",
       "      <td>90</td>\n",
       "      <td>-498.37</td>\n",
       "      <td>HSY</td>\n",
       "      <td>speed</td>\n",
       "      <td>call</td>\n",
       "    </tr>\n",
       "    <tr>\n",
       "      <th>2</th>\n",
       "      <td>3</td>\n",
       "      <td>2016-08-05</td>\n",
       "      <td>90</td>\n",
       "      <td>1985.00</td>\n",
       "      <td>HSY</td>\n",
       "      <td>speed</td>\n",
       "      <td>put</td>\n",
       "    </tr>\n",
       "    <tr>\n",
       "      <th>3</th>\n",
       "      <td>4</td>\n",
       "      <td>2016-08-05</td>\n",
       "      <td>90</td>\n",
       "      <td>1486.63</td>\n",
       "      <td>HSY</td>\n",
       "      <td>speed</td>\n",
       "      <td>all</td>\n",
       "    </tr>\n",
       "    <tr>\n",
       "      <th>4</th>\n",
       "      <td>5</td>\n",
       "      <td>2016-08-05</td>\n",
       "      <td>90</td>\n",
       "      <td>-595016.06</td>\n",
       "      <td>HSY</td>\n",
       "      <td>color</td>\n",
       "      <td>call</td>\n",
       "    </tr>\n",
       "    <tr>\n",
       "      <th>...</th>\n",
       "      <td>...</td>\n",
       "      <td>...</td>\n",
       "      <td>...</td>\n",
       "      <td>...</td>\n",
       "      <td>...</td>\n",
       "      <td>...</td>\n",
       "      <td>...</td>\n",
       "    </tr>\n",
       "    <tr>\n",
       "      <th>4688</th>\n",
       "      <td>8279920</td>\n",
       "      <td>2016-08-11</td>\n",
       "      <td>90</td>\n",
       "      <td>-1831264.20</td>\n",
       "      <td>HSY</td>\n",
       "      <td>vega</td>\n",
       "      <td>put</td>\n",
       "    </tr>\n",
       "    <tr>\n",
       "      <th>4689</th>\n",
       "      <td>8279921</td>\n",
       "      <td>2016-08-11</td>\n",
       "      <td>90</td>\n",
       "      <td>13116877.00</td>\n",
       "      <td>HSY</td>\n",
       "      <td>vega</td>\n",
       "      <td>all</td>\n",
       "    </tr>\n",
       "    <tr>\n",
       "      <th>4690</th>\n",
       "      <td>8279922</td>\n",
       "      <td>2016-08-11</td>\n",
       "      <td>90</td>\n",
       "      <td>8042114.00</td>\n",
       "      <td>HSY</td>\n",
       "      <td>rho</td>\n",
       "      <td>call</td>\n",
       "    </tr>\n",
       "    <tr>\n",
       "      <th>4691</th>\n",
       "      <td>8279923</td>\n",
       "      <td>2016-08-11</td>\n",
       "      <td>90</td>\n",
       "      <td>604064.60</td>\n",
       "      <td>HSY</td>\n",
       "      <td>rho</td>\n",
       "      <td>put</td>\n",
       "    </tr>\n",
       "    <tr>\n",
       "      <th>4692</th>\n",
       "      <td>8279924</td>\n",
       "      <td>2016-08-11</td>\n",
       "      <td>90</td>\n",
       "      <td>8646179.00</td>\n",
       "      <td>HSY</td>\n",
       "      <td>rho</td>\n",
       "      <td>all</td>\n",
       "    </tr>\n",
       "  </tbody>\n",
       "</table>\n",
       "<p>4693 rows × 7 columns</p>\n",
       "</div>"
      ],
      "text/plain": [
       "           ID        DATE  INCREMENT        VALUE TICKER  GREEK OPTION_TYPE\n",
       "0           1  2016-08-05         90   -236788.11    HSY  zomma         all\n",
       "1           2  2016-08-05         90      -498.37    HSY  speed        call\n",
       "2           3  2016-08-05         90      1985.00    HSY  speed         put\n",
       "3           4  2016-08-05         90      1486.63    HSY  speed         all\n",
       "4           5  2016-08-05         90   -595016.06    HSY  color        call\n",
       "...       ...         ...        ...          ...    ...    ...         ...\n",
       "4688  8279920  2016-08-11         90  -1831264.20    HSY   vega         put\n",
       "4689  8279921  2016-08-11         90  13116877.00    HSY   vega         all\n",
       "4690  8279922  2016-08-11         90   8042114.00    HSY    rho        call\n",
       "4691  8279923  2016-08-11         90    604064.60    HSY    rho         put\n",
       "4692  8279924  2016-08-11         90   8646179.00    HSY    rho         all\n",
       "\n",
       "[4693 rows x 7 columns]"
      ]
     },
     "execution_count": 206,
     "metadata": {},
     "output_type": "execute_result"
    }
   ],
   "source": [
    "select_query = \"SELECT * FROM greeks WHERE ticker='HSY'\"\n",
    "\n",
    "cursor.execute(select_query)\n",
    "\n",
    "rows = cursor.fetchall()\n",
    "\n",
    "records = []\n",
    "for row in rows:\n",
    "    records.append([row[0], row[1],row[2], row[3], row[4], row[5], row[6]])\n",
    "    \n",
    "df = pd.DataFrame(records, columns=[\"ID\", \"DATE\", \"INCREMENT\", \"VALUE\", \"TICKER\", \"GREEK\", \"OPTION_TYPE\"])\n",
    "\n",
    "print(df.shape)\n",
    "\n",
    "df"
   ]
  },
  {
   "cell_type": "code",
   "execution_count": 209,
   "id": "31b3e1d0-d19e-4b69-b059-0bfc9c6475f1",
   "metadata": {},
   "outputs": [
    {
     "name": "stdout",
     "output_type": "stream",
     "text": [
      "[(104,)]\n"
     ]
    }
   ],
   "source": [
    "select_query = \"SELECT count(*) FROM greeks WHERE ticker='HSY' and greek='zomma' and option_type='call'\"\n",
    "\n",
    "cursor.execute(select_query)\n",
    "\n",
    "rows = cursor.fetchall()\n",
    "\n",
    "print(rows)"
   ]
  },
  {
   "cell_type": "code",
   "execution_count": 210,
   "id": "44c2255d-0af2-42db-ac55-e5005ce88a96",
   "metadata": {},
   "outputs": [
    {
     "name": "stdout",
     "output_type": "stream",
     "text": [
      "(104, 7)\n"
     ]
    },
    {
     "data": {
      "text/html": [
       "<div>\n",
       "<style scoped>\n",
       "    .dataframe tbody tr th:only-of-type {\n",
       "        vertical-align: middle;\n",
       "    }\n",
       "\n",
       "    .dataframe tbody tr th {\n",
       "        vertical-align: top;\n",
       "    }\n",
       "\n",
       "    .dataframe thead th {\n",
       "        text-align: right;\n",
       "    }\n",
       "</style>\n",
       "<table border=\"1\" class=\"dataframe\">\n",
       "  <thead>\n",
       "    <tr style=\"text-align: right;\">\n",
       "      <th></th>\n",
       "      <th>ID</th>\n",
       "      <th>DATE</th>\n",
       "      <th>INCREMENT</th>\n",
       "      <th>VALUE</th>\n",
       "      <th>TICKER</th>\n",
       "      <th>GREEK</th>\n",
       "      <th>OPTION_TYPE</th>\n",
       "    </tr>\n",
       "  </thead>\n",
       "  <tbody>\n",
       "    <tr>\n",
       "      <th>0</th>\n",
       "      <td>44</td>\n",
       "      <td>2016-08-05</td>\n",
       "      <td>120</td>\n",
       "      <td>-241113.84</td>\n",
       "      <td>HSY</td>\n",
       "      <td>zomma</td>\n",
       "      <td>call</td>\n",
       "    </tr>\n",
       "    <tr>\n",
       "      <th>1</th>\n",
       "      <td>89</td>\n",
       "      <td>2016-08-05</td>\n",
       "      <td>180</td>\n",
       "      <td>-262191.00</td>\n",
       "      <td>HSY</td>\n",
       "      <td>zomma</td>\n",
       "      <td>call</td>\n",
       "    </tr>\n",
       "    <tr>\n",
       "      <th>2</th>\n",
       "      <td>134</td>\n",
       "      <td>2016-08-05</td>\n",
       "      <td>360</td>\n",
       "      <td>-262191.00</td>\n",
       "      <td>HSY</td>\n",
       "      <td>zomma</td>\n",
       "      <td>call</td>\n",
       "    </tr>\n",
       "    <tr>\n",
       "      <th>3</th>\n",
       "      <td>179</td>\n",
       "      <td>2016-08-05</td>\n",
       "      <td>3600</td>\n",
       "      <td>-263452.50</td>\n",
       "      <td>HSY</td>\n",
       "      <td>zomma</td>\n",
       "      <td>call</td>\n",
       "    </tr>\n",
       "    <tr>\n",
       "      <th>4</th>\n",
       "      <td>8279712</td>\n",
       "      <td>2016-08-11</td>\n",
       "      <td>0</td>\n",
       "      <td>-273142.62</td>\n",
       "      <td>HSY</td>\n",
       "      <td>zomma</td>\n",
       "      <td>call</td>\n",
       "    </tr>\n",
       "    <tr>\n",
       "      <th>...</th>\n",
       "      <td>...</td>\n",
       "      <td>...</td>\n",
       "      <td>...</td>\n",
       "      <td>...</td>\n",
       "      <td>...</td>\n",
       "      <td>...</td>\n",
       "      <td>...</td>\n",
       "    </tr>\n",
       "    <tr>\n",
       "      <th>99</th>\n",
       "      <td>8279937</td>\n",
       "      <td>2016-08-11</td>\n",
       "      <td>90</td>\n",
       "      <td>-193625.19</td>\n",
       "      <td>HSY</td>\n",
       "      <td>zomma</td>\n",
       "      <td>call</td>\n",
       "    </tr>\n",
       "    <tr>\n",
       "      <th>100</th>\n",
       "      <td>8279982</td>\n",
       "      <td>2016-08-11</td>\n",
       "      <td>120</td>\n",
       "      <td>-193625.19</td>\n",
       "      <td>HSY</td>\n",
       "      <td>zomma</td>\n",
       "      <td>call</td>\n",
       "    </tr>\n",
       "    <tr>\n",
       "      <th>101</th>\n",
       "      <td>8280027</td>\n",
       "      <td>2016-08-11</td>\n",
       "      <td>180</td>\n",
       "      <td>-234643.60</td>\n",
       "      <td>HSY</td>\n",
       "      <td>zomma</td>\n",
       "      <td>call</td>\n",
       "    </tr>\n",
       "    <tr>\n",
       "      <th>102</th>\n",
       "      <td>8280072</td>\n",
       "      <td>2016-08-11</td>\n",
       "      <td>360</td>\n",
       "      <td>-234643.60</td>\n",
       "      <td>HSY</td>\n",
       "      <td>zomma</td>\n",
       "      <td>call</td>\n",
       "    </tr>\n",
       "    <tr>\n",
       "      <th>103</th>\n",
       "      <td>8280117</td>\n",
       "      <td>2016-08-11</td>\n",
       "      <td>3600</td>\n",
       "      <td>-236197.06</td>\n",
       "      <td>HSY</td>\n",
       "      <td>zomma</td>\n",
       "      <td>call</td>\n",
       "    </tr>\n",
       "  </tbody>\n",
       "</table>\n",
       "<p>104 rows × 7 columns</p>\n",
       "</div>"
      ],
      "text/plain": [
       "          ID        DATE  INCREMENT      VALUE TICKER  GREEK OPTION_TYPE\n",
       "0         44  2016-08-05        120 -241113.84    HSY  zomma        call\n",
       "1         89  2016-08-05        180 -262191.00    HSY  zomma        call\n",
       "2        134  2016-08-05        360 -262191.00    HSY  zomma        call\n",
       "3        179  2016-08-05       3600 -263452.50    HSY  zomma        call\n",
       "4    8279712  2016-08-11          0 -273142.62    HSY  zomma        call\n",
       "..       ...         ...        ...        ...    ...    ...         ...\n",
       "99   8279937  2016-08-11         90 -193625.19    HSY  zomma        call\n",
       "100  8279982  2016-08-11        120 -193625.19    HSY  zomma        call\n",
       "101  8280027  2016-08-11        180 -234643.60    HSY  zomma        call\n",
       "102  8280072  2016-08-11        360 -234643.60    HSY  zomma        call\n",
       "103  8280117  2016-08-11       3600 -236197.06    HSY  zomma        call\n",
       "\n",
       "[104 rows x 7 columns]"
      ]
     },
     "execution_count": 210,
     "metadata": {},
     "output_type": "execute_result"
    }
   ],
   "source": [
    "select_query = \"SELECT * FROM greeks WHERE ticker='HSY' and greek='zomma' and option_type='call'\"\n",
    "\n",
    "cursor.execute(select_query)\n",
    "\n",
    "rows = cursor.fetchall()\n",
    "\n",
    "records = []\n",
    "for row in rows:\n",
    "    records.append([row[0], row[1],row[2], row[3], row[4], row[5], row[6]])\n",
    "    \n",
    "df = pd.DataFrame(records, columns=[\"ID\", \"DATE\", \"INCREMENT\", \"VALUE\", \"TICKER\", \"GREEK\", \"OPTION_TYPE\"])\n",
    "\n",
    "print(df.shape)\n",
    "\n",
    "df"
   ]
  },
  {
   "cell_type": "code",
   "execution_count": 216,
   "id": "a440804f-e23a-464d-915b-0c96483b7370",
   "metadata": {},
   "outputs": [
    {
     "name": "stdout",
     "output_type": "stream",
     "text": [
      "(104, 3)\n"
     ]
    },
    {
     "data": {
      "text/html": [
       "<div>\n",
       "<style scoped>\n",
       "    .dataframe tbody tr th:only-of-type {\n",
       "        vertical-align: middle;\n",
       "    }\n",
       "\n",
       "    .dataframe tbody tr th {\n",
       "        vertical-align: top;\n",
       "    }\n",
       "\n",
       "    .dataframe thead th {\n",
       "        text-align: right;\n",
       "    }\n",
       "</style>\n",
       "<table border=\"1\" class=\"dataframe\">\n",
       "  <thead>\n",
       "    <tr style=\"text-align: right;\">\n",
       "      <th></th>\n",
       "      <th>DATE</th>\n",
       "      <th>INCREMENT</th>\n",
       "      <th>VALUE</th>\n",
       "    </tr>\n",
       "  </thead>\n",
       "  <tbody>\n",
       "    <tr>\n",
       "      <th>0</th>\n",
       "      <td>2016-08-05</td>\n",
       "      <td>120</td>\n",
       "      <td>-241113.84</td>\n",
       "    </tr>\n",
       "    <tr>\n",
       "      <th>1</th>\n",
       "      <td>2016-08-05</td>\n",
       "      <td>180</td>\n",
       "      <td>-262191.00</td>\n",
       "    </tr>\n",
       "    <tr>\n",
       "      <th>2</th>\n",
       "      <td>2016-08-05</td>\n",
       "      <td>360</td>\n",
       "      <td>-262191.00</td>\n",
       "    </tr>\n",
       "    <tr>\n",
       "      <th>3</th>\n",
       "      <td>2016-08-05</td>\n",
       "      <td>3600</td>\n",
       "      <td>-263452.50</td>\n",
       "    </tr>\n",
       "    <tr>\n",
       "      <th>4</th>\n",
       "      <td>2016-08-08</td>\n",
       "      <td>0</td>\n",
       "      <td>-268861.47</td>\n",
       "    </tr>\n",
       "    <tr>\n",
       "      <th>...</th>\n",
       "      <td>...</td>\n",
       "      <td>...</td>\n",
       "      <td>...</td>\n",
       "    </tr>\n",
       "    <tr>\n",
       "      <th>99</th>\n",
       "      <td>2016-08-19</td>\n",
       "      <td>90</td>\n",
       "      <td>-102892.29</td>\n",
       "    </tr>\n",
       "    <tr>\n",
       "      <th>100</th>\n",
       "      <td>2016-08-19</td>\n",
       "      <td>120</td>\n",
       "      <td>-102892.29</td>\n",
       "    </tr>\n",
       "    <tr>\n",
       "      <th>101</th>\n",
       "      <td>2016-08-19</td>\n",
       "      <td>180</td>\n",
       "      <td>-143123.40</td>\n",
       "    </tr>\n",
       "    <tr>\n",
       "      <th>102</th>\n",
       "      <td>2016-08-19</td>\n",
       "      <td>360</td>\n",
       "      <td>-143123.40</td>\n",
       "    </tr>\n",
       "    <tr>\n",
       "      <th>103</th>\n",
       "      <td>2016-08-19</td>\n",
       "      <td>3600</td>\n",
       "      <td>-145137.39</td>\n",
       "    </tr>\n",
       "  </tbody>\n",
       "</table>\n",
       "<p>104 rows × 3 columns</p>\n",
       "</div>"
      ],
      "text/plain": [
       "           DATE  INCREMENT      VALUE\n",
       "0    2016-08-05        120 -241113.84\n",
       "1    2016-08-05        180 -262191.00\n",
       "2    2016-08-05        360 -262191.00\n",
       "3    2016-08-05       3600 -263452.50\n",
       "4    2016-08-08          0 -268861.47\n",
       "..          ...        ...        ...\n",
       "99   2016-08-19         90 -102892.29\n",
       "100  2016-08-19        120 -102892.29\n",
       "101  2016-08-19        180 -143123.40\n",
       "102  2016-08-19        360 -143123.40\n",
       "103  2016-08-19       3600 -145137.39\n",
       "\n",
       "[104 rows x 3 columns]"
      ]
     },
     "execution_count": 216,
     "metadata": {},
     "output_type": "execute_result"
    }
   ],
   "source": [
    "select_query = \"SELECT exec_date,increment,opt_value FROM greeks WHERE ticker='HSY' and greek='zomma' and option_type='call'\"\n",
    "\n",
    "cursor.execute(select_query)\n",
    "\n",
    "rows = cursor.fetchall()\n",
    "\n",
    "records = []\n",
    "for row in rows:\n",
    "    records.append([row[0], row[1],row[2],])\n",
    "    \n",
    "df = pd.DataFrame(records, columns=[\"DATE\", \"INCREMENT\", \"VALUE\", ])\n",
    "\n",
    "print(df.shape)\n",
    "\n",
    "df"
   ]
  },
  {
   "cell_type": "code",
   "execution_count": 135,
   "id": "3bbc5a83-d385-44e7-a5a3-43a62131ac61",
   "metadata": {},
   "outputs": [],
   "source": [
    "db_connection.close()"
   ]
  },
  {
   "cell_type": "code",
   "execution_count": null,
   "id": "757b1c9d-c0b3-44ca-86b9-d7a6d0d9d7b9",
   "metadata": {},
   "outputs": [],
   "source": []
  },
  {
   "cell_type": "code",
   "execution_count": null,
   "id": "c97aac37-5c31-484f-a43a-27d1f6ff364c",
   "metadata": {},
   "outputs": [],
   "source": []
  }
 ],
 "metadata": {
  "availableInstances": [
   {
    "_defaultOrder": 0,
    "_isFastLaunch": true,
    "category": "General purpose",
    "gpuNum": 0,
    "hideHardwareSpecs": false,
    "memoryGiB": 4,
    "name": "ml.t3.medium",
    "vcpuNum": 2
   },
   {
    "_defaultOrder": 1,
    "_isFastLaunch": false,
    "category": "General purpose",
    "gpuNum": 0,
    "hideHardwareSpecs": false,
    "memoryGiB": 8,
    "name": "ml.t3.large",
    "vcpuNum": 2
   },
   {
    "_defaultOrder": 2,
    "_isFastLaunch": false,
    "category": "General purpose",
    "gpuNum": 0,
    "hideHardwareSpecs": false,
    "memoryGiB": 16,
    "name": "ml.t3.xlarge",
    "vcpuNum": 4
   },
   {
    "_defaultOrder": 3,
    "_isFastLaunch": false,
    "category": "General purpose",
    "gpuNum": 0,
    "hideHardwareSpecs": false,
    "memoryGiB": 32,
    "name": "ml.t3.2xlarge",
    "vcpuNum": 8
   },
   {
    "_defaultOrder": 4,
    "_isFastLaunch": true,
    "category": "General purpose",
    "gpuNum": 0,
    "hideHardwareSpecs": false,
    "memoryGiB": 8,
    "name": "ml.m5.large",
    "vcpuNum": 2
   },
   {
    "_defaultOrder": 5,
    "_isFastLaunch": false,
    "category": "General purpose",
    "gpuNum": 0,
    "hideHardwareSpecs": false,
    "memoryGiB": 16,
    "name": "ml.m5.xlarge",
    "vcpuNum": 4
   },
   {
    "_defaultOrder": 6,
    "_isFastLaunch": false,
    "category": "General purpose",
    "gpuNum": 0,
    "hideHardwareSpecs": false,
    "memoryGiB": 32,
    "name": "ml.m5.2xlarge",
    "vcpuNum": 8
   },
   {
    "_defaultOrder": 7,
    "_isFastLaunch": false,
    "category": "General purpose",
    "gpuNum": 0,
    "hideHardwareSpecs": false,
    "memoryGiB": 64,
    "name": "ml.m5.4xlarge",
    "vcpuNum": 16
   },
   {
    "_defaultOrder": 8,
    "_isFastLaunch": false,
    "category": "General purpose",
    "gpuNum": 0,
    "hideHardwareSpecs": false,
    "memoryGiB": 128,
    "name": "ml.m5.8xlarge",
    "vcpuNum": 32
   },
   {
    "_defaultOrder": 9,
    "_isFastLaunch": false,
    "category": "General purpose",
    "gpuNum": 0,
    "hideHardwareSpecs": false,
    "memoryGiB": 192,
    "name": "ml.m5.12xlarge",
    "vcpuNum": 48
   },
   {
    "_defaultOrder": 10,
    "_isFastLaunch": false,
    "category": "General purpose",
    "gpuNum": 0,
    "hideHardwareSpecs": false,
    "memoryGiB": 256,
    "name": "ml.m5.16xlarge",
    "vcpuNum": 64
   },
   {
    "_defaultOrder": 11,
    "_isFastLaunch": false,
    "category": "General purpose",
    "gpuNum": 0,
    "hideHardwareSpecs": false,
    "memoryGiB": 384,
    "name": "ml.m5.24xlarge",
    "vcpuNum": 96
   },
   {
    "_defaultOrder": 12,
    "_isFastLaunch": false,
    "category": "General purpose",
    "gpuNum": 0,
    "hideHardwareSpecs": false,
    "memoryGiB": 8,
    "name": "ml.m5d.large",
    "vcpuNum": 2
   },
   {
    "_defaultOrder": 13,
    "_isFastLaunch": false,
    "category": "General purpose",
    "gpuNum": 0,
    "hideHardwareSpecs": false,
    "memoryGiB": 16,
    "name": "ml.m5d.xlarge",
    "vcpuNum": 4
   },
   {
    "_defaultOrder": 14,
    "_isFastLaunch": false,
    "category": "General purpose",
    "gpuNum": 0,
    "hideHardwareSpecs": false,
    "memoryGiB": 32,
    "name": "ml.m5d.2xlarge",
    "vcpuNum": 8
   },
   {
    "_defaultOrder": 15,
    "_isFastLaunch": false,
    "category": "General purpose",
    "gpuNum": 0,
    "hideHardwareSpecs": false,
    "memoryGiB": 64,
    "name": "ml.m5d.4xlarge",
    "vcpuNum": 16
   },
   {
    "_defaultOrder": 16,
    "_isFastLaunch": false,
    "category": "General purpose",
    "gpuNum": 0,
    "hideHardwareSpecs": false,
    "memoryGiB": 128,
    "name": "ml.m5d.8xlarge",
    "vcpuNum": 32
   },
   {
    "_defaultOrder": 17,
    "_isFastLaunch": false,
    "category": "General purpose",
    "gpuNum": 0,
    "hideHardwareSpecs": false,
    "memoryGiB": 192,
    "name": "ml.m5d.12xlarge",
    "vcpuNum": 48
   },
   {
    "_defaultOrder": 18,
    "_isFastLaunch": false,
    "category": "General purpose",
    "gpuNum": 0,
    "hideHardwareSpecs": false,
    "memoryGiB": 256,
    "name": "ml.m5d.16xlarge",
    "vcpuNum": 64
   },
   {
    "_defaultOrder": 19,
    "_isFastLaunch": false,
    "category": "General purpose",
    "gpuNum": 0,
    "hideHardwareSpecs": false,
    "memoryGiB": 384,
    "name": "ml.m5d.24xlarge",
    "vcpuNum": 96
   },
   {
    "_defaultOrder": 20,
    "_isFastLaunch": false,
    "category": "General purpose",
    "gpuNum": 0,
    "hideHardwareSpecs": true,
    "memoryGiB": 0,
    "name": "ml.geospatial.interactive",
    "supportedImageNames": [
     "sagemaker-geospatial-v1-0"
    ],
    "vcpuNum": 0
   },
   {
    "_defaultOrder": 21,
    "_isFastLaunch": true,
    "category": "Compute optimized",
    "gpuNum": 0,
    "hideHardwareSpecs": false,
    "memoryGiB": 4,
    "name": "ml.c5.large",
    "vcpuNum": 2
   },
   {
    "_defaultOrder": 22,
    "_isFastLaunch": false,
    "category": "Compute optimized",
    "gpuNum": 0,
    "hideHardwareSpecs": false,
    "memoryGiB": 8,
    "name": "ml.c5.xlarge",
    "vcpuNum": 4
   },
   {
    "_defaultOrder": 23,
    "_isFastLaunch": false,
    "category": "Compute optimized",
    "gpuNum": 0,
    "hideHardwareSpecs": false,
    "memoryGiB": 16,
    "name": "ml.c5.2xlarge",
    "vcpuNum": 8
   },
   {
    "_defaultOrder": 24,
    "_isFastLaunch": false,
    "category": "Compute optimized",
    "gpuNum": 0,
    "hideHardwareSpecs": false,
    "memoryGiB": 32,
    "name": "ml.c5.4xlarge",
    "vcpuNum": 16
   },
   {
    "_defaultOrder": 25,
    "_isFastLaunch": false,
    "category": "Compute optimized",
    "gpuNum": 0,
    "hideHardwareSpecs": false,
    "memoryGiB": 72,
    "name": "ml.c5.9xlarge",
    "vcpuNum": 36
   },
   {
    "_defaultOrder": 26,
    "_isFastLaunch": false,
    "category": "Compute optimized",
    "gpuNum": 0,
    "hideHardwareSpecs": false,
    "memoryGiB": 96,
    "name": "ml.c5.12xlarge",
    "vcpuNum": 48
   },
   {
    "_defaultOrder": 27,
    "_isFastLaunch": false,
    "category": "Compute optimized",
    "gpuNum": 0,
    "hideHardwareSpecs": false,
    "memoryGiB": 144,
    "name": "ml.c5.18xlarge",
    "vcpuNum": 72
   },
   {
    "_defaultOrder": 28,
    "_isFastLaunch": false,
    "category": "Compute optimized",
    "gpuNum": 0,
    "hideHardwareSpecs": false,
    "memoryGiB": 192,
    "name": "ml.c5.24xlarge",
    "vcpuNum": 96
   },
   {
    "_defaultOrder": 29,
    "_isFastLaunch": true,
    "category": "Accelerated computing",
    "gpuNum": 1,
    "hideHardwareSpecs": false,
    "memoryGiB": 16,
    "name": "ml.g4dn.xlarge",
    "vcpuNum": 4
   },
   {
    "_defaultOrder": 30,
    "_isFastLaunch": false,
    "category": "Accelerated computing",
    "gpuNum": 1,
    "hideHardwareSpecs": false,
    "memoryGiB": 32,
    "name": "ml.g4dn.2xlarge",
    "vcpuNum": 8
   },
   {
    "_defaultOrder": 31,
    "_isFastLaunch": false,
    "category": "Accelerated computing",
    "gpuNum": 1,
    "hideHardwareSpecs": false,
    "memoryGiB": 64,
    "name": "ml.g4dn.4xlarge",
    "vcpuNum": 16
   },
   {
    "_defaultOrder": 32,
    "_isFastLaunch": false,
    "category": "Accelerated computing",
    "gpuNum": 1,
    "hideHardwareSpecs": false,
    "memoryGiB": 128,
    "name": "ml.g4dn.8xlarge",
    "vcpuNum": 32
   },
   {
    "_defaultOrder": 33,
    "_isFastLaunch": false,
    "category": "Accelerated computing",
    "gpuNum": 4,
    "hideHardwareSpecs": false,
    "memoryGiB": 192,
    "name": "ml.g4dn.12xlarge",
    "vcpuNum": 48
   },
   {
    "_defaultOrder": 34,
    "_isFastLaunch": false,
    "category": "Accelerated computing",
    "gpuNum": 1,
    "hideHardwareSpecs": false,
    "memoryGiB": 256,
    "name": "ml.g4dn.16xlarge",
    "vcpuNum": 64
   },
   {
    "_defaultOrder": 35,
    "_isFastLaunch": false,
    "category": "Accelerated computing",
    "gpuNum": 1,
    "hideHardwareSpecs": false,
    "memoryGiB": 61,
    "name": "ml.p3.2xlarge",
    "vcpuNum": 8
   },
   {
    "_defaultOrder": 36,
    "_isFastLaunch": false,
    "category": "Accelerated computing",
    "gpuNum": 4,
    "hideHardwareSpecs": false,
    "memoryGiB": 244,
    "name": "ml.p3.8xlarge",
    "vcpuNum": 32
   },
   {
    "_defaultOrder": 37,
    "_isFastLaunch": false,
    "category": "Accelerated computing",
    "gpuNum": 8,
    "hideHardwareSpecs": false,
    "memoryGiB": 488,
    "name": "ml.p3.16xlarge",
    "vcpuNum": 64
   },
   {
    "_defaultOrder": 38,
    "_isFastLaunch": false,
    "category": "Accelerated computing",
    "gpuNum": 8,
    "hideHardwareSpecs": false,
    "memoryGiB": 768,
    "name": "ml.p3dn.24xlarge",
    "vcpuNum": 96
   },
   {
    "_defaultOrder": 39,
    "_isFastLaunch": false,
    "category": "Memory Optimized",
    "gpuNum": 0,
    "hideHardwareSpecs": false,
    "memoryGiB": 16,
    "name": "ml.r5.large",
    "vcpuNum": 2
   },
   {
    "_defaultOrder": 40,
    "_isFastLaunch": false,
    "category": "Memory Optimized",
    "gpuNum": 0,
    "hideHardwareSpecs": false,
    "memoryGiB": 32,
    "name": "ml.r5.xlarge",
    "vcpuNum": 4
   },
   {
    "_defaultOrder": 41,
    "_isFastLaunch": false,
    "category": "Memory Optimized",
    "gpuNum": 0,
    "hideHardwareSpecs": false,
    "memoryGiB": 64,
    "name": "ml.r5.2xlarge",
    "vcpuNum": 8
   },
   {
    "_defaultOrder": 42,
    "_isFastLaunch": false,
    "category": "Memory Optimized",
    "gpuNum": 0,
    "hideHardwareSpecs": false,
    "memoryGiB": 128,
    "name": "ml.r5.4xlarge",
    "vcpuNum": 16
   },
   {
    "_defaultOrder": 43,
    "_isFastLaunch": false,
    "category": "Memory Optimized",
    "gpuNum": 0,
    "hideHardwareSpecs": false,
    "memoryGiB": 256,
    "name": "ml.r5.8xlarge",
    "vcpuNum": 32
   },
   {
    "_defaultOrder": 44,
    "_isFastLaunch": false,
    "category": "Memory Optimized",
    "gpuNum": 0,
    "hideHardwareSpecs": false,
    "memoryGiB": 384,
    "name": "ml.r5.12xlarge",
    "vcpuNum": 48
   },
   {
    "_defaultOrder": 45,
    "_isFastLaunch": false,
    "category": "Memory Optimized",
    "gpuNum": 0,
    "hideHardwareSpecs": false,
    "memoryGiB": 512,
    "name": "ml.r5.16xlarge",
    "vcpuNum": 64
   },
   {
    "_defaultOrder": 46,
    "_isFastLaunch": false,
    "category": "Memory Optimized",
    "gpuNum": 0,
    "hideHardwareSpecs": false,
    "memoryGiB": 768,
    "name": "ml.r5.24xlarge",
    "vcpuNum": 96
   },
   {
    "_defaultOrder": 47,
    "_isFastLaunch": false,
    "category": "Accelerated computing",
    "gpuNum": 1,
    "hideHardwareSpecs": false,
    "memoryGiB": 16,
    "name": "ml.g5.xlarge",
    "vcpuNum": 4
   },
   {
    "_defaultOrder": 48,
    "_isFastLaunch": false,
    "category": "Accelerated computing",
    "gpuNum": 1,
    "hideHardwareSpecs": false,
    "memoryGiB": 32,
    "name": "ml.g5.2xlarge",
    "vcpuNum": 8
   },
   {
    "_defaultOrder": 49,
    "_isFastLaunch": false,
    "category": "Accelerated computing",
    "gpuNum": 1,
    "hideHardwareSpecs": false,
    "memoryGiB": 64,
    "name": "ml.g5.4xlarge",
    "vcpuNum": 16
   },
   {
    "_defaultOrder": 50,
    "_isFastLaunch": false,
    "category": "Accelerated computing",
    "gpuNum": 1,
    "hideHardwareSpecs": false,
    "memoryGiB": 128,
    "name": "ml.g5.8xlarge",
    "vcpuNum": 32
   },
   {
    "_defaultOrder": 51,
    "_isFastLaunch": false,
    "category": "Accelerated computing",
    "gpuNum": 1,
    "hideHardwareSpecs": false,
    "memoryGiB": 256,
    "name": "ml.g5.16xlarge",
    "vcpuNum": 64
   },
   {
    "_defaultOrder": 52,
    "_isFastLaunch": false,
    "category": "Accelerated computing",
    "gpuNum": 4,
    "hideHardwareSpecs": false,
    "memoryGiB": 192,
    "name": "ml.g5.12xlarge",
    "vcpuNum": 48
   },
   {
    "_defaultOrder": 53,
    "_isFastLaunch": false,
    "category": "Accelerated computing",
    "gpuNum": 4,
    "hideHardwareSpecs": false,
    "memoryGiB": 384,
    "name": "ml.g5.24xlarge",
    "vcpuNum": 96
   },
   {
    "_defaultOrder": 54,
    "_isFastLaunch": false,
    "category": "Accelerated computing",
    "gpuNum": 8,
    "hideHardwareSpecs": false,
    "memoryGiB": 768,
    "name": "ml.g5.48xlarge",
    "vcpuNum": 192
   },
   {
    "_defaultOrder": 55,
    "_isFastLaunch": false,
    "category": "Accelerated computing",
    "gpuNum": 8,
    "hideHardwareSpecs": false,
    "memoryGiB": 1152,
    "name": "ml.p4d.24xlarge",
    "vcpuNum": 96
   },
   {
    "_defaultOrder": 56,
    "_isFastLaunch": false,
    "category": "Accelerated computing",
    "gpuNum": 8,
    "hideHardwareSpecs": false,
    "memoryGiB": 1152,
    "name": "ml.p4de.24xlarge",
    "vcpuNum": 96
   }
  ],
  "instance_type": "ml.t3.medium",
  "kernelspec": {
   "display_name": "Python 3 (Data Science 3.0)",
   "language": "python",
   "name": "python3__SAGEMAKER_INTERNAL__arn:aws:sagemaker:eu-north-1:243637512696:image/sagemaker-data-science-310-v1"
  },
  "language_info": {
   "codemirror_mode": {
    "name": "ipython",
    "version": 3
   },
   "file_extension": ".py",
   "mimetype": "text/x-python",
   "name": "python",
   "nbconvert_exporter": "python",
   "pygments_lexer": "ipython3",
   "version": "3.10.6"
  }
 },
 "nbformat": 4,
 "nbformat_minor": 5
}
