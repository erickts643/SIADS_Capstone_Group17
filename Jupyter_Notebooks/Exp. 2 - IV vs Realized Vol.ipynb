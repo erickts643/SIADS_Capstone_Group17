{
 "cells": [
  {
   "cell_type": "code",
   "execution_count": 38,
   "id": "ca8a635c-3eb4-4572-9735-67d2c21d9181",
   "metadata": {},
   "outputs": [],
   "source": [
    "from yahoo_fin import stock_info as finance\n",
    "import pandas as pd\n",
    "import numpy as np"
   ]
  },
  {
   "cell_type": "code",
   "execution_count": 39,
   "id": "e02738c7-120f-452e-b126-8015b614c73d",
   "metadata": {},
   "outputs": [],
   "source": [
    "sdate = '20160101'\n",
    "edate = '20231115'"
   ]
  },
  {
   "cell_type": "code",
   "execution_count": 150,
   "id": "5afa4491-87b8-48a7-ae74-98f4dc3a2b4e",
   "metadata": {},
   "outputs": [],
   "source": [
    "df = finance.get_data('SPY', sdate, edate)"
   ]
  },
  {
   "cell_type": "code",
   "execution_count": 151,
   "id": "1a26d543-9d54-4c4a-a360-b50ce188f7c7",
   "metadata": {},
   "outputs": [],
   "source": [
    "# function for calculating a rolling realized volatility \n",
    "\n",
    "def rolling_realized_vol(df, period = 63, shift = 0):\n",
    "    # Avoid duplicate slice data\n",
    "    df = df.copy()\n",
    "    \n",
    "    # Assuming df['close'] contains your daily close prices\n",
    "    df['log_return'] = np.log(df['close'] / df['close'].shift(1))\n",
    "\n",
    "    # Define the rolling window size\n",
    "    window_size = 30  # Example for a 30-day rolling window\n",
    "\n",
    "    # Calculate rolling standard deviation of log returns\n",
    "    df['rolling_std_dev'] = df['log_return'].rolling(window = period).std()\n",
    "\n",
    "    # Annualize the standard deviation\n",
    "    # Assuming 252 trading days in a year\n",
    "    return (df['rolling_std_dev'] * np.sqrt(252)).shift(-shift) "
   ]
  },
  {
   "cell_type": "code",
   "execution_count": 152,
   "id": "d1614b8d-e165-4b5f-b39c-47c1262cd8a9",
   "metadata": {},
   "outputs": [],
   "source": [
    "df['realized_vol'] = rolling_realized_vol(df)"
   ]
  },
  {
   "cell_type": "code",
   "execution_count": 153,
   "id": "825d91f5-f2d9-4cfd-a04e-f93ae02e96bb",
   "metadata": {},
   "outputs": [
    {
     "data": {
      "text/html": [
       "<div>\n",
       "<style scoped>\n",
       "    .dataframe tbody tr th:only-of-type {\n",
       "        vertical-align: middle;\n",
       "    }\n",
       "\n",
       "    .dataframe tbody tr th {\n",
       "        vertical-align: top;\n",
       "    }\n",
       "\n",
       "    .dataframe thead th {\n",
       "        text-align: right;\n",
       "    }\n",
       "</style>\n",
       "<table border=\"1\" class=\"dataframe\">\n",
       "  <thead>\n",
       "    <tr style=\"text-align: right;\">\n",
       "      <th></th>\n",
       "      <th>open</th>\n",
       "      <th>high</th>\n",
       "      <th>low</th>\n",
       "      <th>close</th>\n",
       "      <th>adjclose</th>\n",
       "      <th>volume</th>\n",
       "      <th>ticker</th>\n",
       "      <th>realized_vol</th>\n",
       "    </tr>\n",
       "  </thead>\n",
       "  <tbody>\n",
       "    <tr>\n",
       "      <th>2016-01-04</th>\n",
       "      <td>200.490005</td>\n",
       "      <td>201.029999</td>\n",
       "      <td>198.589996</td>\n",
       "      <td>201.020004</td>\n",
       "      <td>175.291794</td>\n",
       "      <td>222353500</td>\n",
       "      <td>SPY</td>\n",
       "      <td>NaN</td>\n",
       "    </tr>\n",
       "    <tr>\n",
       "      <th>2016-01-05</th>\n",
       "      <td>201.399994</td>\n",
       "      <td>201.899994</td>\n",
       "      <td>200.050003</td>\n",
       "      <td>201.360001</td>\n",
       "      <td>175.588303</td>\n",
       "      <td>110845800</td>\n",
       "      <td>SPY</td>\n",
       "      <td>NaN</td>\n",
       "    </tr>\n",
       "    <tr>\n",
       "      <th>2016-01-06</th>\n",
       "      <td>198.339996</td>\n",
       "      <td>200.059998</td>\n",
       "      <td>197.600006</td>\n",
       "      <td>198.820007</td>\n",
       "      <td>173.373367</td>\n",
       "      <td>152112600</td>\n",
       "      <td>SPY</td>\n",
       "      <td>NaN</td>\n",
       "    </tr>\n",
       "    <tr>\n",
       "      <th>2016-01-07</th>\n",
       "      <td>195.330002</td>\n",
       "      <td>197.440002</td>\n",
       "      <td>193.589996</td>\n",
       "      <td>194.050003</td>\n",
       "      <td>169.213898</td>\n",
       "      <td>213436100</td>\n",
       "      <td>SPY</td>\n",
       "      <td>NaN</td>\n",
       "    </tr>\n",
       "    <tr>\n",
       "      <th>2016-01-08</th>\n",
       "      <td>195.190002</td>\n",
       "      <td>195.850006</td>\n",
       "      <td>191.580002</td>\n",
       "      <td>191.919998</td>\n",
       "      <td>167.356476</td>\n",
       "      <td>209817200</td>\n",
       "      <td>SPY</td>\n",
       "      <td>NaN</td>\n",
       "    </tr>\n",
       "    <tr>\n",
       "      <th>...</th>\n",
       "      <td>...</td>\n",
       "      <td>...</td>\n",
       "      <td>...</td>\n",
       "      <td>...</td>\n",
       "      <td>...</td>\n",
       "      <td>...</td>\n",
       "      <td>...</td>\n",
       "      <td>...</td>\n",
       "    </tr>\n",
       "    <tr>\n",
       "      <th>2023-11-08</th>\n",
       "      <td>437.549988</td>\n",
       "      <td>438.089996</td>\n",
       "      <td>434.869995</td>\n",
       "      <td>437.250000</td>\n",
       "      <td>437.250000</td>\n",
       "      <td>61746000</td>\n",
       "      <td>SPY</td>\n",
       "      <td>0.132234</td>\n",
       "    </tr>\n",
       "    <tr>\n",
       "      <th>2023-11-09</th>\n",
       "      <td>438.429993</td>\n",
       "      <td>438.470001</td>\n",
       "      <td>433.399994</td>\n",
       "      <td>433.839996</td>\n",
       "      <td>433.839996</td>\n",
       "      <td>83174400</td>\n",
       "      <td>SPY</td>\n",
       "      <td>0.133086</td>\n",
       "    </tr>\n",
       "    <tr>\n",
       "      <th>2023-11-10</th>\n",
       "      <td>435.980011</td>\n",
       "      <td>440.929993</td>\n",
       "      <td>433.829987</td>\n",
       "      <td>440.609985</td>\n",
       "      <td>440.609985</td>\n",
       "      <td>89462200</td>\n",
       "      <td>SPY</td>\n",
       "      <td>0.136351</td>\n",
       "    </tr>\n",
       "    <tr>\n",
       "      <th>2023-11-13</th>\n",
       "      <td>439.230011</td>\n",
       "      <td>441.329987</td>\n",
       "      <td>438.420013</td>\n",
       "      <td>440.190002</td>\n",
       "      <td>440.190002</td>\n",
       "      <td>52236100</td>\n",
       "      <td>SPY</td>\n",
       "      <td>0.134362</td>\n",
       "    </tr>\n",
       "    <tr>\n",
       "      <th>2023-11-14</th>\n",
       "      <td>446.320007</td>\n",
       "      <td>450.059998</td>\n",
       "      <td>446.089996</td>\n",
       "      <td>448.730011</td>\n",
       "      <td>448.730011</td>\n",
       "      <td>97176900</td>\n",
       "      <td>SPY</td>\n",
       "      <td>0.138956</td>\n",
       "    </tr>\n",
       "  </tbody>\n",
       "</table>\n",
       "<p>1981 rows × 8 columns</p>\n",
       "</div>"
      ],
      "text/plain": [
       "                  open        high         low       close    adjclose  \\\n",
       "2016-01-04  200.490005  201.029999  198.589996  201.020004  175.291794   \n",
       "2016-01-05  201.399994  201.899994  200.050003  201.360001  175.588303   \n",
       "2016-01-06  198.339996  200.059998  197.600006  198.820007  173.373367   \n",
       "2016-01-07  195.330002  197.440002  193.589996  194.050003  169.213898   \n",
       "2016-01-08  195.190002  195.850006  191.580002  191.919998  167.356476   \n",
       "...                ...         ...         ...         ...         ...   \n",
       "2023-11-08  437.549988  438.089996  434.869995  437.250000  437.250000   \n",
       "2023-11-09  438.429993  438.470001  433.399994  433.839996  433.839996   \n",
       "2023-11-10  435.980011  440.929993  433.829987  440.609985  440.609985   \n",
       "2023-11-13  439.230011  441.329987  438.420013  440.190002  440.190002   \n",
       "2023-11-14  446.320007  450.059998  446.089996  448.730011  448.730011   \n",
       "\n",
       "               volume ticker  realized_vol  \n",
       "2016-01-04  222353500    SPY           NaN  \n",
       "2016-01-05  110845800    SPY           NaN  \n",
       "2016-01-06  152112600    SPY           NaN  \n",
       "2016-01-07  213436100    SPY           NaN  \n",
       "2016-01-08  209817200    SPY           NaN  \n",
       "...               ...    ...           ...  \n",
       "2023-11-08   61746000    SPY      0.132234  \n",
       "2023-11-09   83174400    SPY      0.133086  \n",
       "2023-11-10   89462200    SPY      0.136351  \n",
       "2023-11-13   52236100    SPY      0.134362  \n",
       "2023-11-14   97176900    SPY      0.138956  \n",
       "\n",
       "[1981 rows x 8 columns]"
      ]
     },
     "execution_count": 153,
     "metadata": {},
     "output_type": "execute_result"
    }
   ],
   "source": [
    "df"
   ]
  },
  {
   "cell_type": "code",
   "execution_count": 141,
   "id": "b174df9e-77a5-47a8-a62b-d3688c453ad8",
   "metadata": {},
   "outputs": [],
   "source": [
    "import psycopg2\n",
    "import pandas as pd\n",
    "\n",
    "class GreekAnalysis:\n",
    "    def __init__(self):\n",
    "        self.db_params = {\n",
    "            'user': 'USER_STRING_HERE',   # Removed for Git\n",
    "            'password': 'PW_STRING_HERE', # Removed for Git\n",
    "            'host': 'mads-capstone.cmohac77hep9.eu-north-1.rds.amazonaws.com',\n",
    "            'port': 5432,\n",
    "            'database': 'mads'\n",
    "        }\n",
    "\n",
    "    def get_greeks_data(self, ticker, greek_type):\n",
    "        with psycopg2.connect(**self.db_params) as db_connection:\n",
    "            db_connection.autocommit = True\n",
    "            with db_connection.cursor() as cursor:\n",
    "                select_query = \"SELECT * FROM greeks3 WHERE ticker=%s AND GREEK=%s\"\n",
    "                cursor.execute(select_query, (ticker, greek_type))\n",
    "                rows = cursor.fetchall()\n",
    "                df = pd.DataFrame(rows, columns=[\"ID\", \"DATE\", \"INCREMENT\", \"VALUE\", \"TICKER\", \"GREEK\", \"OPTION_TYPE\"])\n",
    "        return df\n",
    "\n",
    "    def analyze_data(self, df, greek_type):\n",
    "        merged_df = self._prepare_merged_dataframe(df, greek_type)\n",
    "        merged_df[f'{greek_type}_Skew'] = merged_df[f'{greek_type}_Call'] / merged_df[f'{greek_type}_Put']\n",
    "        merged_df[f'{greek_type}_Time_Spread'] = merged_df[f'{greek_type}_30'] / merged_df[f'{greek_type}_90']\n",
    "        return merged_df[[f'{greek_type}_30', f'{greek_type}_Skew', f'{greek_type}_Time_Spread']]\n",
    "\n",
    "    def _prepare_merged_dataframe(self, df, greek_type):\n",
    "        inc30_all = df[(df['INCREMENT'] == 30) & (df['OPTION_TYPE'] == 'all')]\n",
    "        inc30_call = df[(df['INCREMENT'] == 30) & (df['OPTION_TYPE'] == 'call')]\n",
    "        inc30_put = df[(df['INCREMENT'] == 30) & (df['OPTION_TYPE'] == 'put')]\n",
    "        inc90_all = df[(df['INCREMENT'] == 90) & (df['OPTION_TYPE'] == 'all')]\n",
    "\n",
    "        merged_df = pd.DataFrame(index=inc30_all['DATE'].unique())\n",
    "        merged_df[f'{greek_type}_30'] = inc30_all.groupby('DATE')['VALUE'].mean()\n",
    "        merged_df[f'{greek_type}_Call'] = inc30_call.groupby('DATE')['VALUE'].mean()\n",
    "        merged_df[f'{greek_type}_Put'] = inc30_put.groupby('DATE')['VALUE'].mean()\n",
    "        merged_df[f'{greek_type}_90'] = inc90_all.groupby('DATE')['VALUE'].mean()\n",
    "\n",
    "        return merged_df\n",
    "\n",
    "    def _add_rolling_features(self, df, greek_type):\n",
    "        periods = [1, 5, 10, 21, 42]\n",
    "        for col in [f'{greek_type}_30', f'{greek_type}_Skew', f'{greek_type}_Time_Spread']:\n",
    "            for period in periods:\n",
    "                df[f'{col}_rolling_{period}'] = df[col].rolling(window=period).mean()\n",
    "        return df\n",
    "\n",
    "    def _add_z_score_features(self, df, greek_type):\n",
    "        rolling_window = 90\n",
    "        for col in [f'{greek_type}_30', f'{greek_type}_Skew', f'{greek_type}_Time_Spread']:\n",
    "            df[f'{col}_z_score'] = (df[col] - df[col].rolling(window=rolling_window).mean()) / df[col].rolling(window=rolling_window).std()\n",
    "        return df\n",
    "\n",
    "    def get_analysis_for_ticker(self, ticker, greek_type='iv', include_rolling=False, include_z_score=False):\n",
    "        df = self.get_greeks_data(ticker, greek_type)\n",
    "        analysis_df = self.analyze_data(df, greek_type)\n",
    "        if include_rolling:\n",
    "            analysis_df = self._add_rolling_features(analysis_df, greek_type)\n",
    "        if include_z_score:\n",
    "            analysis_df = self._add_z_score_features(analysis_df, greek_type)\n",
    "        return analysis_df.sort_index()\n",
    "\n",
    "# Example usage:\n",
    "greeks = GreekAnalysis()\n",
    "# df_gme_iv = analysis.get_analysis_for_ticker('GME', 'iv', include_rolling = False, include_z_score = True)\n",
    "# df_gme_gamma = analysis.get_analysis_for_ticker('GME', 'gamma', include_rolling = False, include_z_score = True)\n"
   ]
  },
  {
   "cell_type": "code",
   "execution_count": 142,
   "id": "759ef1b6-8425-41dd-8088-8e4c47843fe6",
   "metadata": {},
   "outputs": [],
   "source": [
    "df_iv = greeks.get_analysis_for_ticker('SPY', 'iv')"
   ]
  },
  {
   "cell_type": "code",
   "execution_count": 143,
   "id": "ba202d9d-3492-4e91-9cd5-888518376be9",
   "metadata": {},
   "outputs": [],
   "source": [
    "df = df.join(df_iv['iv_30'])"
   ]
  },
  {
   "cell_type": "code",
   "execution_count": 144,
   "id": "5aad881f-0ad7-4e15-8891-410237b1fe5d",
   "metadata": {},
   "outputs": [
    {
     "data": {
      "text/plain": [
       "<AxesSubplot:>"
      ]
     },
     "execution_count": 144,
     "metadata": {},
     "output_type": "execute_result"
    },
    {
     "data": {
      "image/png": "[encoded data removed]",
      "text/plain": [
       "<Figure size 640x480 with 1 Axes>"
      ]
     },
     "metadata": {},
     "output_type": "display_data"
    }
   ],
   "source": [
    "(df['realized_vol'] - df['iv_30']).plot()"
   ]
  },
  {
   "cell_type": "code",
   "execution_count": 145,
   "id": "99f2a77c-a4c1-4975-8bbf-bc73c792d4e0",
   "metadata": {},
   "outputs": [],
   "source": [
    "df['realized_vol_shift'] = df['realized_vol'].shift(-21)"
   ]
  },
  {
   "cell_type": "code",
   "execution_count": 146,
   "id": "4e3c9eee-a115-410d-ad5b-f52b17a985c9",
   "metadata": {},
   "outputs": [
    {
     "data": {
      "text/plain": [
       "<AxesSubplot:>"
      ]
     },
     "execution_count": 146,
     "metadata": {},
     "output_type": "execute_result"
    },
    {
     "data": {
      "image/png": "[encoded data removed]",
      "text/plain": [
       "<Figure size 640x480 with 1 Axes>"
      ]
     },
     "metadata": {},
     "output_type": "display_data"
    }
   ],
   "source": [
    "(df['realized_vol_shift'] - df['iv_30']).plot()"
   ]
  },
  {
   "cell_type": "code",
   "execution_count": null,
   "id": "b27f17d3-1c7f-43f7-9843-84872d8a553d",
   "metadata": {},
   "outputs": [],
   "source": []
  },
  {
   "cell_type": "code",
   "execution_count": 177,
   "id": "bfb97a22-8df3-4753-bb7c-71aa76ce0df2",
   "metadata": {},
   "outputs": [],
   "source": [
    "def rolling_z(series, period = 21):\n",
    "    return (series - series.rolling(window = period).mean()) / series.rolling(window = period).std()\n",
    "    "
   ]
  },
  {
   "cell_type": "code",
   "execution_count": 178,
   "id": "f49a2113-ec4c-4d52-a26d-57e7a0737588",
   "metadata": {},
   "outputs": [],
   "source": [
    "def comparison(ticker = 'GME', sdate = '20160101', edate = '20231115', shift = 21):\n",
    "    ticker = ticker.upper()\n",
    "    \n",
    "    # Get data\n",
    "    df = finance.get_data(ticker, sdate, edate)\n",
    "    \n",
    "    # Calc RV\n",
    "    df['realized_vol'] = rolling_realized_vol(df, shift = shift)\n",
    "    \n",
    "    # Fetch IV\n",
    "    df['iv_30'] = greeks.get_analysis_for_ticker(ticker, 'iv')['iv_30']\n",
    "    \n",
    "    # Difference \n",
    "    df['realized_iv_diff'] = df['realized_vol'] - df['iv_30']\n",
    "    \n",
    "    # Z score\n",
    "    df['diff_z_score'] = rolling_z(df['realized_iv_diff'], period = 63)\n",
    "    \n",
    "    return df.dropna()"
   ]
  },
  {
   "cell_type": "code",
   "execution_count": 186,
   "id": "0c4c0d20-dd29-435c-9e59-55f1ea394536",
   "metadata": {},
   "outputs": [],
   "source": [
    "res = comparison('CCRN')"
   ]
  },
  {
   "cell_type": "code",
   "execution_count": 187,
   "id": "1f7ea61d-cfe9-412e-9dec-e26cabb70225",
   "metadata": {},
   "outputs": [
    {
     "data": {
      "text/plain": [
       "<AxesSubplot:>"
      ]
     },
     "execution_count": 187,
     "metadata": {},
     "output_type": "execute_result"
    },
    {
     "data": {
      "image/png": "[encoded data removed]",
      "text/plain": [
       "<Figure size 640x480 with 1 Axes>"
      ]
     },
     "metadata": {},
     "output_type": "display_data"
    }
   ],
   "source": [
    "res['diff_z_score'].plot()"
   ]
  },
  {
   "cell_type": "code",
   "execution_count": null,
   "id": "2c0a60b6-79ce-457c-ac90-91e53b223787",
   "metadata": {},
   "outputs": [],
   "source": []
  },
  {
   "cell_type": "code",
   "execution_count": null,
   "id": "ad42b5e1-a217-4bd0-8110-fdcb93a6147d",
   "metadata": {},
   "outputs": [],
   "source": []
  }
 ],
 "metadata": {
  "availableInstances": [
   {
    "_defaultOrder": 0,
    "_isFastLaunch": true,
    "category": "General purpose",
    "gpuNum": 0,
    "hideHardwareSpecs": false,
    "memoryGiB": 4,
    "name": "ml.t3.medium",
    "vcpuNum": 2
   },
   {
    "_defaultOrder": 1,
    "_isFastLaunch": false,
    "category": "General purpose",
    "gpuNum": 0,
    "hideHardwareSpecs": false,
    "memoryGiB": 8,
    "name": "ml.t3.large",
    "vcpuNum": 2
   },
   {
    "_defaultOrder": 2,
    "_isFastLaunch": false,
    "category": "General purpose",
    "gpuNum": 0,
    "hideHardwareSpecs": false,
    "memoryGiB": 16,
    "name": "ml.t3.xlarge",
    "vcpuNum": 4
   },
   {
    "_defaultOrder": 3,
    "_isFastLaunch": false,
    "category": "General purpose",
    "gpuNum": 0,
    "hideHardwareSpecs": false,
    "memoryGiB": 32,
    "name": "ml.t3.2xlarge",
    "vcpuNum": 8
   },
   {
    "_defaultOrder": 4,
    "_isFastLaunch": true,
    "category": "General purpose",
    "gpuNum": 0,
    "hideHardwareSpecs": false,
    "memoryGiB": 8,
    "name": "ml.m5.large",
    "vcpuNum": 2
   },
   {
    "_defaultOrder": 5,
    "_isFastLaunch": false,
    "category": "General purpose",
    "gpuNum": 0,
    "hideHardwareSpecs": false,
    "memoryGiB": 16,
    "name": "ml.m5.xlarge",
    "vcpuNum": 4
   },
   {
    "_defaultOrder": 6,
    "_isFastLaunch": false,
    "category": "General purpose",
    "gpuNum": 0,
    "hideHardwareSpecs": false,
    "memoryGiB": 32,
    "name": "ml.m5.2xlarge",
    "vcpuNum": 8
   },
   {
    "_defaultOrder": 7,
    "_isFastLaunch": false,
    "category": "General purpose",
    "gpuNum": 0,
    "hideHardwareSpecs": false,
    "memoryGiB": 64,
    "name": "ml.m5.4xlarge",
    "vcpuNum": 16
   },
   {
    "_defaultOrder": 8,
    "_isFastLaunch": false,
    "category": "General purpose",
    "gpuNum": 0,
    "hideHardwareSpecs": false,
    "memoryGiB": 128,
    "name": "ml.m5.8xlarge",
    "vcpuNum": 32
   },
   {
    "_defaultOrder": 9,
    "_isFastLaunch": false,
    "category": "General purpose",
    "gpuNum": 0,
    "hideHardwareSpecs": false,
    "memoryGiB": 192,
    "name": "ml.m5.12xlarge",
    "vcpuNum": 48
   },
   {
    "_defaultOrder": 10,
    "_isFastLaunch": false,
    "category": "General purpose",
    "gpuNum": 0,
    "hideHardwareSpecs": false,
    "memoryGiB": 256,
    "name": "ml.m5.16xlarge",
    "vcpuNum": 64
   },
   {
    "_defaultOrder": 11,
    "_isFastLaunch": false,
    "category": "General purpose",
    "gpuNum": 0,
    "hideHardwareSpecs": false,
    "memoryGiB": 384,
    "name": "ml.m5.24xlarge",
    "vcpuNum": 96
   },
   {
    "_defaultOrder": 12,
    "_isFastLaunch": false,
    "category": "General purpose",
    "gpuNum": 0,
    "hideHardwareSpecs": false,
    "memoryGiB": 8,
    "name": "ml.m5d.large",
    "vcpuNum": 2
   },
   {
    "_defaultOrder": 13,
    "_isFastLaunch": false,
    "category": "General purpose",
    "gpuNum": 0,
    "hideHardwareSpecs": false,
    "memoryGiB": 16,
    "name": "ml.m5d.xlarge",
    "vcpuNum": 4
   },
   {
    "_defaultOrder": 14,
    "_isFastLaunch": false,
    "category": "General purpose",
    "gpuNum": 0,
    "hideHardwareSpecs": false,
    "memoryGiB": 32,
    "name": "ml.m5d.2xlarge",
    "vcpuNum": 8
   },
   {
    "_defaultOrder": 15,
    "_isFastLaunch": false,
    "category": "General purpose",
    "gpuNum": 0,
    "hideHardwareSpecs": false,
    "memoryGiB": 64,
    "name": "ml.m5d.4xlarge",
    "vcpuNum": 16
   },
   {
    "_defaultOrder": 16,
    "_isFastLaunch": false,
    "category": "General purpose",
    "gpuNum": 0,
    "hideHardwareSpecs": false,
    "memoryGiB": 128,
    "name": "ml.m5d.8xlarge",
    "vcpuNum": 32
   },
   {
    "_defaultOrder": 17,
    "_isFastLaunch": false,
    "category": "General purpose",
    "gpuNum": 0,
    "hideHardwareSpecs": false,
    "memoryGiB": 192,
    "name": "ml.m5d.12xlarge",
    "vcpuNum": 48
   },
   {
    "_defaultOrder": 18,
    "_isFastLaunch": false,
    "category": "General purpose",
    "gpuNum": 0,
    "hideHardwareSpecs": false,
    "memoryGiB": 256,
    "name": "ml.m5d.16xlarge",
    "vcpuNum": 64
   },
   {
    "_defaultOrder": 19,
    "_isFastLaunch": false,
    "category": "General purpose",
    "gpuNum": 0,
    "hideHardwareSpecs": false,
    "memoryGiB": 384,
    "name": "ml.m5d.24xlarge",
    "vcpuNum": 96
   },
   {
    "_defaultOrder": 20,
    "_isFastLaunch": false,
    "category": "General purpose",
    "gpuNum": 0,
    "hideHardwareSpecs": true,
    "memoryGiB": 0,
    "name": "ml.geospatial.interactive",
    "supportedImageNames": [
     "sagemaker-geospatial-v1-0"
    ],
    "vcpuNum": 0
   },
   {
    "_defaultOrder": 21,
    "_isFastLaunch": true,
    "category": "Compute optimized",
    "gpuNum": 0,
    "hideHardwareSpecs": false,
    "memoryGiB": 4,
    "name": "ml.c5.large",
    "vcpuNum": 2
   },
   {
    "_defaultOrder": 22,
    "_isFastLaunch": false,
    "category": "Compute optimized",
    "gpuNum": 0,
    "hideHardwareSpecs": false,
    "memoryGiB": 8,
    "name": "ml.c5.xlarge",
    "vcpuNum": 4
   },
   {
    "_defaultOrder": 23,
    "_isFastLaunch": false,
    "category": "Compute optimized",
    "gpuNum": 0,
    "hideHardwareSpecs": false,
    "memoryGiB": 16,
    "name": "ml.c5.2xlarge",
    "vcpuNum": 8
   },
   {
    "_defaultOrder": 24,
    "_isFastLaunch": false,
    "category": "Compute optimized",
    "gpuNum": 0,
    "hideHardwareSpecs": false,
    "memoryGiB": 32,
    "name": "ml.c5.4xlarge",
    "vcpuNum": 16
   },
   {
    "_defaultOrder": 25,
    "_isFastLaunch": false,
    "category": "Compute optimized",
    "gpuNum": 0,
    "hideHardwareSpecs": false,
    "memoryGiB": 72,
    "name": "ml.c5.9xlarge",
    "vcpuNum": 36
   },
   {
    "_defaultOrder": 26,
    "_isFastLaunch": false,
    "category": "Compute optimized",
    "gpuNum": 0,
    "hideHardwareSpecs": false,
    "memoryGiB": 96,
    "name": "ml.c5.12xlarge",
    "vcpuNum": 48
   },
   {
    "_defaultOrder": 27,
    "_isFastLaunch": false,
    "category": "Compute optimized",
    "gpuNum": 0,
    "hideHardwareSpecs": false,
    "memoryGiB": 144,
    "name": "ml.c5.18xlarge",
    "vcpuNum": 72
   },
   {
    "_defaultOrder": 28,
    "_isFastLaunch": false,
    "category": "Compute optimized",
    "gpuNum": 0,
    "hideHardwareSpecs": false,
    "memoryGiB": 192,
    "name": "ml.c5.24xlarge",
    "vcpuNum": 96
   },
   {
    "_defaultOrder": 29,
    "_isFastLaunch": true,
    "category": "Accelerated computing",
    "gpuNum": 1,
    "hideHardwareSpecs": false,
    "memoryGiB": 16,
    "name": "ml.g4dn.xlarge",
    "vcpuNum": 4
   },
   {
    "_defaultOrder": 30,
    "_isFastLaunch": false,
    "category": "Accelerated computing",
    "gpuNum": 1,
    "hideHardwareSpecs": false,
    "memoryGiB": 32,
    "name": "ml.g4dn.2xlarge",
    "vcpuNum": 8
   },
   {
    "_defaultOrder": 31,
    "_isFastLaunch": false,
    "category": "Accelerated computing",
    "gpuNum": 1,
    "hideHardwareSpecs": false,
    "memoryGiB": 64,
    "name": "ml.g4dn.4xlarge",
    "vcpuNum": 16
   },
   {
    "_defaultOrder": 32,
    "_isFastLaunch": false,
    "category": "Accelerated computing",
    "gpuNum": 1,
    "hideHardwareSpecs": false,
    "memoryGiB": 128,
    "name": "ml.g4dn.8xlarge",
    "vcpuNum": 32
   },
   {
    "_defaultOrder": 33,
    "_isFastLaunch": false,
    "category": "Accelerated computing",
    "gpuNum": 4,
    "hideHardwareSpecs": false,
    "memoryGiB": 192,
    "name": "ml.g4dn.12xlarge",
    "vcpuNum": 48
   },
   {
    "_defaultOrder": 34,
    "_isFastLaunch": false,
    "category": "Accelerated computing",
    "gpuNum": 1,
    "hideHardwareSpecs": false,
    "memoryGiB": 256,
    "name": "ml.g4dn.16xlarge",
    "vcpuNum": 64
   },
   {
    "_defaultOrder": 35,
    "_isFastLaunch": false,
    "category": "Accelerated computing",
    "gpuNum": 1,
    "hideHardwareSpecs": false,
    "memoryGiB": 61,
    "name": "ml.p3.2xlarge",
    "vcpuNum": 8
   },
   {
    "_defaultOrder": 36,
    "_isFastLaunch": false,
    "category": "Accelerated computing",
    "gpuNum": 4,
    "hideHardwareSpecs": false,
    "memoryGiB": 244,
    "name": "ml.p3.8xlarge",
    "vcpuNum": 32
   },
   {
    "_defaultOrder": 37,
    "_isFastLaunch": false,
    "category": "Accelerated computing",
    "gpuNum": 8,
    "hideHardwareSpecs": false,
    "memoryGiB": 488,
    "name": "ml.p3.16xlarge",
    "vcpuNum": 64
   },
   {
    "_defaultOrder": 38,
    "_isFastLaunch": false,
    "category": "Accelerated computing",
    "gpuNum": 8,
    "hideHardwareSpecs": false,
    "memoryGiB": 768,
    "name": "ml.p3dn.24xlarge",
    "vcpuNum": 96
   },
   {
    "_defaultOrder": 39,
    "_isFastLaunch": false,
    "category": "Memory Optimized",
    "gpuNum": 0,
    "hideHardwareSpecs": false,
    "memoryGiB": 16,
    "name": "ml.r5.large",
    "vcpuNum": 2
   },
   {
    "_defaultOrder": 40,
    "_isFastLaunch": false,
    "category": "Memory Optimized",
    "gpuNum": 0,
    "hideHardwareSpecs": false,
    "memoryGiB": 32,
    "name": "ml.r5.xlarge",
    "vcpuNum": 4
   },
   {
    "_defaultOrder": 41,
    "_isFastLaunch": false,
    "category": "Memory Optimized",
    "gpuNum": 0,
    "hideHardwareSpecs": false,
    "memoryGiB": 64,
    "name": "ml.r5.2xlarge",
    "vcpuNum": 8
   },
   {
    "_defaultOrder": 42,
    "_isFastLaunch": false,
    "category": "Memory Optimized",
    "gpuNum": 0,
    "hideHardwareSpecs": false,
    "memoryGiB": 128,
    "name": "ml.r5.4xlarge",
    "vcpuNum": 16
   },
   {
    "_defaultOrder": 43,
    "_isFastLaunch": false,
    "category": "Memory Optimized",
    "gpuNum": 0,
    "hideHardwareSpecs": false,
    "memoryGiB": 256,
    "name": "ml.r5.8xlarge",
    "vcpuNum": 32
   },
   {
    "_defaultOrder": 44,
    "_isFastLaunch": false,
    "category": "Memory Optimized",
    "gpuNum": 0,
    "hideHardwareSpecs": false,
    "memoryGiB": 384,
    "name": "ml.r5.12xlarge",
    "vcpuNum": 48
   },
   {
    "_defaultOrder": 45,
    "_isFastLaunch": false,
    "category": "Memory Optimized",
    "gpuNum": 0,
    "hideHardwareSpecs": false,
    "memoryGiB": 512,
    "name": "ml.r5.16xlarge",
    "vcpuNum": 64
   },
   {
    "_defaultOrder": 46,
    "_isFastLaunch": false,
    "category": "Memory Optimized",
    "gpuNum": 0,
    "hideHardwareSpecs": false,
    "memoryGiB": 768,
    "name": "ml.r5.24xlarge",
    "vcpuNum": 96
   },
   {
    "_defaultOrder": 47,
    "_isFastLaunch": false,
    "category": "Accelerated computing",
    "gpuNum": 1,
    "hideHardwareSpecs": false,
    "memoryGiB": 16,
    "name": "ml.g5.xlarge",
    "vcpuNum": 4
   },
   {
    "_defaultOrder": 48,
    "_isFastLaunch": false,
    "category": "Accelerated computing",
    "gpuNum": 1,
    "hideHardwareSpecs": false,
    "memoryGiB": 32,
    "name": "ml.g5.2xlarge",
    "vcpuNum": 8
   },
   {
    "_defaultOrder": 49,
    "_isFastLaunch": false,
    "category": "Accelerated computing",
    "gpuNum": 1,
    "hideHardwareSpecs": false,
    "memoryGiB": 64,
    "name": "ml.g5.4xlarge",
    "vcpuNum": 16
   },
   {
    "_defaultOrder": 50,
    "_isFastLaunch": false,
    "category": "Accelerated computing",
    "gpuNum": 1,
    "hideHardwareSpecs": false,
    "memoryGiB": 128,
    "name": "ml.g5.8xlarge",
    "vcpuNum": 32
   },
   {
    "_defaultOrder": 51,
    "_isFastLaunch": false,
    "category": "Accelerated computing",
    "gpuNum": 1,
    "hideHardwareSpecs": false,
    "memoryGiB": 256,
    "name": "ml.g5.16xlarge",
    "vcpuNum": 64
   },
   {
    "_defaultOrder": 52,
    "_isFastLaunch": false,
    "category": "Accelerated computing",
    "gpuNum": 4,
    "hideHardwareSpecs": false,
    "memoryGiB": 192,
    "name": "ml.g5.12xlarge",
    "vcpuNum": 48
   },
   {
    "_defaultOrder": 53,
    "_isFastLaunch": false,
    "category": "Accelerated computing",
    "gpuNum": 4,
    "hideHardwareSpecs": false,
    "memoryGiB": 384,
    "name": "ml.g5.24xlarge",
    "vcpuNum": 96
   },
   {
    "_defaultOrder": 54,
    "_isFastLaunch": false,
    "category": "Accelerated computing",
    "gpuNum": 8,
    "hideHardwareSpecs": false,
    "memoryGiB": 768,
    "name": "ml.g5.48xlarge",
    "vcpuNum": 192
   },
   {
    "_defaultOrder": 55,
    "_isFastLaunch": false,
    "category": "Accelerated computing",
    "gpuNum": 8,
    "hideHardwareSpecs": false,
    "memoryGiB": 1152,
    "name": "ml.p4d.24xlarge",
    "vcpuNum": 96
   },
   {
    "_defaultOrder": 56,
    "_isFastLaunch": false,
    "category": "Accelerated computing",
    "gpuNum": 8,
    "hideHardwareSpecs": false,
    "memoryGiB": 1152,
    "name": "ml.p4de.24xlarge",
    "vcpuNum": 96
   },
   {
    "_defaultOrder": 57,
    "_isFastLaunch": false,
    "category": "Accelerated computing",
    "gpuNum": 0,
    "hideHardwareSpecs": false,
    "memoryGiB": 32,
    "name": "ml.trn1.2xlarge",
    "vcpuNum": 8
   },
   {
    "_defaultOrder": 58,
    "_isFastLaunch": false,
    "category": "Accelerated computing",
    "gpuNum": 0,
    "hideHardwareSpecs": false,
    "memoryGiB": 512,
    "name": "ml.trn1.32xlarge",
    "vcpuNum": 128
   },
   {
    "_defaultOrder": 59,
    "_isFastLaunch": false,
    "category": "Accelerated computing",
    "gpuNum": 0,
    "hideHardwareSpecs": false,
    "memoryGiB": 512,
    "name": "ml.trn1n.32xlarge",
    "vcpuNum": 128
   }
  ],
  "kernelspec": {
   "display_name": "Python 3 (Data Science 3.0)",
   "language": "python",
   "name": "python3__SAGEMAKER_INTERNAL__arn:aws:sagemaker:eu-north-1:243637512696:image/sagemaker-data-science-310-v1"
  },
  "language_info": {
   "codemirror_mode": {
    "name": "ipython",
    "version": 3
   },
   "file_extension": ".py",
   "mimetype": "text/x-python",
   "name": "python",
   "nbconvert_exporter": "python",
   "pygments_lexer": "ipython3",
   "version": "3.10.6"
  }
 },
 "nbformat": 4,
 "nbformat_minor": 5
}
