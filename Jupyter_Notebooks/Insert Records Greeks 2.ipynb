{
 "cells": [
  {
   "cell_type": "code",
   "execution_count": 2,
   "id": "02ee1fab-66ec-4227-b7be-0c4af5f65fbb",
   "metadata": {},
   "outputs": [],
   "source": [
    "import psycopg2\n",
    "import time\n",
    "import boto3\n",
    "import copy\n",
    "import gc\n",
    "import pandas as pd"
   ]
  },
  {
   "cell_type": "markdown",
   "id": "37a5b709-e684-472f-b76f-3065c44f4499",
   "metadata": {},
   "source": [
    "#### Code to Count Records of CSV"
   ]
  },
  {
   "cell_type": "markdown",
   "id": "712842c0-542a-4a02-99d5-b5bcb5c2f618",
   "metadata": {
    "tags": []
   },
   "source": [
    "bucket = 'mads-capstone-2023' \n",
    "data_key = 'greeks2.csv' \n",
    "\n",
    "s3_client = boto3.client('s3')\n",
    "obj = s3_client.get_object(Bucket=bucket, Key=data_key)\n",
    "\n",
    "cnt = 0\n",
    "for i, row in enumerate(obj[\"Body\"].iter_lines()):\n",
    "    if i==0:\n",
    "        continue\n",
    "    cnt += 1\n",
    "    if (i%10_000_000)==0:\n",
    "        print(f\"{i} Records\")"
   ]
  },
  {
   "cell_type": "code",
   "execution_count": 4,
   "id": "8279445f-e642-4afa-b279-96d822b833ab",
   "metadata": {},
   "outputs": [
    {
     "data": {
      "text/plain": [
       "979949280"
      ]
     },
     "execution_count": 4,
     "metadata": {},
     "output_type": "execute_result"
    }
   ],
   "source": [
    "total_records = 979949280\n",
    "\n",
    "total_records"
   ]
  },
  {
   "cell_type": "code",
   "execution_count": 3,
   "id": "5635e8de-edf3-419c-bb14-37d459067a67",
   "metadata": {},
   "outputs": [],
   "source": [
    "db_connection = psycopg2.connect(\n",
    "            user='USER_STRING_HERE', password='PW_STRING_HERE', #Commented out for Github upload\n",
    "            host='mads-capstone.cmohac77hep9.eu-north-1.rds.amazonaws.com', port=5432,\n",
    "            database=\"mads\"\n",
    "        )\n",
    "\n",
    "db_connection.autocommit = True\n",
    "\n",
    "cursor = db_connection.cursor()"
   ]
  },
  {
   "cell_type": "code",
   "execution_count": 29,
   "id": "b387637b-daa3-4043-a95c-818f25fb0a3d",
   "metadata": {},
   "outputs": [],
   "source": [
    "delete_query = \"DROP TABLE greeks5\"\n",
    "cursor.execute(delete_query)"
   ]
  },
  {
   "cell_type": "code",
   "execution_count": 30,
   "id": "9a6e8a3b-f86b-404c-b9a4-9796cfa2386f",
   "metadata": {},
   "outputs": [],
   "source": [
    "query = '''CREATE TABLE greeks5 (id SERIAL PRIMARY KEY,  \n",
    "                                exec_date date,\n",
    "                                increment SMALLINT,\n",
    "                                opt_value float,\n",
    "                                ticker VARCHAR(8),\n",
    "                                greek VARCHAR(16),\n",
    "                                option_type VARCHAR(8))'''\n",
    "\n",
    "\n",
    "cursor.execute(query)"
   ]
  },
  {
   "cell_type": "markdown",
   "id": "577ff950-dd10-4931-9829-24d76d9c0a1f",
   "metadata": {},
   "source": [
    "%%time\n",
    "\n",
    "bucket = 'mads-capstone-2023' \n",
    "data_key = 'greeks2.csv' \n",
    "\n",
    "s3_client = boto3.client('s3')\n",
    "obj = s3_client.get_object(Bucket=bucket, Key=data_key)\n",
    "\n",
    "insert_query = \"INSERT INTO greeks4 (exec_date, increment, opt_value, ticker, greek, option_type) values ('{}',{},{},'{}','{}','{}');\"\n",
    "\n",
    "long_query = \"\"\n",
    "\n",
    "for i, row in enumerate(obj[\"Body\"].iter_lines()):\n",
    "    if i == 0:\n",
    "        continue\n",
    "    if i<=3000000: ## First Run failed at # Mn records. Condition to skip records till last fail count.\n",
    "        if (i%1_000_000) ==0:\n",
    "            print(f\"{i} Records Passed.\")\n",
    "        continue\n",
    "    try:\n",
    "        row_data = row.decode().split(\",\")\n",
    "        dt, incr, opt_value, ticker, greek, opt_type = row_data\n",
    "        dt = dt.split()[0]\n",
    "        incr = int(incr) if incr else \"NULL\"\n",
    "        opt_value = float(opt_value) if opt_value else \"NULL\"\n",
    "    except Exception as e:\n",
    "        print(e)\n",
    "        print(f\"{i} - {row_data} Failed Parsing.\")\n",
    "        continue\n",
    "        \n",
    "    query = insert_query.format(dt,incr,opt_value,ticker,greek,opt_type)\n",
    "    long_query += copy.copy(query + \"\\n\")\n",
    "    #print(query)\n",
    "    if (i%100_000)==0: ## Batching 100k records and uploading all at once.\n",
    "        cursor.execute(long_query)\n",
    "        long_query = \"\"\n",
    "        gc.collect();\n",
    "        if (i%1_000_000) == 0:\n",
    "            print(f\"{i} Records Inserted\")\n",
    "        \n",
    "\n",
    "if long_query:\n",
    "    cursor.execute(long_query)"
   ]
  },
  {
   "cell_type": "code",
   "execution_count": 31,
   "id": "2128fe4d-b45e-4603-8a13-e474fe71a608",
   "metadata": {},
   "outputs": [
    {
     "data": {
      "text/plain": [
       "[(0,)]"
      ]
     },
     "execution_count": 31,
     "metadata": {},
     "output_type": "execute_result"
    }
   ],
   "source": [
    "import pandas as pd\n",
    "\n",
    "select_query = \"SELECT count(*) FROM greeks5\"\n",
    "\n",
    "cursor.execute(select_query)\n",
    "\n",
    "cursor.fetchall()"
   ]
  },
  {
   "cell_type": "code",
   "execution_count": 56,
   "id": "24240adc-7c80-4939-89e0-63b421195c7f",
   "metadata": {},
   "outputs": [],
   "source": [
    "#query = \"SELECT aws_s3.table_import_from_s3('greeks5','','(format csv)', '(mads-capstone-2023,greeks2.csv,us-east-1)');\"\n",
    "\n",
    "#cursor.execute(select_query)"
   ]
  },
  {
   "cell_type": "code",
   "execution_count": 32,
   "id": "f5c61bf5-2c39-4df0-8403-b7ef85f9b0b5",
   "metadata": {},
   "outputs": [
    {
     "name": "stdout",
     "output_type": "stream",
     "text": [
      "1000000 Records Inserted\n",
      "2000000 Records Inserted\n",
      "3000000 Records Inserted\n",
      "4000000 Records Inserted\n",
      "5000000 Records Inserted\n",
      "6000000 Records Inserted\n",
      "7000000 Records Inserted\n",
      "8000000 Records Inserted\n",
      "9000000 Records Inserted\n",
      "10000000 Records Inserted\n",
      "11000000 Records Inserted\n",
      "12000000 Records Inserted\n",
      "13000000 Records Inserted\n",
      "14000000 Records Inserted\n",
      "15000000 Records Inserted\n",
      "16000000 Records Inserted\n",
      "17000000 Records Inserted\n",
      "18000000 Records Inserted\n",
      "19000000 Records Inserted\n",
      "20000000 Records Inserted\n",
      "21000000 Records Inserted\n",
      "22000000 Records Inserted\n",
      "23000000 Records Inserted\n",
      "24000000 Records Inserted\n",
      "25000000 Records Inserted\n",
      "26000000 Records Inserted\n",
      "27000000 Records Inserted\n",
      "28000000 Records Inserted\n",
      "29000000 Records Inserted\n",
      "30000000 Records Inserted\n",
      "31000000 Records Inserted\n",
      "32000000 Records Inserted\n",
      "33000000 Records Inserted\n",
      "34000000 Records Inserted\n",
      "35000000 Records Inserted\n",
      "36000000 Records Inserted\n",
      "37000000 Records Inserted\n",
      "38000000 Records Inserted\n",
      "39000000 Records Inserted\n",
      "40000000 Records Inserted\n",
      "41000000 Records Inserted\n",
      "42000000 Records Inserted\n",
      "43000000 Records Inserted\n",
      "44000000 Records Inserted\n",
      "45000000 Records Inserted\n",
      "46000000 Records Inserted\n",
      "47000000 Records Inserted\n",
      "48000000 Records Inserted\n",
      "49000000 Records Inserted\n",
      "50000000 Records Inserted\n",
      "51000000 Records Inserted\n",
      "52000000 Records Inserted\n",
      "53000000 Records Inserted\n",
      "54000000 Records Inserted\n",
      "55000000 Records Inserted\n",
      "56000000 Records Inserted\n",
      "57000000 Records Inserted\n",
      "58000000 Records Inserted\n",
      "59000000 Records Inserted\n",
      "60000000 Records Inserted\n",
      "61000000 Records Inserted\n",
      "62000000 Records Inserted\n",
      "63000000 Records Inserted\n",
      "64000000 Records Inserted\n",
      "65000000 Records Inserted\n",
      "66000000 Records Inserted\n",
      "67000000 Records Inserted\n",
      "68000000 Records Inserted\n",
      "69000000 Records Inserted\n",
      "70000000 Records Inserted\n",
      "71000000 Records Inserted\n",
      "72000000 Records Inserted\n",
      "73000000 Records Inserted\n",
      "74000000 Records Inserted\n",
      "75000000 Records Inserted\n",
      "76000000 Records Inserted\n",
      "77000000 Records Inserted\n",
      "78000000 Records Inserted\n",
      "79000000 Records Inserted\n",
      "80000000 Records Inserted\n",
      "81000000 Records Inserted\n",
      "82000000 Records Inserted\n",
      "83000000 Records Inserted\n",
      "84000000 Records Inserted\n",
      "85000000 Records Inserted\n",
      "86000000 Records Inserted\n",
      "87000000 Records Inserted\n",
      "88000000 Records Inserted\n",
      "89000000 Records Inserted\n",
      "90000000 Records Inserted\n",
      "91000000 Records Inserted\n",
      "92000000 Records Inserted\n",
      "93000000 Records Inserted\n",
      "94000000 Records Inserted\n",
      "95000000 Records Inserted\n",
      "96000000 Records Inserted\n",
      "97000000 Records Inserted\n",
      "98000000 Records Inserted\n",
      "99000000 Records Inserted\n",
      "100000000 Records Inserted\n",
      "101000000 Records Inserted\n",
      "102000000 Records Inserted\n",
      "103000000 Records Inserted\n",
      "104000000 Records Inserted\n",
      "105000000 Records Inserted\n",
      "106000000 Records Inserted\n",
      "107000000 Records Inserted\n",
      "108000000 Records Inserted\n",
      "109000000 Records Inserted\n",
      "110000000 Records Inserted\n",
      "111000000 Records Inserted\n",
      "112000000 Records Inserted\n",
      "113000000 Records Inserted\n",
      "114000000 Records Inserted\n",
      "115000000 Records Inserted\n",
      "116000000 Records Inserted\n",
      "117000000 Records Inserted\n",
      "118000000 Records Inserted\n",
      "119000000 Records Inserted\n",
      "120000000 Records Inserted\n",
      "121000000 Records Inserted\n",
      "122000000 Records Inserted\n",
      "123000000 Records Inserted\n",
      "124000000 Records Inserted\n",
      "125000000 Records Inserted\n",
      "126000000 Records Inserted\n",
      "127000000 Records Inserted\n",
      "128000000 Records Inserted\n",
      "129000000 Records Inserted\n",
      "130000000 Records Inserted\n",
      "131000000 Records Inserted\n",
      "132000000 Records Inserted\n",
      "133000000 Records Inserted\n",
      "134000000 Records Inserted\n",
      "135000000 Records Inserted\n",
      "136000000 Records Inserted\n",
      "137000000 Records Inserted\n",
      "138000000 Records Inserted\n"
     ]
    },
    {
     "ename": "KeyboardInterrupt",
     "evalue": "",
     "output_type": "error",
     "traceback": [
      "\u001b[0;31m---------------------------------------------------------------------------\u001b[0m",
      "\u001b[0;31mKeyboardInterrupt\u001b[0m                         Traceback (most recent call last)",
      "File \u001b[0;32m<timed exec>:33\u001b[0m\n",
      "\u001b[0;31mKeyboardInterrupt\u001b[0m: "
     ]
    }
   ],
   "source": [
    "%%time\n",
    "\n",
    "bucket = 'mads-capstone-2023' \n",
    "data_key = 'greeks2.csv' \n",
    "\n",
    "s3_client = boto3.client('s3')\n",
    "obj = s3_client.get_object(Bucket=bucket, Key=data_key)\n",
    "\n",
    "records = []\n",
    "\n",
    "for i, row in enumerate(obj[\"Body\"].iter_lines()):\n",
    "    if i == 0:\n",
    "        continue\n",
    "    #if i<=3000000: ## First Run failed at # Mn records. Condition to skip records till last fail count.\n",
    "    #    if (i%1_000_000) ==0:\n",
    "    #        print(f\"{i} Records Passed.\")\n",
    "    #    continue\n",
    "    try:\n",
    "        row_data = row.decode().split(\",\")\n",
    "        dt, incr, opt_value, ticker, greek, opt_type = row_data\n",
    "        dt = dt.split()[0]\n",
    "        incr = int(incr) if incr else None\n",
    "        opt_value = float(opt_value) if opt_value else None\n",
    "    except Exception as e:\n",
    "        print(e)\n",
    "        print(f\"{i} - {row_data} Failed Parsing.\")\n",
    "        continue\n",
    "\n",
    "    records.append([dt,incr,opt_value,ticker,greek,opt_type])\n",
    "\n",
    "    if (i%100_000)==0: ## Batching 100k records and uploading all at once.\n",
    "        df = pd.DataFrame(records)#.dropna()\n",
    "        df.to_csv(\"sample.csv\", header=False, index=False)\n",
    "        with open(\"sample.csv\", \"rb\") as fp:\n",
    "            cursor.copy_from(fp, \"greeks5\", sep=\",\", null=\"\", columns=[\"exec_date\", \"increment\", \"opt_value\", \"ticker\", \"greek\", \"option_type\"])\n",
    "\n",
    "        records = []\n",
    "        gc.collect();\n",
    "\n",
    "        if (i%1_000_000) == 0:\n",
    "            print(f\"{i} Records Inserted\")\n",
    "\n",
    "if records:\n",
    "    df = pd.DataFrame(records).dropna()\n",
    "    df.to_csv(\"sample.csv\", header=False, index=False)\n",
    "    with open(\"sample.csv\", \"rb\") as fp:\n",
    "        cursor.copy_from(fp, \"greeks5\", sep=\",\", null=\"\", columns=[\"exec_date\", \"increment\", \"opt_value\", \"ticker\", \"greek\", \"option_type\"])"
   ]
  },
  {
   "cell_type": "code",
   "execution_count": 33,
   "id": "e0101d4c-738d-4455-9b2b-534098193622",
   "metadata": {},
   "outputs": [
    {
     "ename": "KeyboardInterrupt",
     "evalue": "",
     "output_type": "error",
     "traceback": [
      "\u001b[0;31m---------------------------------------------------------------------------\u001b[0m",
      "\u001b[0;31mKeyboardInterrupt\u001b[0m                         Traceback (most recent call last)",
      "Cell \u001b[0;32mIn[33], line 5\u001b[0m\n\u001b[1;32m      3\u001b[0m df\u001b[38;5;241m.\u001b[39mto_csv(\u001b[38;5;124m\"\u001b[39m\u001b[38;5;124msample.csv\u001b[39m\u001b[38;5;124m\"\u001b[39m, header\u001b[38;5;241m=\u001b[39m\u001b[38;5;28;01mFalse\u001b[39;00m, index\u001b[38;5;241m=\u001b[39m\u001b[38;5;28;01mFalse\u001b[39;00m)\n\u001b[1;32m      4\u001b[0m \u001b[38;5;28;01mwith\u001b[39;00m \u001b[38;5;28mopen\u001b[39m(\u001b[38;5;124m\"\u001b[39m\u001b[38;5;124msample.csv\u001b[39m\u001b[38;5;124m\"\u001b[39m, \u001b[38;5;124m\"\u001b[39m\u001b[38;5;124mrb\u001b[39m\u001b[38;5;124m\"\u001b[39m) \u001b[38;5;28;01mas\u001b[39;00m fp:\n\u001b[0;32m----> 5\u001b[0m     \u001b[43mcursor\u001b[49m\u001b[38;5;241;43m.\u001b[39;49m\u001b[43mcopy_from\u001b[49m\u001b[43m(\u001b[49m\u001b[43mfp\u001b[49m\u001b[43m,\u001b[49m\u001b[43m \u001b[49m\u001b[38;5;124;43m\"\u001b[39;49m\u001b[38;5;124;43mgreeks5\u001b[39;49m\u001b[38;5;124;43m\"\u001b[39;49m\u001b[43m,\u001b[49m\u001b[43m \u001b[49m\u001b[43msep\u001b[49m\u001b[38;5;241;43m=\u001b[39;49m\u001b[38;5;124;43m\"\u001b[39;49m\u001b[38;5;124;43m,\u001b[39;49m\u001b[38;5;124;43m\"\u001b[39;49m\u001b[43m,\u001b[49m\u001b[43m \u001b[49m\u001b[43mnull\u001b[49m\u001b[38;5;241;43m=\u001b[39;49m\u001b[38;5;124;43m\"\u001b[39;49m\u001b[38;5;124;43m\"\u001b[39;49m\u001b[43m,\u001b[49m\u001b[43m \u001b[49m\u001b[43mcolumns\u001b[49m\u001b[38;5;241;43m=\u001b[39;49m\u001b[43m[\u001b[49m\u001b[38;5;124;43m\"\u001b[39;49m\u001b[38;5;124;43mexec_date\u001b[39;49m\u001b[38;5;124;43m\"\u001b[39;49m\u001b[43m,\u001b[49m\u001b[43m \u001b[49m\u001b[38;5;124;43m\"\u001b[39;49m\u001b[38;5;124;43mincrement\u001b[39;49m\u001b[38;5;124;43m\"\u001b[39;49m\u001b[43m,\u001b[49m\u001b[43m \u001b[49m\u001b[38;5;124;43m\"\u001b[39;49m\u001b[38;5;124;43mopt_value\u001b[39;49m\u001b[38;5;124;43m\"\u001b[39;49m\u001b[43m,\u001b[49m\u001b[43m \u001b[49m\u001b[38;5;124;43m\"\u001b[39;49m\u001b[38;5;124;43mticker\u001b[39;49m\u001b[38;5;124;43m\"\u001b[39;49m\u001b[43m,\u001b[49m\u001b[43m \u001b[49m\u001b[38;5;124;43m\"\u001b[39;49m\u001b[38;5;124;43mgreek\u001b[39;49m\u001b[38;5;124;43m\"\u001b[39;49m\u001b[43m,\u001b[49m\u001b[43m \u001b[49m\u001b[38;5;124;43m\"\u001b[39;49m\u001b[38;5;124;43moption_type\u001b[39;49m\u001b[38;5;124;43m\"\u001b[39;49m\u001b[43m]\u001b[49m\u001b[43m)\u001b[49m\n",
      "\u001b[0;31mKeyboardInterrupt\u001b[0m: "
     ]
    }
   ],
   "source": [
    "if records:\n",
    "    df = pd.DataFrame(records).dropna()\n",
    "    df.to_csv(\"sample.csv\", header=False, index=False)\n",
    "    with open(\"sample.csv\", \"rb\") as fp:\n",
    "        cursor.copy_from(fp, \"greeks5\", sep=\",\", null=\"\", columns=[\"exec_date\", \"increment\", \"opt_value\", \"ticker\", \"greek\", \"option_type\"])"
   ]
  },
  {
   "cell_type": "code",
   "execution_count": null,
   "id": "3a6b91ee-3468-4313-870a-3ef73a3acd12",
   "metadata": {},
   "outputs": [],
   "source": [
    "import pandas as pd\n",
    "\n",
    "select_query = \"SELECT count(*) FROM greeks5\"\n",
    "\n",
    "cursor.execute(select_query)\n",
    "\n",
    "cursor.fetchall()"
   ]
  },
  {
   "cell_type": "code",
   "execution_count": 26,
   "id": "038d2793-a19e-4f7a-b66b-765f285d388b",
   "metadata": {},
   "outputs": [],
   "source": [
    "#bucket = 'mads-capstone-2023' \n",
    "#data_key = 'greeks2.csv' \n",
    "\n",
    "#s3_client = boto3.client('s3')\n",
    "#obj = s3_client.get_object(Bucket=bucket, Key=data_key)\n",
    "\n",
    "#cursor.copy_from(obj[\"Body\"], \"greeks5\", sep=\",\", columns=[\"exec_date\", \"increment\", \"opt_value\", \"ticker\", \"greek\", \"option_type\"])"
   ]
  },
  {
   "cell_type": "code",
   "execution_count": 4,
   "id": "c8244d07-4922-4129-9736-c6571cf33ffd",
   "metadata": {},
   "outputs": [],
   "source": [
    "db_connection.close()"
   ]
  }
 ],
 "metadata": {
  "availableInstances": [
   {
    "_defaultOrder": 0,
    "_isFastLaunch": true,
    "category": "General purpose",
    "gpuNum": 0,
    "hideHardwareSpecs": false,
    "memoryGiB": 4,
    "name": "ml.t3.medium",
    "vcpuNum": 2
   },
   {
    "_defaultOrder": 1,
    "_isFastLaunch": false,
    "category": "General purpose",
    "gpuNum": 0,
    "hideHardwareSpecs": false,
    "memoryGiB": 8,
    "name": "ml.t3.large",
    "vcpuNum": 2
   },
   {
    "_defaultOrder": 2,
    "_isFastLaunch": false,
    "category": "General purpose",
    "gpuNum": 0,
    "hideHardwareSpecs": false,
    "memoryGiB": 16,
    "name": "ml.t3.xlarge",
    "vcpuNum": 4
   },
   {
    "_defaultOrder": 3,
    "_isFastLaunch": false,
    "category": "General purpose",
    "gpuNum": 0,
    "hideHardwareSpecs": false,
    "memoryGiB": 32,
    "name": "ml.t3.2xlarge",
    "vcpuNum": 8
   },
   {
    "_defaultOrder": 4,
    "_isFastLaunch": true,
    "category": "General purpose",
    "gpuNum": 0,
    "hideHardwareSpecs": false,
    "memoryGiB": 8,
    "name": "ml.m5.large",
    "vcpuNum": 2
   },
   {
    "_defaultOrder": 5,
    "_isFastLaunch": false,
    "category": "General purpose",
    "gpuNum": 0,
    "hideHardwareSpecs": false,
    "memoryGiB": 16,
    "name": "ml.m5.xlarge",
    "vcpuNum": 4
   },
   {
    "_defaultOrder": 6,
    "_isFastLaunch": false,
    "category": "General purpose",
    "gpuNum": 0,
    "hideHardwareSpecs": false,
    "memoryGiB": 32,
    "name": "ml.m5.2xlarge",
    "vcpuNum": 8
   },
   {
    "_defaultOrder": 7,
    "_isFastLaunch": false,
    "category": "General purpose",
    "gpuNum": 0,
    "hideHardwareSpecs": false,
    "memoryGiB": 64,
    "name": "ml.m5.4xlarge",
    "vcpuNum": 16
   },
   {
    "_defaultOrder": 8,
    "_isFastLaunch": false,
    "category": "General purpose",
    "gpuNum": 0,
    "hideHardwareSpecs": false,
    "memoryGiB": 128,
    "name": "ml.m5.8xlarge",
    "vcpuNum": 32
   },
   {
    "_defaultOrder": 9,
    "_isFastLaunch": false,
    "category": "General purpose",
    "gpuNum": 0,
    "hideHardwareSpecs": false,
    "memoryGiB": 192,
    "name": "ml.m5.12xlarge",
    "vcpuNum": 48
   },
   {
    "_defaultOrder": 10,
    "_isFastLaunch": false,
    "category": "General purpose",
    "gpuNum": 0,
    "hideHardwareSpecs": false,
    "memoryGiB": 256,
    "name": "ml.m5.16xlarge",
    "vcpuNum": 64
   },
   {
    "_defaultOrder": 11,
    "_isFastLaunch": false,
    "category": "General purpose",
    "gpuNum": 0,
    "hideHardwareSpecs": false,
    "memoryGiB": 384,
    "name": "ml.m5.24xlarge",
    "vcpuNum": 96
   },
   {
    "_defaultOrder": 12,
    "_isFastLaunch": false,
    "category": "General purpose",
    "gpuNum": 0,
    "hideHardwareSpecs": false,
    "memoryGiB": 8,
    "name": "ml.m5d.large",
    "vcpuNum": 2
   },
   {
    "_defaultOrder": 13,
    "_isFastLaunch": false,
    "category": "General purpose",
    "gpuNum": 0,
    "hideHardwareSpecs": false,
    "memoryGiB": 16,
    "name": "ml.m5d.xlarge",
    "vcpuNum": 4
   },
   {
    "_defaultOrder": 14,
    "_isFastLaunch": false,
    "category": "General purpose",
    "gpuNum": 0,
    "hideHardwareSpecs": false,
    "memoryGiB": 32,
    "name": "ml.m5d.2xlarge",
    "vcpuNum": 8
   },
   {
    "_defaultOrder": 15,
    "_isFastLaunch": false,
    "category": "General purpose",
    "gpuNum": 0,
    "hideHardwareSpecs": false,
    "memoryGiB": 64,
    "name": "ml.m5d.4xlarge",
    "vcpuNum": 16
   },
   {
    "_defaultOrder": 16,
    "_isFastLaunch": false,
    "category": "General purpose",
    "gpuNum": 0,
    "hideHardwareSpecs": false,
    "memoryGiB": 128,
    "name": "ml.m5d.8xlarge",
    "vcpuNum": 32
   },
   {
    "_defaultOrder": 17,
    "_isFastLaunch": false,
    "category": "General purpose",
    "gpuNum": 0,
    "hideHardwareSpecs": false,
    "memoryGiB": 192,
    "name": "ml.m5d.12xlarge",
    "vcpuNum": 48
   },
   {
    "_defaultOrder": 18,
    "_isFastLaunch": false,
    "category": "General purpose",
    "gpuNum": 0,
    "hideHardwareSpecs": false,
    "memoryGiB": 256,
    "name": "ml.m5d.16xlarge",
    "vcpuNum": 64
   },
   {
    "_defaultOrder": 19,
    "_isFastLaunch": false,
    "category": "General purpose",
    "gpuNum": 0,
    "hideHardwareSpecs": false,
    "memoryGiB": 384,
    "name": "ml.m5d.24xlarge",
    "vcpuNum": 96
   },
   {
    "_defaultOrder": 20,
    "_isFastLaunch": false,
    "category": "General purpose",
    "gpuNum": 0,
    "hideHardwareSpecs": true,
    "memoryGiB": 0,
    "name": "ml.geospatial.interactive",
    "supportedImageNames": [
     "sagemaker-geospatial-v1-0"
    ],
    "vcpuNum": 0
   },
   {
    "_defaultOrder": 21,
    "_isFastLaunch": true,
    "category": "Compute optimized",
    "gpuNum": 0,
    "hideHardwareSpecs": false,
    "memoryGiB": 4,
    "name": "ml.c5.large",
    "vcpuNum": 2
   },
   {
    "_defaultOrder": 22,
    "_isFastLaunch": false,
    "category": "Compute optimized",
    "gpuNum": 0,
    "hideHardwareSpecs": false,
    "memoryGiB": 8,
    "name": "ml.c5.xlarge",
    "vcpuNum": 4
   },
   {
    "_defaultOrder": 23,
    "_isFastLaunch": false,
    "category": "Compute optimized",
    "gpuNum": 0,
    "hideHardwareSpecs": false,
    "memoryGiB": 16,
    "name": "ml.c5.2xlarge",
    "vcpuNum": 8
   },
   {
    "_defaultOrder": 24,
    "_isFastLaunch": false,
    "category": "Compute optimized",
    "gpuNum": 0,
    "hideHardwareSpecs": false,
    "memoryGiB": 32,
    "name": "ml.c5.4xlarge",
    "vcpuNum": 16
   },
   {
    "_defaultOrder": 25,
    "_isFastLaunch": false,
    "category": "Compute optimized",
    "gpuNum": 0,
    "hideHardwareSpecs": false,
    "memoryGiB": 72,
    "name": "ml.c5.9xlarge",
    "vcpuNum": 36
   },
   {
    "_defaultOrder": 26,
    "_isFastLaunch": false,
    "category": "Compute optimized",
    "gpuNum": 0,
    "hideHardwareSpecs": false,
    "memoryGiB": 96,
    "name": "ml.c5.12xlarge",
    "vcpuNum": 48
   },
   {
    "_defaultOrder": 27,
    "_isFastLaunch": false,
    "category": "Compute optimized",
    "gpuNum": 0,
    "hideHardwareSpecs": false,
    "memoryGiB": 144,
    "name": "ml.c5.18xlarge",
    "vcpuNum": 72
   },
   {
    "_defaultOrder": 28,
    "_isFastLaunch": false,
    "category": "Compute optimized",
    "gpuNum": 0,
    "hideHardwareSpecs": false,
    "memoryGiB": 192,
    "name": "ml.c5.24xlarge",
    "vcpuNum": 96
   },
   {
    "_defaultOrder": 29,
    "_isFastLaunch": true,
    "category": "Accelerated computing",
    "gpuNum": 1,
    "hideHardwareSpecs": false,
    "memoryGiB": 16,
    "name": "ml.g4dn.xlarge",
    "vcpuNum": 4
   },
   {
    "_defaultOrder": 30,
    "_isFastLaunch": false,
    "category": "Accelerated computing",
    "gpuNum": 1,
    "hideHardwareSpecs": false,
    "memoryGiB": 32,
    "name": "ml.g4dn.2xlarge",
    "vcpuNum": 8
   },
   {
    "_defaultOrder": 31,
    "_isFastLaunch": false,
    "category": "Accelerated computing",
    "gpuNum": 1,
    "hideHardwareSpecs": false,
    "memoryGiB": 64,
    "name": "ml.g4dn.4xlarge",
    "vcpuNum": 16
   },
   {
    "_defaultOrder": 32,
    "_isFastLaunch": false,
    "category": "Accelerated computing",
    "gpuNum": 1,
    "hideHardwareSpecs": false,
    "memoryGiB": 128,
    "name": "ml.g4dn.8xlarge",
    "vcpuNum": 32
   },
   {
    "_defaultOrder": 33,
    "_isFastLaunch": false,
    "category": "Accelerated computing",
    "gpuNum": 4,
    "hideHardwareSpecs": false,
    "memoryGiB": 192,
    "name": "ml.g4dn.12xlarge",
    "vcpuNum": 48
   },
   {
    "_defaultOrder": 34,
    "_isFastLaunch": false,
    "category": "Accelerated computing",
    "gpuNum": 1,
    "hideHardwareSpecs": false,
    "memoryGiB": 256,
    "name": "ml.g4dn.16xlarge",
    "vcpuNum": 64
   },
   {
    "_defaultOrder": 35,
    "_isFastLaunch": false,
    "category": "Accelerated computing",
    "gpuNum": 1,
    "hideHardwareSpecs": false,
    "memoryGiB": 61,
    "name": "ml.p3.2xlarge",
    "vcpuNum": 8
   },
   {
    "_defaultOrder": 36,
    "_isFastLaunch": false,
    "category": "Accelerated computing",
    "gpuNum": 4,
    "hideHardwareSpecs": false,
    "memoryGiB": 244,
    "name": "ml.p3.8xlarge",
    "vcpuNum": 32
   },
   {
    "_defaultOrder": 37,
    "_isFastLaunch": false,
    "category": "Accelerated computing",
    "gpuNum": 8,
    "hideHardwareSpecs": false,
    "memoryGiB": 488,
    "name": "ml.p3.16xlarge",
    "vcpuNum": 64
   },
   {
    "_defaultOrder": 38,
    "_isFastLaunch": false,
    "category": "Accelerated computing",
    "gpuNum": 8,
    "hideHardwareSpecs": false,
    "memoryGiB": 768,
    "name": "ml.p3dn.24xlarge",
    "vcpuNum": 96
   },
   {
    "_defaultOrder": 39,
    "_isFastLaunch": false,
    "category": "Memory Optimized",
    "gpuNum": 0,
    "hideHardwareSpecs": false,
    "memoryGiB": 16,
    "name": "ml.r5.large",
    "vcpuNum": 2
   },
   {
    "_defaultOrder": 40,
    "_isFastLaunch": false,
    "category": "Memory Optimized",
    "gpuNum": 0,
    "hideHardwareSpecs": false,
    "memoryGiB": 32,
    "name": "ml.r5.xlarge",
    "vcpuNum": 4
   },
   {
    "_defaultOrder": 41,
    "_isFastLaunch": false,
    "category": "Memory Optimized",
    "gpuNum": 0,
    "hideHardwareSpecs": false,
    "memoryGiB": 64,
    "name": "ml.r5.2xlarge",
    "vcpuNum": 8
   },
   {
    "_defaultOrder": 42,
    "_isFastLaunch": false,
    "category": "Memory Optimized",
    "gpuNum": 0,
    "hideHardwareSpecs": false,
    "memoryGiB": 128,
    "name": "ml.r5.4xlarge",
    "vcpuNum": 16
   },
   {
    "_defaultOrder": 43,
    "_isFastLaunch": false,
    "category": "Memory Optimized",
    "gpuNum": 0,
    "hideHardwareSpecs": false,
    "memoryGiB": 256,
    "name": "ml.r5.8xlarge",
    "vcpuNum": 32
   },
   {
    "_defaultOrder": 44,
    "_isFastLaunch": false,
    "category": "Memory Optimized",
    "gpuNum": 0,
    "hideHardwareSpecs": false,
    "memoryGiB": 384,
    "name": "ml.r5.12xlarge",
    "vcpuNum": 48
   },
   {
    "_defaultOrder": 45,
    "_isFastLaunch": false,
    "category": "Memory Optimized",
    "gpuNum": 0,
    "hideHardwareSpecs": false,
    "memoryGiB": 512,
    "name": "ml.r5.16xlarge",
    "vcpuNum": 64
   },
   {
    "_defaultOrder": 46,
    "_isFastLaunch": false,
    "category": "Memory Optimized",
    "gpuNum": 0,
    "hideHardwareSpecs": false,
    "memoryGiB": 768,
    "name": "ml.r5.24xlarge",
    "vcpuNum": 96
   },
   {
    "_defaultOrder": 47,
    "_isFastLaunch": false,
    "category": "Accelerated computing",
    "gpuNum": 1,
    "hideHardwareSpecs": false,
    "memoryGiB": 16,
    "name": "ml.g5.xlarge",
    "vcpuNum": 4
   },
   {
    "_defaultOrder": 48,
    "_isFastLaunch": false,
    "category": "Accelerated computing",
    "gpuNum": 1,
    "hideHardwareSpecs": false,
    "memoryGiB": 32,
    "name": "ml.g5.2xlarge",
    "vcpuNum": 8
   },
   {
    "_defaultOrder": 49,
    "_isFastLaunch": false,
    "category": "Accelerated computing",
    "gpuNum": 1,
    "hideHardwareSpecs": false,
    "memoryGiB": 64,
    "name": "ml.g5.4xlarge",
    "vcpuNum": 16
   },
   {
    "_defaultOrder": 50,
    "_isFastLaunch": false,
    "category": "Accelerated computing",
    "gpuNum": 1,
    "hideHardwareSpecs": false,
    "memoryGiB": 128,
    "name": "ml.g5.8xlarge",
    "vcpuNum": 32
   },
   {
    "_defaultOrder": 51,
    "_isFastLaunch": false,
    "category": "Accelerated computing",
    "gpuNum": 1,
    "hideHardwareSpecs": false,
    "memoryGiB": 256,
    "name": "ml.g5.16xlarge",
    "vcpuNum": 64
   },
   {
    "_defaultOrder": 52,
    "_isFastLaunch": false,
    "category": "Accelerated computing",
    "gpuNum": 4,
    "hideHardwareSpecs": false,
    "memoryGiB": 192,
    "name": "ml.g5.12xlarge",
    "vcpuNum": 48
   },
   {
    "_defaultOrder": 53,
    "_isFastLaunch": false,
    "category": "Accelerated computing",
    "gpuNum": 4,
    "hideHardwareSpecs": false,
    "memoryGiB": 384,
    "name": "ml.g5.24xlarge",
    "vcpuNum": 96
   },
   {
    "_defaultOrder": 54,
    "_isFastLaunch": false,
    "category": "Accelerated computing",
    "gpuNum": 8,
    "hideHardwareSpecs": false,
    "memoryGiB": 768,
    "name": "ml.g5.48xlarge",
    "vcpuNum": 192
   },
   {
    "_defaultOrder": 55,
    "_isFastLaunch": false,
    "category": "Accelerated computing",
    "gpuNum": 8,
    "hideHardwareSpecs": false,
    "memoryGiB": 1152,
    "name": "ml.p4d.24xlarge",
    "vcpuNum": 96
   },
   {
    "_defaultOrder": 56,
    "_isFastLaunch": false,
    "category": "Accelerated computing",
    "gpuNum": 8,
    "hideHardwareSpecs": false,
    "memoryGiB": 1152,
    "name": "ml.p4de.24xlarge",
    "vcpuNum": 96
   }
  ],
  "instance_type": "ml.t3.medium",
  "kernelspec": {
   "display_name": "Python 3 (Data Science 3.0)",
   "language": "python",
   "name": "python3__SAGEMAKER_INTERNAL__arn:aws:sagemaker:eu-north-1:243637512696:image/sagemaker-data-science-310-v1"
  },
  "language_info": {
   "codemirror_mode": {
    "name": "ipython",
    "version": 3
   },
   "file_extension": ".py",
   "mimetype": "text/x-python",
   "name": "python",
   "nbconvert_exporter": "python",
   "pygments_lexer": "ipython3",
   "version": "3.10.6"
  }
 },
 "nbformat": 4,
 "nbformat_minor": 5
}
