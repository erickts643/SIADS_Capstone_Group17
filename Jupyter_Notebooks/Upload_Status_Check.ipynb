{
 "cells": [
  {
   "cell_type": "code",
   "execution_count": 2,
   "id": "5a039cfe-9f1f-4f5e-81db-470b5bf76235",
   "metadata": {},
   "outputs": [],
   "source": [
    "import psycopg2\n",
    "import time\n",
    "import boto3\n",
    "import copy\n",
    "import gc"
   ]
  },
  {
   "cell_type": "code",
   "execution_count": 4,
   "id": "da648599-50c9-4d32-97c1-23e925b732bd",
   "metadata": {},
   "outputs": [],
   "source": [
    "db_connection = psycopg2.connect(\n",
    "            user='USER_STRING_HERE', password='PW_STRING_HERE', # Credentials removed for Git\n",
    "            host='mads-capstone.cmohac77hep9.eu-north-1.rds.amazonaws.com', port=5432,\n",
    "            database=\"mads\"\n",
    "        )\n",
    "\n",
    "db_connection.autocommit = True\n",
    "\n",
    "cursor = db_connection.cursor()"
   ]
  },
  {
   "cell_type": "code",
   "execution_count": 4,
   "id": "ad9cbb22-8065-4374-8f66-9c58f22397bf",
   "metadata": {
    "tags": []
   },
   "outputs": [],
   "source": [
    "#select_query = \"SELECT count(*) FROM greeks\"\n",
    "\n",
    "#cursor.execute(select_query)\n",
    "#rows = cursor.fetchall()\n",
    "#print(rows)"
   ]
  },
  {
   "cell_type": "code",
   "execution_count": 6,
   "id": "35bebb68-720c-4637-85dc-e242726db36a",
   "metadata": {},
   "outputs": [],
   "source": [
    "#delete_query = \"DROP TABLE greeks2\"\n",
    "#cursor.execute(delete_query)"
   ]
  },
  {
   "cell_type": "code",
   "execution_count": 5,
   "id": "aafd45de-b56b-46a1-917a-dd07d88ed7b9",
   "metadata": {},
   "outputs": [
    {
     "data": {
      "text/html": [
       "<div>\n",
       "<style scoped>\n",
       "    .dataframe tbody tr th:only-of-type {\n",
       "        vertical-align: middle;\n",
       "    }\n",
       "\n",
       "    .dataframe tbody tr th {\n",
       "        vertical-align: top;\n",
       "    }\n",
       "\n",
       "    .dataframe thead th {\n",
       "        text-align: right;\n",
       "    }\n",
       "</style>\n",
       "<table border=\"1\" class=\"dataframe\">\n",
       "  <thead>\n",
       "    <tr style=\"text-align: right;\">\n",
       "      <th></th>\n",
       "      <th>date</th>\n",
       "      <th>increment</th>\n",
       "      <th>value</th>\n",
       "      <th>ticker</th>\n",
       "      <th>greek</th>\n",
       "      <th>option_type</th>\n",
       "    </tr>\n",
       "  </thead>\n",
       "  <tbody>\n",
       "    <tr>\n",
       "      <th>0</th>\n",
       "      <td>2014-01-15 00:00:00</td>\n",
       "      <td>360</td>\n",
       "      <td>0.4762</td>\n",
       "      <td>LXU</td>\n",
       "      <td>iv</td>\n",
       "      <td>call</td>\n",
       "    </tr>\n",
       "    <tr>\n",
       "      <th>1</th>\n",
       "      <td>2014-01-15 00:00:00</td>\n",
       "      <td>360</td>\n",
       "      <td>0.5087</td>\n",
       "      <td>LXU</td>\n",
       "      <td>iv</td>\n",
       "      <td>put</td>\n",
       "    </tr>\n",
       "    <tr>\n",
       "      <th>2</th>\n",
       "      <td>2014-01-15 00:00:00</td>\n",
       "      <td>360</td>\n",
       "      <td>0.4805</td>\n",
       "      <td>LXU</td>\n",
       "      <td>iv</td>\n",
       "      <td>all</td>\n",
       "    </tr>\n",
       "    <tr>\n",
       "      <th>3</th>\n",
       "      <td>2014-01-15 00:00:00</td>\n",
       "      <td>360</td>\n",
       "      <td>3702.6400</td>\n",
       "      <td>LXU</td>\n",
       "      <td>gamma</td>\n",
       "      <td>call</td>\n",
       "    </tr>\n",
       "    <tr>\n",
       "      <th>4</th>\n",
       "      <td>2014-01-15 00:00:00</td>\n",
       "      <td>360</td>\n",
       "      <td>-420.8000</td>\n",
       "      <td>LXU</td>\n",
       "      <td>gamma</td>\n",
       "      <td>put</td>\n",
       "    </tr>\n",
       "  </tbody>\n",
       "</table>\n",
       "</div>"
      ],
      "text/plain": [
       "                  date  increment      value ticker  greek option_type\n",
       "0  2014-01-15 00:00:00        360     0.4762    LXU     iv        call\n",
       "1  2014-01-15 00:00:00        360     0.5087    LXU     iv         put\n",
       "2  2014-01-15 00:00:00        360     0.4805    LXU     iv         all\n",
       "3  2014-01-15 00:00:00        360  3702.6400    LXU  gamma        call\n",
       "4  2014-01-15 00:00:00        360  -420.8000    LXU  gamma         put"
      ]
     },
     "execution_count": 5,
     "metadata": {},
     "output_type": "execute_result"
    }
   ],
   "source": [
    "import pandas as pd\n",
    "\n",
    "bucket = 'mads-capstone-2023' \n",
    "data_key = 'greeks2.csv' \n",
    "greeks_csv = 's3://{}/{}'.format(bucket, data_key) \n",
    "\n",
    "greeks_df = pd.read_csv(greeks_csv, nrows=5) ## Reading only 5 rows to check dataset format.\n",
    "\n",
    "greeks_df"
   ]
  },
  {
   "cell_type": "code",
   "execution_count": 7,
   "id": "0a365a70-8cba-4d62-a203-46a4a3be718b",
   "metadata": {},
   "outputs": [],
   "source": [
    "query = '''CREATE TABLE greeks3 (id SERIAL PRIMARY KEY,  \n",
    "                                exec_date date,\n",
    "                                increment SMALLINT,\n",
    "                                opt_value float,\n",
    "                                ticker VARCHAR(8),\n",
    "                                greek VARCHAR(16),\n",
    "                                option_type VARCHAR(8))'''\n",
    "\n",
    "\n",
    "cursor.execute(query)"
   ]
  },
  {
   "cell_type": "code",
   "execution_count": 74,
   "id": "a0e60137-7a77-4d5d-8fdd-165daf570894",
   "metadata": {},
   "outputs": [
    {
     "data": {
      "text/plain": [
       "'s3://mads-capstone-2023/greeks2.csv'"
      ]
     },
     "execution_count": 74,
     "metadata": {},
     "output_type": "execute_result"
    }
   ],
   "source": [
    "greeks_csv"
   ]
  },
  {
   "cell_type": "markdown",
   "id": "5dce4b9e-6d68-43d6-81c8-6cb46e80c9ef",
   "metadata": {
    "tags": []
   },
   "source": [
    "%%time\n",
    "\n",
    "copy_query = \"COPY greeks2 (exec_date, increment, opt_value, ticker, greek, option_type) FROM 's3://mads-capstone-2023/greeks2.csv' WITH CSV\"\n",
    "\n",
    "cursor.execute(long_query)"
   ]
  },
  {
   "cell_type": "code",
   "execution_count": null,
   "id": "a876fe1b-e634-40ba-8447-f75eba67156a",
   "metadata": {
    "tags": []
   },
   "outputs": [],
   "source": [
    "%%time\n",
    "\n",
    "bucket = 'mads-capstone-2023' \n",
    "data_key = 'greeks2.csv' \n",
    "\n",
    "s3_client = boto3.client('s3')\n",
    "obj = s3_client.get_object(Bucket=bucket, Key=data_key)\n",
    "\n",
    "insert_query = \"INSERT INTO greeks3 (exec_date, increment, opt_value, ticker, greek, option_type) values ('{}',{},{},'{}','{}','{}');\"\n",
    "\n",
    "long_query = \"\"\n",
    "\n",
    "for i, row in enumerate(obj[\"Body\"].iter_lines()):\n",
    "    if i == 0:\n",
    "        continue\n",
    "    #if i<=18100000: ## First Run failed at 18.1 Mn records. Condition to skip records till last fail count.\n",
    "    #    if (i%1_000_000) ==0:\n",
    "    #        print(f\"{i} Records Passed.\")\n",
    "    #    continue\n",
    "    try:\n",
    "        row_data = row.decode().split(\",\")\n",
    "        dt, incr, opt_value, ticker, greek, opt_type = row_data\n",
    "        dt = dt.split()[0]\n",
    "        incr = int(incr) if incr else \"NULL\"\n",
    "        opt_value = float(opt_value) if opt_value else \"NULL\"\n",
    "    except Exception as e:\n",
    "        print(e)\n",
    "        print(f\"{i} - {row_data} Failed Parsing.\")\n",
    "        continue\n",
    "        \n",
    "    query = insert_query.format(dt,incr,opt_value,ticker,greek,opt_type)\n",
    "    long_query += copy.copy(query + \"\\n\")\n",
    "    #print(query)\n",
    "    if (i%100_000)==0: ## Batching 100k records and uploading all at once.\n",
    "        cursor.execute(long_query)\n",
    "        long_query = \"\"\n",
    "        gc.collect();\n",
    "        if (i%1_000_000) == 0:\n",
    "            print(f\"{i} Records Inserted\")\n",
    "        \n",
    "\n",
    "if long_query:\n",
    "    cursor.execute(long_query)"
   ]
  },
  {
   "cell_type": "code",
   "execution_count": 29,
   "id": "083982cd-c412-44f9-861c-c9241772786f",
   "metadata": {},
   "outputs": [
    {
     "data": {
      "text/plain": [
       "[(3400000,)]"
      ]
     },
     "execution_count": 29,
     "metadata": {},
     "output_type": "execute_result"
    }
   ],
   "source": [
    "import pandas as pd\n",
    "\n",
    "select_query = \"SELECT count(*) FROM greeks4\"\n",
    "\n",
    "cursor.execute(select_query)\n",
    "\n",
    "cursor.fetchall()"
   ]
  },
  {
   "cell_type": "code",
   "execution_count": 5,
   "id": "17d72785-8f1e-4c88-b021-d5cf856863d6",
   "metadata": {},
   "outputs": [
    {
     "name": "stdout",
     "output_type": "stream",
     "text": [
      "(560000, 7)\n"
     ]
    },
    {
     "data": {
      "text/html": [
       "<div>\n",
       "<style scoped>\n",
       "    .dataframe tbody tr th:only-of-type {\n",
       "        vertical-align: middle;\n",
       "    }\n",
       "\n",
       "    .dataframe tbody tr th {\n",
       "        vertical-align: top;\n",
       "    }\n",
       "\n",
       "    .dataframe thead th {\n",
       "        text-align: right;\n",
       "    }\n",
       "</style>\n",
       "<table border=\"1\" class=\"dataframe\">\n",
       "  <thead>\n",
       "    <tr style=\"text-align: right;\">\n",
       "      <th></th>\n",
       "      <th>ID</th>\n",
       "      <th>DATE</th>\n",
       "      <th>INCREMENT</th>\n",
       "      <th>VALUE</th>\n",
       "      <th>TICKER</th>\n",
       "      <th>GREEK</th>\n",
       "      <th>OPTION_TYPE</th>\n",
       "    </tr>\n",
       "  </thead>\n",
       "  <tbody>\n",
       "    <tr>\n",
       "      <th>0</th>\n",
       "      <td>1</td>\n",
       "      <td>2016-08-05</td>\n",
       "      <td>90</td>\n",
       "      <td>-236788.1100</td>\n",
       "      <td>HSY</td>\n",
       "      <td>zomma</td>\n",
       "      <td>all</td>\n",
       "    </tr>\n",
       "    <tr>\n",
       "      <th>1</th>\n",
       "      <td>2</td>\n",
       "      <td>2016-08-05</td>\n",
       "      <td>90</td>\n",
       "      <td>-498.3700</td>\n",
       "      <td>HSY</td>\n",
       "      <td>speed</td>\n",
       "      <td>call</td>\n",
       "    </tr>\n",
       "    <tr>\n",
       "      <th>2</th>\n",
       "      <td>3</td>\n",
       "      <td>2016-08-05</td>\n",
       "      <td>90</td>\n",
       "      <td>1985.0000</td>\n",
       "      <td>HSY</td>\n",
       "      <td>speed</td>\n",
       "      <td>put</td>\n",
       "    </tr>\n",
       "    <tr>\n",
       "      <th>3</th>\n",
       "      <td>4</td>\n",
       "      <td>2016-08-05</td>\n",
       "      <td>90</td>\n",
       "      <td>1486.6300</td>\n",
       "      <td>HSY</td>\n",
       "      <td>speed</td>\n",
       "      <td>all</td>\n",
       "    </tr>\n",
       "    <tr>\n",
       "      <th>4</th>\n",
       "      <td>5</td>\n",
       "      <td>2016-08-05</td>\n",
       "      <td>90</td>\n",
       "      <td>-595016.0600</td>\n",
       "      <td>HSY</td>\n",
       "      <td>color</td>\n",
       "      <td>call</td>\n",
       "    </tr>\n",
       "    <tr>\n",
       "      <th>...</th>\n",
       "      <td>...</td>\n",
       "      <td>...</td>\n",
       "      <td>...</td>\n",
       "      <td>...</td>\n",
       "      <td>...</td>\n",
       "      <td>...</td>\n",
       "      <td>...</td>\n",
       "    </tr>\n",
       "    <tr>\n",
       "      <th>559995</th>\n",
       "      <td>559996</td>\n",
       "      <td>2016-08-09</td>\n",
       "      <td>0</td>\n",
       "      <td>0.5808</td>\n",
       "      <td>AMSC</td>\n",
       "      <td>iv</td>\n",
       "      <td>put</td>\n",
       "    </tr>\n",
       "    <tr>\n",
       "      <th>559996</th>\n",
       "      <td>559997</td>\n",
       "      <td>2016-08-09</td>\n",
       "      <td>0</td>\n",
       "      <td>0.5836</td>\n",
       "      <td>AMSC</td>\n",
       "      <td>iv</td>\n",
       "      <td>all</td>\n",
       "    </tr>\n",
       "    <tr>\n",
       "      <th>559997</th>\n",
       "      <td>559998</td>\n",
       "      <td>2016-08-09</td>\n",
       "      <td>0</td>\n",
       "      <td>654.7200</td>\n",
       "      <td>AMSC</td>\n",
       "      <td>delta</td>\n",
       "      <td>call</td>\n",
       "    </tr>\n",
       "    <tr>\n",
       "      <th>559998</th>\n",
       "      <td>559999</td>\n",
       "      <td>2016-08-09</td>\n",
       "      <td>0</td>\n",
       "      <td>6474.2000</td>\n",
       "      <td>AMSC</td>\n",
       "      <td>delta</td>\n",
       "      <td>put</td>\n",
       "    </tr>\n",
       "    <tr>\n",
       "      <th>559999</th>\n",
       "      <td>560000</td>\n",
       "      <td>2016-08-09</td>\n",
       "      <td>0</td>\n",
       "      <td>7128.9200</td>\n",
       "      <td>AMSC</td>\n",
       "      <td>delta</td>\n",
       "      <td>all</td>\n",
       "    </tr>\n",
       "  </tbody>\n",
       "</table>\n",
       "<p>560000 rows × 7 columns</p>\n",
       "</div>"
      ],
      "text/plain": [
       "            ID        DATE  INCREMENT        VALUE TICKER  GREEK OPTION_TYPE\n",
       "0            1  2016-08-05         90 -236788.1100    HSY  zomma         all\n",
       "1            2  2016-08-05         90    -498.3700    HSY  speed        call\n",
       "2            3  2016-08-05         90    1985.0000    HSY  speed         put\n",
       "3            4  2016-08-05         90    1486.6300    HSY  speed         all\n",
       "4            5  2016-08-05         90 -595016.0600    HSY  color        call\n",
       "...        ...         ...        ...          ...    ...    ...         ...\n",
       "559995  559996  2016-08-09          0       0.5808   AMSC     iv         put\n",
       "559996  559997  2016-08-09          0       0.5836   AMSC     iv         all\n",
       "559997  559998  2016-08-09          0     654.7200   AMSC  delta        call\n",
       "559998  559999  2016-08-09          0    6474.2000   AMSC  delta         put\n",
       "559999  560000  2016-08-09          0    7128.9200   AMSC  delta         all\n",
       "\n",
       "[560000 rows x 7 columns]"
      ]
     },
     "execution_count": 5,
     "metadata": {},
     "output_type": "execute_result"
    }
   ],
   "source": [
    "import pandas as pd\n",
    "\n",
    "select_query = \"SELECT * FROM greeks2\"\n",
    "\n",
    "cursor.execute(select_query)\n",
    "\n",
    "rows = cursor.fetchall()\n",
    "records = []\n",
    "for row in rows:\n",
    "    records.append([row[0], row[1],row[2], row[3], row[4], row[5], row[6]])\n",
    "    \n",
    "df = pd.DataFrame(records, columns=[\"ID\", \"DATE\", \"INCREMENT\", \"VALUE\", \"TICKER\", \"GREEK\", \"OPTION_TYPE\"])\n",
    "\n",
    "print(df.shape)\n",
    "\n",
    "df"
   ]
  },
  {
   "cell_type": "code",
   "execution_count": 45,
   "id": "2930360a-10b3-4409-a99c-95cd8d27eae0",
   "metadata": {},
   "outputs": [],
   "source": [
    "cursor.execute(\"DROP TABLE greeks2;\")"
   ]
  },
  {
   "cell_type": "code",
   "execution_count": null,
   "id": "1e3a66a1-0579-4234-82f2-259d7cd614d3",
   "metadata": {},
   "outputs": [],
   "source": [
    "db_connection.close()"
   ]
  }
 ],
 "metadata": {
  "availableInstances": [
   {
    "_defaultOrder": 0,
    "_isFastLaunch": true,
    "category": "General purpose",
    "gpuNum": 0,
    "hideHardwareSpecs": false,
    "memoryGiB": 4,
    "name": "ml.t3.medium",
    "vcpuNum": 2
   },
   {
    "_defaultOrder": 1,
    "_isFastLaunch": false,
    "category": "General purpose",
    "gpuNum": 0,
    "hideHardwareSpecs": false,
    "memoryGiB": 8,
    "name": "ml.t3.large",
    "vcpuNum": 2
   },
   {
    "_defaultOrder": 2,
    "_isFastLaunch": false,
    "category": "General purpose",
    "gpuNum": 0,
    "hideHardwareSpecs": false,
    "memoryGiB": 16,
    "name": "ml.t3.xlarge",
    "vcpuNum": 4
   },
   {
    "_defaultOrder": 3,
    "_isFastLaunch": false,
    "category": "General purpose",
    "gpuNum": 0,
    "hideHardwareSpecs": false,
    "memoryGiB": 32,
    "name": "ml.t3.2xlarge",
    "vcpuNum": 8
   },
   {
    "_defaultOrder": 4,
    "_isFastLaunch": true,
    "category": "General purpose",
    "gpuNum": 0,
    "hideHardwareSpecs": false,
    "memoryGiB": 8,
    "name": "ml.m5.large",
    "vcpuNum": 2
   },
   {
    "_defaultOrder": 5,
    "_isFastLaunch": false,
    "category": "General purpose",
    "gpuNum": 0,
    "hideHardwareSpecs": false,
    "memoryGiB": 16,
    "name": "ml.m5.xlarge",
    "vcpuNum": 4
   },
   {
    "_defaultOrder": 6,
    "_isFastLaunch": false,
    "category": "General purpose",
    "gpuNum": 0,
    "hideHardwareSpecs": false,
    "memoryGiB": 32,
    "name": "ml.m5.2xlarge",
    "vcpuNum": 8
   },
   {
    "_defaultOrder": 7,
    "_isFastLaunch": false,
    "category": "General purpose",
    "gpuNum": 0,
    "hideHardwareSpecs": false,
    "memoryGiB": 64,
    "name": "ml.m5.4xlarge",
    "vcpuNum": 16
   },
   {
    "_defaultOrder": 8,
    "_isFastLaunch": false,
    "category": "General purpose",
    "gpuNum": 0,
    "hideHardwareSpecs": false,
    "memoryGiB": 128,
    "name": "ml.m5.8xlarge",
    "vcpuNum": 32
   },
   {
    "_defaultOrder": 9,
    "_isFastLaunch": false,
    "category": "General purpose",
    "gpuNum": 0,
    "hideHardwareSpecs": false,
    "memoryGiB": 192,
    "name": "ml.m5.12xlarge",
    "vcpuNum": 48
   },
   {
    "_defaultOrder": 10,
    "_isFastLaunch": false,
    "category": "General purpose",
    "gpuNum": 0,
    "hideHardwareSpecs": false,
    "memoryGiB": 256,
    "name": "ml.m5.16xlarge",
    "vcpuNum": 64
   },
   {
    "_defaultOrder": 11,
    "_isFastLaunch": false,
    "category": "General purpose",
    "gpuNum": 0,
    "hideHardwareSpecs": false,
    "memoryGiB": 384,
    "name": "ml.m5.24xlarge",
    "vcpuNum": 96
   },
   {
    "_defaultOrder": 12,
    "_isFastLaunch": false,
    "category": "General purpose",
    "gpuNum": 0,
    "hideHardwareSpecs": false,
    "memoryGiB": 8,
    "name": "ml.m5d.large",
    "vcpuNum": 2
   },
   {
    "_defaultOrder": 13,
    "_isFastLaunch": false,
    "category": "General purpose",
    "gpuNum": 0,
    "hideHardwareSpecs": false,
    "memoryGiB": 16,
    "name": "ml.m5d.xlarge",
    "vcpuNum": 4
   },
   {
    "_defaultOrder": 14,
    "_isFastLaunch": false,
    "category": "General purpose",
    "gpuNum": 0,
    "hideHardwareSpecs": false,
    "memoryGiB": 32,
    "name": "ml.m5d.2xlarge",
    "vcpuNum": 8
   },
   {
    "_defaultOrder": 15,
    "_isFastLaunch": false,
    "category": "General purpose",
    "gpuNum": 0,
    "hideHardwareSpecs": false,
    "memoryGiB": 64,
    "name": "ml.m5d.4xlarge",
    "vcpuNum": 16
   },
   {
    "_defaultOrder": 16,
    "_isFastLaunch": false,
    "category": "General purpose",
    "gpuNum": 0,
    "hideHardwareSpecs": false,
    "memoryGiB": 128,
    "name": "ml.m5d.8xlarge",
    "vcpuNum": 32
   },
   {
    "_defaultOrder": 17,
    "_isFastLaunch": false,
    "category": "General purpose",
    "gpuNum": 0,
    "hideHardwareSpecs": false,
    "memoryGiB": 192,
    "name": "ml.m5d.12xlarge",
    "vcpuNum": 48
   },
   {
    "_defaultOrder": 18,
    "_isFastLaunch": false,
    "category": "General purpose",
    "gpuNum": 0,
    "hideHardwareSpecs": false,
    "memoryGiB": 256,
    "name": "ml.m5d.16xlarge",
    "vcpuNum": 64
   },
   {
    "_defaultOrder": 19,
    "_isFastLaunch": false,
    "category": "General purpose",
    "gpuNum": 0,
    "hideHardwareSpecs": false,
    "memoryGiB": 384,
    "name": "ml.m5d.24xlarge",
    "vcpuNum": 96
   },
   {
    "_defaultOrder": 20,
    "_isFastLaunch": false,
    "category": "General purpose",
    "gpuNum": 0,
    "hideHardwareSpecs": true,
    "memoryGiB": 0,
    "name": "ml.geospatial.interactive",
    "supportedImageNames": [
     "sagemaker-geospatial-v1-0"
    ],
    "vcpuNum": 0
   },
   {
    "_defaultOrder": 21,
    "_isFastLaunch": true,
    "category": "Compute optimized",
    "gpuNum": 0,
    "hideHardwareSpecs": false,
    "memoryGiB": 4,
    "name": "ml.c5.large",
    "vcpuNum": 2
   },
   {
    "_defaultOrder": 22,
    "_isFastLaunch": false,
    "category": "Compute optimized",
    "gpuNum": 0,
    "hideHardwareSpecs": false,
    "memoryGiB": 8,
    "name": "ml.c5.xlarge",
    "vcpuNum": 4
   },
   {
    "_defaultOrder": 23,
    "_isFastLaunch": false,
    "category": "Compute optimized",
    "gpuNum": 0,
    "hideHardwareSpecs": false,
    "memoryGiB": 16,
    "name": "ml.c5.2xlarge",
    "vcpuNum": 8
   },
   {
    "_defaultOrder": 24,
    "_isFastLaunch": false,
    "category": "Compute optimized",
    "gpuNum": 0,
    "hideHardwareSpecs": false,
    "memoryGiB": 32,
    "name": "ml.c5.4xlarge",
    "vcpuNum": 16
   },
   {
    "_defaultOrder": 25,
    "_isFastLaunch": false,
    "category": "Compute optimized",
    "gpuNum": 0,
    "hideHardwareSpecs": false,
    "memoryGiB": 72,
    "name": "ml.c5.9xlarge",
    "vcpuNum": 36
   },
   {
    "_defaultOrder": 26,
    "_isFastLaunch": false,
    "category": "Compute optimized",
    "gpuNum": 0,
    "hideHardwareSpecs": false,
    "memoryGiB": 96,
    "name": "ml.c5.12xlarge",
    "vcpuNum": 48
   },
   {
    "_defaultOrder": 27,
    "_isFastLaunch": false,
    "category": "Compute optimized",
    "gpuNum": 0,
    "hideHardwareSpecs": false,
    "memoryGiB": 144,
    "name": "ml.c5.18xlarge",
    "vcpuNum": 72
   },
   {
    "_defaultOrder": 28,
    "_isFastLaunch": false,
    "category": "Compute optimized",
    "gpuNum": 0,
    "hideHardwareSpecs": false,
    "memoryGiB": 192,
    "name": "ml.c5.24xlarge",
    "vcpuNum": 96
   },
   {
    "_defaultOrder": 29,
    "_isFastLaunch": true,
    "category": "Accelerated computing",
    "gpuNum": 1,
    "hideHardwareSpecs": false,
    "memoryGiB": 16,
    "name": "ml.g4dn.xlarge",
    "vcpuNum": 4
   },
   {
    "_defaultOrder": 30,
    "_isFastLaunch": false,
    "category": "Accelerated computing",
    "gpuNum": 1,
    "hideHardwareSpecs": false,
    "memoryGiB": 32,
    "name": "ml.g4dn.2xlarge",
    "vcpuNum": 8
   },
   {
    "_defaultOrder": 31,
    "_isFastLaunch": false,
    "category": "Accelerated computing",
    "gpuNum": 1,
    "hideHardwareSpecs": false,
    "memoryGiB": 64,
    "name": "ml.g4dn.4xlarge",
    "vcpuNum": 16
   },
   {
    "_defaultOrder": 32,
    "_isFastLaunch": false,
    "category": "Accelerated computing",
    "gpuNum": 1,
    "hideHardwareSpecs": false,
    "memoryGiB": 128,
    "name": "ml.g4dn.8xlarge",
    "vcpuNum": 32
   },
   {
    "_defaultOrder": 33,
    "_isFastLaunch": false,
    "category": "Accelerated computing",
    "gpuNum": 4,
    "hideHardwareSpecs": false,
    "memoryGiB": 192,
    "name": "ml.g4dn.12xlarge",
    "vcpuNum": 48
   },
   {
    "_defaultOrder": 34,
    "_isFastLaunch": false,
    "category": "Accelerated computing",
    "gpuNum": 1,
    "hideHardwareSpecs": false,
    "memoryGiB": 256,
    "name": "ml.g4dn.16xlarge",
    "vcpuNum": 64
   },
   {
    "_defaultOrder": 35,
    "_isFastLaunch": false,
    "category": "Accelerated computing",
    "gpuNum": 1,
    "hideHardwareSpecs": false,
    "memoryGiB": 61,
    "name": "ml.p3.2xlarge",
    "vcpuNum": 8
   },
   {
    "_defaultOrder": 36,
    "_isFastLaunch": false,
    "category": "Accelerated computing",
    "gpuNum": 4,
    "hideHardwareSpecs": false,
    "memoryGiB": 244,
    "name": "ml.p3.8xlarge",
    "vcpuNum": 32
   },
   {
    "_defaultOrder": 37,
    "_isFastLaunch": false,
    "category": "Accelerated computing",
    "gpuNum": 8,
    "hideHardwareSpecs": false,
    "memoryGiB": 488,
    "name": "ml.p3.16xlarge",
    "vcpuNum": 64
   },
   {
    "_defaultOrder": 38,
    "_isFastLaunch": false,
    "category": "Accelerated computing",
    "gpuNum": 8,
    "hideHardwareSpecs": false,
    "memoryGiB": 768,
    "name": "ml.p3dn.24xlarge",
    "vcpuNum": 96
   },
   {
    "_defaultOrder": 39,
    "_isFastLaunch": false,
    "category": "Memory Optimized",
    "gpuNum": 0,
    "hideHardwareSpecs": false,
    "memoryGiB": 16,
    "name": "ml.r5.large",
    "vcpuNum": 2
   },
   {
    "_defaultOrder": 40,
    "_isFastLaunch": false,
    "category": "Memory Optimized",
    "gpuNum": 0,
    "hideHardwareSpecs": false,
    "memoryGiB": 32,
    "name": "ml.r5.xlarge",
    "vcpuNum": 4
   },
   {
    "_defaultOrder": 41,
    "_isFastLaunch": false,
    "category": "Memory Optimized",
    "gpuNum": 0,
    "hideHardwareSpecs": false,
    "memoryGiB": 64,
    "name": "ml.r5.2xlarge",
    "vcpuNum": 8
   },
   {
    "_defaultOrder": 42,
    "_isFastLaunch": false,
    "category": "Memory Optimized",
    "gpuNum": 0,
    "hideHardwareSpecs": false,
    "memoryGiB": 128,
    "name": "ml.r5.4xlarge",
    "vcpuNum": 16
   },
   {
    "_defaultOrder": 43,
    "_isFastLaunch": false,
    "category": "Memory Optimized",
    "gpuNum": 0,
    "hideHardwareSpecs": false,
    "memoryGiB": 256,
    "name": "ml.r5.8xlarge",
    "vcpuNum": 32
   },
   {
    "_defaultOrder": 44,
    "_isFastLaunch": false,
    "category": "Memory Optimized",
    "gpuNum": 0,
    "hideHardwareSpecs": false,
    "memoryGiB": 384,
    "name": "ml.r5.12xlarge",
    "vcpuNum": 48
   },
   {
    "_defaultOrder": 45,
    "_isFastLaunch": false,
    "category": "Memory Optimized",
    "gpuNum": 0,
    "hideHardwareSpecs": false,
    "memoryGiB": 512,
    "name": "ml.r5.16xlarge",
    "vcpuNum": 64
   },
   {
    "_defaultOrder": 46,
    "_isFastLaunch": false,
    "category": "Memory Optimized",
    "gpuNum": 0,
    "hideHardwareSpecs": false,
    "memoryGiB": 768,
    "name": "ml.r5.24xlarge",
    "vcpuNum": 96
   },
   {
    "_defaultOrder": 47,
    "_isFastLaunch": false,
    "category": "Accelerated computing",
    "gpuNum": 1,
    "hideHardwareSpecs": false,
    "memoryGiB": 16,
    "name": "ml.g5.xlarge",
    "vcpuNum": 4
   },
   {
    "_defaultOrder": 48,
    "_isFastLaunch": false,
    "category": "Accelerated computing",
    "gpuNum": 1,
    "hideHardwareSpecs": false,
    "memoryGiB": 32,
    "name": "ml.g5.2xlarge",
    "vcpuNum": 8
   },
   {
    "_defaultOrder": 49,
    "_isFastLaunch": false,
    "category": "Accelerated computing",
    "gpuNum": 1,
    "hideHardwareSpecs": false,
    "memoryGiB": 64,
    "name": "ml.g5.4xlarge",
    "vcpuNum": 16
   },
   {
    "_defaultOrder": 50,
    "_isFastLaunch": false,
    "category": "Accelerated computing",
    "gpuNum": 1,
    "hideHardwareSpecs": false,
    "memoryGiB": 128,
    "name": "ml.g5.8xlarge",
    "vcpuNum": 32
   },
   {
    "_defaultOrder": 51,
    "_isFastLaunch": false,
    "category": "Accelerated computing",
    "gpuNum": 1,
    "hideHardwareSpecs": false,
    "memoryGiB": 256,
    "name": "ml.g5.16xlarge",
    "vcpuNum": 64
   },
   {
    "_defaultOrder": 52,
    "_isFastLaunch": false,
    "category": "Accelerated computing",
    "gpuNum": 4,
    "hideHardwareSpecs": false,
    "memoryGiB": 192,
    "name": "ml.g5.12xlarge",
    "vcpuNum": 48
   },
   {
    "_defaultOrder": 53,
    "_isFastLaunch": false,
    "category": "Accelerated computing",
    "gpuNum": 4,
    "hideHardwareSpecs": false,
    "memoryGiB": 384,
    "name": "ml.g5.24xlarge",
    "vcpuNum": 96
   },
   {
    "_defaultOrder": 54,
    "_isFastLaunch": false,
    "category": "Accelerated computing",
    "gpuNum": 8,
    "hideHardwareSpecs": false,
    "memoryGiB": 768,
    "name": "ml.g5.48xlarge",
    "vcpuNum": 192
   },
   {
    "_defaultOrder": 55,
    "_isFastLaunch": false,
    "category": "Accelerated computing",
    "gpuNum": 8,
    "hideHardwareSpecs": false,
    "memoryGiB": 1152,
    "name": "ml.p4d.24xlarge",
    "vcpuNum": 96
   },
   {
    "_defaultOrder": 56,
    "_isFastLaunch": false,
    "category": "Accelerated computing",
    "gpuNum": 8,
    "hideHardwareSpecs": false,
    "memoryGiB": 1152,
    "name": "ml.p4de.24xlarge",
    "vcpuNum": 96
   }
  ],
  "instance_type": "ml.t3.medium",
  "kernelspec": {
   "display_name": "Python 3 (Data Science 3.0)",
   "language": "python",
   "name": "python3__SAGEMAKER_INTERNAL__arn:aws:sagemaker:eu-north-1:243637512696:image/sagemaker-data-science-310-v1"
  },
  "language_info": {
   "codemirror_mode": {
    "name": "ipython",
    "version": 3
   },
   "file_extension": ".py",
   "mimetype": "text/x-python",
   "name": "python",
   "nbconvert_exporter": "python",
   "pygments_lexer": "ipython3",
   "version": "3.10.6"
  }
 },
 "nbformat": 4,
 "nbformat_minor": 5
}
